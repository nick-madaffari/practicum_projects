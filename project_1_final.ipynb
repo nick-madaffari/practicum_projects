{
 "cells": [
  {
   "cell_type": "markdown",
   "metadata": {},
   "source": [
    "## Analyzing borrowers’ risk of defaulting <a name=\"introduction\"></a>\n",
    "\n",
    "The goal of this project is to prepare a report for a bank’s loan division. We’ll need to find out if a customer’s marital status and number of children has an impact on whether they will default on a loan. The bank already has some data on customers’ credit worthiness.\n",
    "\n",
    "This report will be considered when building a **credit scoring** of a potential customer. A ** credit scoring ** is used to evaluate the ability of a potential borrower to repay their loan."
   ]
  },
  {
   "cell_type": "markdown",
   "metadata": {},
   "source": [
    "### Step 1: Open data file & look at general info <a name=\"step_1\"></a>"
   ]
  },
  {
   "cell_type": "code",
   "execution_count": 1,
   "metadata": {
    "scrolled": false
   },
   "outputs": [
    {
     "data": {
      "text/html": [
       "<div>\n",
       "<style scoped>\n",
       "    .dataframe tbody tr th:only-of-type {\n",
       "        vertical-align: middle;\n",
       "    }\n",
       "\n",
       "    .dataframe tbody tr th {\n",
       "        vertical-align: top;\n",
       "    }\n",
       "\n",
       "    .dataframe thead th {\n",
       "        text-align: right;\n",
       "    }\n",
       "</style>\n",
       "<table border=\"1\" class=\"dataframe\">\n",
       "  <thead>\n",
       "    <tr style=\"text-align: right;\">\n",
       "      <th></th>\n",
       "      <th>children</th>\n",
       "      <th>days_employed</th>\n",
       "      <th>dob_years</th>\n",
       "      <th>education</th>\n",
       "      <th>education_id</th>\n",
       "      <th>family_status</th>\n",
       "      <th>family_status_id</th>\n",
       "      <th>gender</th>\n",
       "      <th>income_type</th>\n",
       "      <th>debt</th>\n",
       "      <th>total_income</th>\n",
       "      <th>purpose</th>\n",
       "    </tr>\n",
       "  </thead>\n",
       "  <tbody>\n",
       "    <tr>\n",
       "      <th>0</th>\n",
       "      <td>1</td>\n",
       "      <td>-8437.673028</td>\n",
       "      <td>42</td>\n",
       "      <td>bachelor's degree</td>\n",
       "      <td>0</td>\n",
       "      <td>married</td>\n",
       "      <td>0</td>\n",
       "      <td>F</td>\n",
       "      <td>employee</td>\n",
       "      <td>0</td>\n",
       "      <td>40620.102</td>\n",
       "      <td>purchase of the house</td>\n",
       "    </tr>\n",
       "    <tr>\n",
       "      <th>1</th>\n",
       "      <td>1</td>\n",
       "      <td>-4024.803754</td>\n",
       "      <td>36</td>\n",
       "      <td>secondary education</td>\n",
       "      <td>1</td>\n",
       "      <td>married</td>\n",
       "      <td>0</td>\n",
       "      <td>F</td>\n",
       "      <td>employee</td>\n",
       "      <td>0</td>\n",
       "      <td>17932.802</td>\n",
       "      <td>car purchase</td>\n",
       "    </tr>\n",
       "    <tr>\n",
       "      <th>2</th>\n",
       "      <td>0</td>\n",
       "      <td>-5623.422610</td>\n",
       "      <td>33</td>\n",
       "      <td>Secondary Education</td>\n",
       "      <td>1</td>\n",
       "      <td>married</td>\n",
       "      <td>0</td>\n",
       "      <td>M</td>\n",
       "      <td>employee</td>\n",
       "      <td>0</td>\n",
       "      <td>23341.752</td>\n",
       "      <td>purchase of the house</td>\n",
       "    </tr>\n",
       "    <tr>\n",
       "      <th>3</th>\n",
       "      <td>3</td>\n",
       "      <td>-4124.747207</td>\n",
       "      <td>32</td>\n",
       "      <td>secondary education</td>\n",
       "      <td>1</td>\n",
       "      <td>married</td>\n",
       "      <td>0</td>\n",
       "      <td>M</td>\n",
       "      <td>employee</td>\n",
       "      <td>0</td>\n",
       "      <td>42820.568</td>\n",
       "      <td>supplementary education</td>\n",
       "    </tr>\n",
       "    <tr>\n",
       "      <th>4</th>\n",
       "      <td>0</td>\n",
       "      <td>340266.072047</td>\n",
       "      <td>53</td>\n",
       "      <td>secondary education</td>\n",
       "      <td>1</td>\n",
       "      <td>civil partnership</td>\n",
       "      <td>1</td>\n",
       "      <td>F</td>\n",
       "      <td>retiree</td>\n",
       "      <td>0</td>\n",
       "      <td>25378.572</td>\n",
       "      <td>to have a wedding</td>\n",
       "    </tr>\n",
       "    <tr>\n",
       "      <th>5</th>\n",
       "      <td>0</td>\n",
       "      <td>-926.185831</td>\n",
       "      <td>27</td>\n",
       "      <td>bachelor's degree</td>\n",
       "      <td>0</td>\n",
       "      <td>civil partnership</td>\n",
       "      <td>1</td>\n",
       "      <td>M</td>\n",
       "      <td>business</td>\n",
       "      <td>0</td>\n",
       "      <td>40922.170</td>\n",
       "      <td>purchase of the house</td>\n",
       "    </tr>\n",
       "    <tr>\n",
       "      <th>6</th>\n",
       "      <td>0</td>\n",
       "      <td>-2879.202052</td>\n",
       "      <td>43</td>\n",
       "      <td>bachelor's degree</td>\n",
       "      <td>0</td>\n",
       "      <td>married</td>\n",
       "      <td>0</td>\n",
       "      <td>F</td>\n",
       "      <td>business</td>\n",
       "      <td>0</td>\n",
       "      <td>38484.156</td>\n",
       "      <td>housing transactions</td>\n",
       "    </tr>\n",
       "    <tr>\n",
       "      <th>7</th>\n",
       "      <td>0</td>\n",
       "      <td>-152.779569</td>\n",
       "      <td>50</td>\n",
       "      <td>SECONDARY EDUCATION</td>\n",
       "      <td>1</td>\n",
       "      <td>married</td>\n",
       "      <td>0</td>\n",
       "      <td>M</td>\n",
       "      <td>employee</td>\n",
       "      <td>0</td>\n",
       "      <td>21731.829</td>\n",
       "      <td>education</td>\n",
       "    </tr>\n",
       "    <tr>\n",
       "      <th>8</th>\n",
       "      <td>2</td>\n",
       "      <td>-6929.865299</td>\n",
       "      <td>35</td>\n",
       "      <td>BACHELOR'S DEGREE</td>\n",
       "      <td>0</td>\n",
       "      <td>civil partnership</td>\n",
       "      <td>1</td>\n",
       "      <td>F</td>\n",
       "      <td>employee</td>\n",
       "      <td>0</td>\n",
       "      <td>15337.093</td>\n",
       "      <td>having a wedding</td>\n",
       "    </tr>\n",
       "    <tr>\n",
       "      <th>9</th>\n",
       "      <td>0</td>\n",
       "      <td>-2188.756445</td>\n",
       "      <td>41</td>\n",
       "      <td>secondary education</td>\n",
       "      <td>1</td>\n",
       "      <td>married</td>\n",
       "      <td>0</td>\n",
       "      <td>M</td>\n",
       "      <td>employee</td>\n",
       "      <td>0</td>\n",
       "      <td>23108.150</td>\n",
       "      <td>purchase of the house for my family</td>\n",
       "    </tr>\n",
       "  </tbody>\n",
       "</table>\n",
       "</div>"
      ],
      "text/plain": [
       "   children  days_employed  dob_years            education  education_id  \\\n",
       "0         1   -8437.673028         42    bachelor's degree             0   \n",
       "1         1   -4024.803754         36  secondary education             1   \n",
       "2         0   -5623.422610         33  Secondary Education             1   \n",
       "3         3   -4124.747207         32  secondary education             1   \n",
       "4         0  340266.072047         53  secondary education             1   \n",
       "5         0    -926.185831         27    bachelor's degree             0   \n",
       "6         0   -2879.202052         43    bachelor's degree             0   \n",
       "7         0    -152.779569         50  SECONDARY EDUCATION             1   \n",
       "8         2   -6929.865299         35    BACHELOR'S DEGREE             0   \n",
       "9         0   -2188.756445         41  secondary education             1   \n",
       "\n",
       "       family_status  family_status_id gender income_type  debt  total_income  \\\n",
       "0            married                 0      F    employee     0     40620.102   \n",
       "1            married                 0      F    employee     0     17932.802   \n",
       "2            married                 0      M    employee     0     23341.752   \n",
       "3            married                 0      M    employee     0     42820.568   \n",
       "4  civil partnership                 1      F     retiree     0     25378.572   \n",
       "5  civil partnership                 1      M    business     0     40922.170   \n",
       "6            married                 0      F    business     0     38484.156   \n",
       "7            married                 0      M    employee     0     21731.829   \n",
       "8  civil partnership                 1      F    employee     0     15337.093   \n",
       "9            married                 0      M    employee     0     23108.150   \n",
       "\n",
       "                               purpose  \n",
       "0                purchase of the house  \n",
       "1                         car purchase  \n",
       "2                purchase of the house  \n",
       "3              supplementary education  \n",
       "4                    to have a wedding  \n",
       "5                purchase of the house  \n",
       "6                 housing transactions  \n",
       "7                            education  \n",
       "8                     having a wedding  \n",
       "9  purchase of the house for my family  "
      ]
     },
     "execution_count": 1,
     "metadata": {},
     "output_type": "execute_result"
    }
   ],
   "source": [
    "import pandas as pd\n",
    "import matplotlib.pyplot as plt\n",
    "from nltk.stem import SnowballStemmer\n",
    "from collections import Counter\n",
    "\n",
    "# try-except block handles errors that occur from changing file directories\n",
    "try:\n",
    "    data = pd.read_csv('credit_scoring_eng.csv')\n",
    "except:\n",
    "    data = pd.read_csv('/datasets/credit_scoring_eng.csv')\n",
    "\n",
    "\n",
    "# print first 10 rows of data    \n",
    "data.head(10)"
   ]
  },
  {
   "cell_type": "code",
   "execution_count": 2,
   "metadata": {},
   "outputs": [
    {
     "name": "stdout",
     "output_type": "stream",
     "text": [
      "<class 'pandas.core.frame.DataFrame'>\n",
      "RangeIndex: 21525 entries, 0 to 21524\n",
      "Data columns (total 12 columns):\n",
      " #   Column            Non-Null Count  Dtype  \n",
      "---  ------            --------------  -----  \n",
      " 0   children          21525 non-null  int64  \n",
      " 1   days_employed     19351 non-null  float64\n",
      " 2   dob_years         21525 non-null  int64  \n",
      " 3   education         21525 non-null  object \n",
      " 4   education_id      21525 non-null  int64  \n",
      " 5   family_status     21525 non-null  object \n",
      " 6   family_status_id  21525 non-null  int64  \n",
      " 7   gender            21525 non-null  object \n",
      " 8   income_type       21525 non-null  object \n",
      " 9   debt              21525 non-null  int64  \n",
      " 10  total_income      19351 non-null  float64\n",
      " 11  purpose           21525 non-null  object \n",
      "dtypes: float64(2), int64(5), object(5)\n",
      "memory usage: 2.0+ MB\n",
      "\n",
      "\n",
      "           children  days_employed     dob_years  education_id  \\\n",
      "count  21525.000000   19351.000000  21525.000000  21525.000000   \n",
      "mean       0.538908   63046.497661     43.293380      0.817236   \n",
      "std        1.381587  140827.311974     12.574584      0.548138   \n",
      "min       -1.000000  -18388.949901      0.000000      0.000000   \n",
      "25%        0.000000   -2747.423625     33.000000      1.000000   \n",
      "50%        0.000000   -1203.369529     42.000000      1.000000   \n",
      "75%        1.000000    -291.095954     53.000000      1.000000   \n",
      "max       20.000000  401755.400475     75.000000      4.000000   \n",
      "\n",
      "       family_status_id          debt   total_income  \n",
      "count      21525.000000  21525.000000   19351.000000  \n",
      "mean           0.972544      0.080883   26787.568355  \n",
      "std            1.420324      0.272661   16475.450632  \n",
      "min            0.000000      0.000000    3306.762000  \n",
      "25%            0.000000      0.000000   16488.504500  \n",
      "50%            0.000000      0.000000   23202.870000  \n",
      "75%            1.000000      0.000000   32549.611000  \n",
      "max            4.000000      1.000000  362496.645000  \n"
     ]
    }
   ],
   "source": [
    "# print general information & statistics about the data\n",
    "\n",
    "data.info()\n",
    "print('')\n",
    "print('')\n",
    "print(data.describe())"
   ]
  },
  {
   "cell_type": "markdown",
   "metadata": {},
   "source": [
    "#### Conclusion <a name=\"step_1_conclusion\"></a>"
   ]
  },
  {
   "cell_type": "markdown",
   "metadata": {},
   "source": [
    "There are missing values in the 'total_income' column and 'days_employed' column that we need address. The 'days_employed' column also has negative values in it. This could be because the survey asked for start date of employment and subtracted the date the survey was taken, resulting in negative days. There are also oultiers in these columns that should be accounted for further into the analysis. The data type in these columns should be changed to int64 type since decimal precision isn't necessary for this data.\n",
    "\n",
    "Some other things to note include max children at 20 and minumum age at 0 which may simply be typos. We also need to address duplicates that can occur due to the use of uppercase and lowercase characters to represent the same string in some columns."
   ]
  },
  {
   "cell_type": "markdown",
   "metadata": {},
   "source": [
    "### Step 2: Data preprocessing <a name=\"step_2\"></a>"
   ]
  },
  {
   "cell_type": "markdown",
   "metadata": {},
   "source": [
    "#### Processing missing values <a name=\"step_2_1\"></a>"
   ]
  },
  {
   "cell_type": "code",
   "execution_count": 3,
   "metadata": {},
   "outputs": [
    {
     "name": "stdout",
     "output_type": "stream",
     "text": [
      "children               0\n",
      "days_employed       2174\n",
      "dob_years              0\n",
      "education              0\n",
      "education_id           0\n",
      "family_status          0\n",
      "family_status_id       0\n",
      "gender                 0\n",
      "income_type            0\n",
      "debt                   0\n",
      "total_income        2174\n",
      "purpose                0\n",
      "dtype: int64\n"
     ]
    }
   ],
   "source": [
    "# identify & fill missing values\n",
    "      \n",
    "print(data.isnull().sum())"
   ]
  },
  {
   "cell_type": "markdown",
   "metadata": {},
   "source": [
    "We can see from the above line of code that all rows that are missing values in the 'total_income' column are also missing values in the 'days_employed' column, and that the sum of these rows is the difference between total number of rows in the set and non-null values as indicated in the data info table.\n",
    "\n",
    "Some possible reasons why these values were left out:\n",
    "\n",
    "- these people are unemployed and have income that does not come from employment\n",
    "- if the data came from a survey, maybe these people chose to leave this question blank"
   ]
  },
  {
   "cell_type": "code",
   "execution_count": 4,
   "metadata": {},
   "outputs": [
    {
     "name": "stdout",
     "output_type": "stream",
     "text": [
      "employee         1105\n",
      "business          508\n",
      "retiree           413\n",
      "civil servant     147\n",
      "entrepreneur        1\n",
      "Name: income_type, dtype: int64\n"
     ]
    }
   ],
   "source": [
    "# checking sources of income for customers with missing values\n",
    "\n",
    "print(data[(data['total_income'].isnull() == True) & (data['days_employed'].isnull() == True)]['income_type'].value_counts())"
   ]
  },
  {
   "cell_type": "markdown",
   "metadata": {},
   "source": [
    "A deeper look at the income types for these indivuals indicates that the first case is not true, as most of these people are employees or business owners. The likely scenario is that these people didn't feel comfortable disclosing this information and chose to leave the field blank. We can check to see if there is any significant deviation in median income between males and females, and if so, fill these empty values based on the individual's gender. We use median here because, as we saw in the beginning, there are outliers that will skew the mean value."
   ]
  },
  {
   "cell_type": "code",
   "execution_count": 5,
   "metadata": {},
   "outputs": [
    {
     "name": "stdout",
     "output_type": "stream",
     "text": [
      "Median male income: 26834\n",
      "Median female income: 21465\n"
     ]
    }
   ],
   "source": [
    "# finding median income for males and females\n",
    "\n",
    "income_male_median = data[(data['total_income'].isnull() == False) & (data['gender'] == 'M')]['total_income'].median()\n",
    "print('Median male income: {:.0f}'.format(income_male_median))\n",
    "\n",
    "income_female_median = data[(data['total_income'].isnull() == False) & (data['gender'] == 'F')]['total_income'].median()\n",
    "print('Median female income: {:.0f}'.format(income_female_median))"
   ]
  },
  {
   "cell_type": "markdown",
   "metadata": {},
   "source": [
    "Males do indeed make more than females. We'll uses these median values to fill the missing values in the 'total_income' column with the .loc method."
   ]
  },
  {
   "cell_type": "code",
   "execution_count": 6,
   "metadata": {},
   "outputs": [
    {
     "name": "stdout",
     "output_type": "stream",
     "text": [
      "<class 'pandas.core.frame.DataFrame'>\n",
      "RangeIndex: 21525 entries, 0 to 21524\n",
      "Data columns (total 12 columns):\n",
      " #   Column            Non-Null Count  Dtype  \n",
      "---  ------            --------------  -----  \n",
      " 0   children          21525 non-null  int64  \n",
      " 1   days_employed     19351 non-null  float64\n",
      " 2   dob_years         21525 non-null  int64  \n",
      " 3   education         21525 non-null  object \n",
      " 4   education_id      21525 non-null  int64  \n",
      " 5   family_status     21525 non-null  object \n",
      " 6   family_status_id  21525 non-null  int64  \n",
      " 7   gender            21525 non-null  object \n",
      " 8   income_type       21525 non-null  object \n",
      " 9   debt              21525 non-null  int64  \n",
      " 10  total_income      21525 non-null  float64\n",
      " 11  purpose           21525 non-null  object \n",
      "dtypes: float64(2), int64(5), object(5)\n",
      "memory usage: 2.0+ MB\n"
     ]
    }
   ],
   "source": [
    "# using .loc to replace missing 'total_income' values & checking results\n",
    "\n",
    "data.loc[(data['gender'] == 'M') & (data['total_income'].isnull() == True), 'total_income'] = income_male_median\n",
    "data.loc[(data['gender'] == 'F') & (data['total_income'].isnull() == True), 'total_income'] = income_female_median\n",
    "data.info()"
   ]
  },
  {
   "cell_type": "markdown",
   "metadata": {},
   "source": [
    "#### Replacing negative values <a name=\"step_2_2\"></a>\n",
    "As mentioned previously, we have negative values in the 'days_employed' column that need to be turned to positive values. We can use an if-else statement that finds negative values in the column, and then makes them postive. First, we'll write a function that achieves this, and then use the .apply() method to make the change."
   ]
  },
  {
   "cell_type": "code",
   "execution_count": 7,
   "metadata": {},
   "outputs": [
    {
     "data": {
      "text/html": [
       "<div>\n",
       "<style scoped>\n",
       "    .dataframe tbody tr th:only-of-type {\n",
       "        vertical-align: middle;\n",
       "    }\n",
       "\n",
       "    .dataframe tbody tr th {\n",
       "        vertical-align: top;\n",
       "    }\n",
       "\n",
       "    .dataframe thead th {\n",
       "        text-align: right;\n",
       "    }\n",
       "</style>\n",
       "<table border=\"1\" class=\"dataframe\">\n",
       "  <thead>\n",
       "    <tr style=\"text-align: right;\">\n",
       "      <th></th>\n",
       "      <th>children</th>\n",
       "      <th>days_employed</th>\n",
       "      <th>dob_years</th>\n",
       "      <th>education</th>\n",
       "      <th>education_id</th>\n",
       "      <th>family_status</th>\n",
       "      <th>family_status_id</th>\n",
       "      <th>gender</th>\n",
       "      <th>income_type</th>\n",
       "      <th>debt</th>\n",
       "      <th>total_income</th>\n",
       "      <th>purpose</th>\n",
       "    </tr>\n",
       "  </thead>\n",
       "  <tbody>\n",
       "    <tr>\n",
       "      <th>0</th>\n",
       "      <td>1</td>\n",
       "      <td>8437.673028</td>\n",
       "      <td>42</td>\n",
       "      <td>bachelor's degree</td>\n",
       "      <td>0</td>\n",
       "      <td>married</td>\n",
       "      <td>0</td>\n",
       "      <td>F</td>\n",
       "      <td>employee</td>\n",
       "      <td>0</td>\n",
       "      <td>40620.102</td>\n",
       "      <td>purchase of the house</td>\n",
       "    </tr>\n",
       "    <tr>\n",
       "      <th>1</th>\n",
       "      <td>1</td>\n",
       "      <td>4024.803754</td>\n",
       "      <td>36</td>\n",
       "      <td>secondary education</td>\n",
       "      <td>1</td>\n",
       "      <td>married</td>\n",
       "      <td>0</td>\n",
       "      <td>F</td>\n",
       "      <td>employee</td>\n",
       "      <td>0</td>\n",
       "      <td>17932.802</td>\n",
       "      <td>car purchase</td>\n",
       "    </tr>\n",
       "    <tr>\n",
       "      <th>2</th>\n",
       "      <td>0</td>\n",
       "      <td>5623.422610</td>\n",
       "      <td>33</td>\n",
       "      <td>Secondary Education</td>\n",
       "      <td>1</td>\n",
       "      <td>married</td>\n",
       "      <td>0</td>\n",
       "      <td>M</td>\n",
       "      <td>employee</td>\n",
       "      <td>0</td>\n",
       "      <td>23341.752</td>\n",
       "      <td>purchase of the house</td>\n",
       "    </tr>\n",
       "    <tr>\n",
       "      <th>3</th>\n",
       "      <td>3</td>\n",
       "      <td>4124.747207</td>\n",
       "      <td>32</td>\n",
       "      <td>secondary education</td>\n",
       "      <td>1</td>\n",
       "      <td>married</td>\n",
       "      <td>0</td>\n",
       "      <td>M</td>\n",
       "      <td>employee</td>\n",
       "      <td>0</td>\n",
       "      <td>42820.568</td>\n",
       "      <td>supplementary education</td>\n",
       "    </tr>\n",
       "    <tr>\n",
       "      <th>4</th>\n",
       "      <td>0</td>\n",
       "      <td>340266.072047</td>\n",
       "      <td>53</td>\n",
       "      <td>secondary education</td>\n",
       "      <td>1</td>\n",
       "      <td>civil partnership</td>\n",
       "      <td>1</td>\n",
       "      <td>F</td>\n",
       "      <td>retiree</td>\n",
       "      <td>0</td>\n",
       "      <td>25378.572</td>\n",
       "      <td>to have a wedding</td>\n",
       "    </tr>\n",
       "  </tbody>\n",
       "</table>\n",
       "</div>"
      ],
      "text/plain": [
       "   children  days_employed  dob_years            education  education_id  \\\n",
       "0         1    8437.673028         42    bachelor's degree             0   \n",
       "1         1    4024.803754         36  secondary education             1   \n",
       "2         0    5623.422610         33  Secondary Education             1   \n",
       "3         3    4124.747207         32  secondary education             1   \n",
       "4         0  340266.072047         53  secondary education             1   \n",
       "\n",
       "       family_status  family_status_id gender income_type  debt  total_income  \\\n",
       "0            married                 0      F    employee     0     40620.102   \n",
       "1            married                 0      F    employee     0     17932.802   \n",
       "2            married                 0      M    employee     0     23341.752   \n",
       "3            married                 0      M    employee     0     42820.568   \n",
       "4  civil partnership                 1      F     retiree     0     25378.572   \n",
       "\n",
       "                   purpose  \n",
       "0    purchase of the house  \n",
       "1             car purchase  \n",
       "2    purchase of the house  \n",
       "3  supplementary education  \n",
       "4        to have a wedding  "
      ]
     },
     "execution_count": 7,
     "metadata": {},
     "output_type": "execute_result"
    }
   ],
   "source": [
    "# write function, apply it to 'days_employed' column, & check results\n",
    "\n",
    "def make_positive(row):\n",
    "    if row['days_employed'] < 0:\n",
    "        return row['days_employed'] * -1\n",
    "    else:\n",
    "        return row['days_employed']\n",
    "    \n",
    "data['days_employed'] = data.apply(make_positive, axis=1)\n",
    "data.head(5)"
   ]
  },
  {
   "cell_type": "markdown",
   "metadata": {},
   "source": [
    "We can see the negative values have been changed to positive values, while the positive values have remained the same. Now, we can address the missing values in this column. Days worked for retirees is most likely to be similar, so we can take the median of that group and fill it in for retirees who are missing that data. For everyone else, we can group by age and take the median by age group. Then we can apply this median to missing values based on age."
   ]
  },
  {
   "cell_type": "markdown",
   "metadata": {},
   "source": [
    "#### Processing missing values <a name=\"step_2_3\"></a>"
   ]
  },
  {
   "cell_type": "code",
   "execution_count": 8,
   "metadata": {},
   "outputs": [
    {
     "name": "stdout",
     "output_type": "stream",
     "text": [
      "Median days employed for retirees: 365213 days\n"
     ]
    }
   ],
   "source": [
    "# finding median days employed for retirees\n",
    "\n",
    "days_employed_retiree_median = data[(data['days_employed'].isnull() == False) & (data['income_type'] == 'retiree')]\\\n",
    "['days_employed'].median()\n",
    "\n",
    "print('Median days employed for retirees: {:.0f} days'.format(days_employed_retiree_median))"
   ]
  },
  {
   "cell_type": "markdown",
   "metadata": {},
   "source": [
    "This data doesn't make much sense, since 365,213 days eqauates to 1,000 years of work before retirement. It's not that bad just yet... the most likely reason is that these values are in hours instead of days. We should divide this median by 24 and then replace the missing values for retirees."
   ]
  },
  {
   "cell_type": "code",
   "execution_count": 9,
   "metadata": {},
   "outputs": [
    {
     "name": "stdout",
     "output_type": "stream",
     "text": [
      "<class 'pandas.core.frame.DataFrame'>\n",
      "RangeIndex: 21525 entries, 0 to 21524\n",
      "Data columns (total 12 columns):\n",
      " #   Column            Non-Null Count  Dtype  \n",
      "---  ------            --------------  -----  \n",
      " 0   children          21525 non-null  int64  \n",
      " 1   days_employed     19764 non-null  float64\n",
      " 2   dob_years         21525 non-null  int64  \n",
      " 3   education         21525 non-null  object \n",
      " 4   education_id      21525 non-null  int64  \n",
      " 5   family_status     21525 non-null  object \n",
      " 6   family_status_id  21525 non-null  int64  \n",
      " 7   gender            21525 non-null  object \n",
      " 8   income_type       21525 non-null  object \n",
      " 9   debt              21525 non-null  int64  \n",
      " 10  total_income      21525 non-null  float64\n",
      " 11  purpose           21525 non-null  object \n",
      "dtypes: float64(2), int64(5), object(5)\n",
      "memory usage: 2.0+ MB\n"
     ]
    }
   ],
   "source": [
    "# using .loc to replace missing 'days_employed' values for retirees & checking results\n",
    "\n",
    "days_employed_retiree_median = days_employed_retiree_median / 24\n",
    "\n",
    "data.loc[(data['income_type'] == 'retiree') & (data['days_employed'].isnull() == True), 'days_employed']\\\n",
    "= days_employed_retiree_median\n",
    "\n",
    "data.info()"
   ]
  },
  {
   "cell_type": "markdown",
   "metadata": {},
   "source": [
    "We can see the 413 missing values for retirees has been filled with the median days employed for that group. There are still retirees whose days employed data is in hours though, so let's convert those to days using another function and the .apply method."
   ]
  },
  {
   "cell_type": "code",
   "execution_count": 10,
   "metadata": {},
   "outputs": [
    {
     "name": "stdout",
     "output_type": "stream",
     "text": [
      "retiree       3443\n",
      "unemployed       2\n",
      "Name: income_type, dtype: int64\n"
     ]
    }
   ],
   "source": [
    "# count occurrences where days employed is over 25000 (68 years)\n",
    "\n",
    "print(data[data['days_employed'] > 25000]['income_type'].value_counts())"
   ]
  },
  {
   "cell_type": "code",
   "execution_count": 11,
   "metadata": {},
   "outputs": [
    {
     "name": "stdout",
     "output_type": "stream",
     "text": [
      "count    19764.000000\n",
      "mean      4862.634624\n",
      "std       5511.378051\n",
      "min         24.141633\n",
      "25%        943.506167\n",
      "50%       2269.733207\n",
      "75%       6232.644084\n",
      "max      18388.949901\n",
      "Name: days_employed, dtype: float64\n"
     ]
    }
   ],
   "source": [
    "# write function, apply it to 'days_employed' column, & check results\n",
    "\n",
    "def hours_to_days(row):\n",
    "    if row['days_employed'] > 25000:\n",
    "        return row['days_employed'] / 24\n",
    "    else:\n",
    "        return row['days_employed']\n",
    "    \n",
    "data['days_employed'] = data.apply(hours_to_days, axis=1)\n",
    "print(data.describe()['days_employed'])"
   ]
  },
  {
   "cell_type": "markdown",
   "metadata": {},
   "source": [
    "The max days employed is now 18388, which equates to 50 years. Much more reasonable. Next, we'll find median days employed by age group and fill these missing values accordingly. Let's take a look at a histogram of the age column for a better idea of what age groups we should define."
   ]
  },
  {
   "cell_type": "code",
   "execution_count": 12,
   "metadata": {},
   "outputs": [
    {
     "data": {
      "image/png": "[encoded data removed]",
      "text/plain": [
       "<Figure size 432x288 with 1 Axes>"
      ]
     },
     "metadata": {
      "needs_background": "light"
     },
     "output_type": "display_data"
    }
   ],
   "source": [
    "# plot & label histogram\n",
    "\n",
    "plt.hist(data['dob_years'], bins=75)\n",
    "plt.xlabel('Age', fontsize=12)\n",
    "plt.ylabel('Frequency', fontsize=12)\n",
    "plt.title('Customer Age', fontsize=15)\n",
    "plt.show()"
   ]
  },
  {
   "cell_type": "markdown",
   "metadata": {},
   "source": [
    "Ten year increments from age 20 to age 70 should do. Anything below 20 or above 70 can get the median value of the closest grouping."
   ]
  },
  {
   "cell_type": "code",
   "execution_count": 13,
   "metadata": {},
   "outputs": [
    {
     "name": "stdout",
     "output_type": "stream",
     "text": [
      "Median days employed, 20 to 30 age group: 1007\n",
      "Median days employed, 30 to 40 age group: 1603\n",
      "Median days employed, 40 to 50 age group: 2119\n",
      "Median days employed, 50 to 60 age group: 5424\n",
      "Median days employed, 60 to 70 age group: 14959\n"
     ]
    }
   ],
   "source": [
    "# calculating median number of days employed for each age group\n",
    "\n",
    "days_employed_2030_median = data[(data['dob_years'] >= 20) & (data['dob_years'] < 30)]['days_employed'].median()\n",
    "days_employed_3040_median = data[(data['dob_years'] >= 30) & (data['dob_years'] < 40)]['days_employed'].median()\n",
    "days_employed_4050_median = data[(data['dob_years'] >= 40) & (data['dob_years'] < 50)]['days_employed'].median()\n",
    "days_employed_5060_median = data[(data['dob_years'] >= 50) & (data['dob_years'] < 60)]['days_employed'].median()\n",
    "days_employed_6070_median = data[(data['dob_years'] >= 60) & (data['dob_years'] < 70)]['days_employed'].median()\n",
    "\n",
    "print('Median days employed, 20 to 30 age group: {:.0f}'.format(days_employed_2030_median))\n",
    "print('Median days employed, 30 to 40 age group: {:.0f}'.format(days_employed_3040_median))\n",
    "print('Median days employed, 40 to 50 age group: {:.0f}'.format(days_employed_4050_median))\n",
    "print('Median days employed, 50 to 60 age group: {:.0f}'.format(days_employed_5060_median))\n",
    "print('Median days employed, 60 to 70 age group: {:.0f}'.format(days_employed_6070_median))"
   ]
  },
  {
   "cell_type": "markdown",
   "metadata": {},
   "source": [
    "Now, let's fill in the rest of these missing 'days_employed' values depending on which age range they fall in under once again with the .loc method."
   ]
  },
  {
   "cell_type": "code",
   "execution_count": 14,
   "metadata": {},
   "outputs": [
    {
     "name": "stdout",
     "output_type": "stream",
     "text": [
      "<class 'pandas.core.frame.DataFrame'>\n",
      "RangeIndex: 21525 entries, 0 to 21524\n",
      "Data columns (total 12 columns):\n",
      " #   Column            Non-Null Count  Dtype  \n",
      "---  ------            --------------  -----  \n",
      " 0   children          21525 non-null  int64  \n",
      " 1   days_employed     21525 non-null  float64\n",
      " 2   dob_years         21525 non-null  int64  \n",
      " 3   education         21525 non-null  object \n",
      " 4   education_id      21525 non-null  int64  \n",
      " 5   family_status     21525 non-null  object \n",
      " 6   family_status_id  21525 non-null  int64  \n",
      " 7   gender            21525 non-null  object \n",
      " 8   income_type       21525 non-null  object \n",
      " 9   debt              21525 non-null  int64  \n",
      " 10  total_income      21525 non-null  float64\n",
      " 11  purpose           21525 non-null  object \n",
      "dtypes: float64(2), int64(5), object(5)\n",
      "memory usage: 2.0+ MB\n"
     ]
    }
   ],
   "source": [
    "# filling in median days employed for each age group & checking results\n",
    "\n",
    "data.loc[(data['days_employed'].isnull() == True) & (data['dob_years'] < 30), 'days_employed'] = days_employed_2030_median\n",
    "\n",
    "data.loc[(data['days_employed'].isnull() == True) & (data['dob_years'] >= 30) & (data['dob_years'] < 40), 'days_employed']\\\n",
    "= days_employed_3040_median\n",
    "\n",
    "data.loc[(data['days_employed'].isnull() == True) & (data['dob_years'] >= 40) & (data['dob_years'] < 50), 'days_employed']\\\n",
    "= days_employed_4050_median\n",
    "\n",
    "data.loc[(data['days_employed'].isnull() == True) & (data['dob_years'] >= 50) & (data['dob_years'] < 60), 'days_employed']\\\n",
    "= days_employed_5060_median\n",
    "\n",
    "data.loc[(data['days_employed'].isnull() == True) & (data['dob_years'] >= 60), 'days_employed'] = days_employed_6070_median\n",
    "\n",
    "data.info()"
   ]
  },
  {
   "cell_type": "markdown",
   "metadata": {},
   "source": [
    "#### Conclusion <a name=\"step_1_conclusion\"></a>"
   ]
  },
  {
   "cell_type": "markdown",
   "metadata": {},
   "source": [
    "Let's summarize what's been done to the raw data so far:\n",
    "- filled missing 'total_income' data with medians based on gender\n",
    "- turned negative values in 'days_employed' column to positive values\n",
    "- filled missing 'days_worked' values for retirees with median value for retirees\n",
    "- turned 'days_employed' data values over 25000 into days instead of hours\n",
    "- filled missing 'days_worked' values for age groups with median value for each age group"
   ]
  },
  {
   "cell_type": "markdown",
   "metadata": {},
   "source": [
    "### Step 3: Data type replacement <a name=\"step_3\"></a>"
   ]
  },
  {
   "cell_type": "markdown",
   "metadata": {},
   "source": [
    "Next, we'll replace the two float64 datatypes with int64 since, as we mentioned earlier, we don't need decimal precision for this data. We can use the .astype() method to change the data types of these two columns and check the results with .info."
   ]
  },
  {
   "cell_type": "code",
   "execution_count": 15,
   "metadata": {},
   "outputs": [
    {
     "name": "stdout",
     "output_type": "stream",
     "text": [
      "<class 'pandas.core.frame.DataFrame'>\n",
      "RangeIndex: 21525 entries, 0 to 21524\n",
      "Data columns (total 12 columns):\n",
      " #   Column            Non-Null Count  Dtype \n",
      "---  ------            --------------  ----- \n",
      " 0   children          21525 non-null  int64 \n",
      " 1   days_employed     21525 non-null  int64 \n",
      " 2   dob_years         21525 non-null  int64 \n",
      " 3   education         21525 non-null  object\n",
      " 4   education_id      21525 non-null  int64 \n",
      " 5   family_status     21525 non-null  object\n",
      " 6   family_status_id  21525 non-null  int64 \n",
      " 7   gender            21525 non-null  object\n",
      " 8   income_type       21525 non-null  object\n",
      " 9   debt              21525 non-null  int64 \n",
      " 10  total_income      21525 non-null  int64 \n",
      " 11  purpose           21525 non-null  object\n",
      "dtypes: int64(7), object(5)\n",
      "memory usage: 2.0+ MB\n"
     ]
    }
   ],
   "source": [
    "# change data type using .astytpe method\n",
    "\n",
    "data['days_employed'] = data['days_employed'].astype('int64')\n",
    "data['total_income'] = data['total_income'].astype('int64')\n",
    "data.info()"
   ]
  },
  {
   "cell_type": "markdown",
   "metadata": {},
   "source": [
    "#### Conclusion <a name=\"step_3_conclusion\"></a>"
   ]
  },
  {
   "cell_type": "markdown",
   "metadata": {},
   "source": [
    "We chose the .astype() method here because it's better suited than our other option, the to_numeric() method. The to_numeric() method changes a string to a float, while the .astype() method can change floats to integers."
   ]
  },
  {
   "cell_type": "markdown",
   "metadata": {},
   "source": [
    "### Step 4: Processing duplicates <a name=\"step_4\"></a>"
   ]
  },
  {
   "cell_type": "markdown",
   "metadata": {},
   "source": [
    "There are a few duplicates in string data where two or more strings represent the same information in different ways. This could be because of the way the data was collected. If it was through some type of online survey where participants fill in fields on their own, then we could expect to get different combinations of words that ultimately have the same meaning. Let's take a look at the columns containing qualitative data."
   ]
  },
  {
   "cell_type": "code",
   "execution_count": 16,
   "metadata": {},
   "outputs": [
    {
     "name": "stdout",
     "output_type": "stream",
     "text": [
      "----- EDUCATION -----\n",
      "secondary education    13750\n",
      "bachelor's degree       4718\n",
      "SECONDARY EDUCATION      772\n",
      "Secondary Education      711\n",
      "some college             668\n",
      "BACHELOR'S DEGREE        274\n",
      "Bachelor's Degree        268\n",
      "primary education        250\n",
      "Some College              47\n",
      "SOME COLLEGE              29\n",
      "PRIMARY EDUCATION         17\n",
      "Primary Education         15\n",
      "graduate degree            4\n",
      "GRADUATE DEGREE            1\n",
      "Graduate Degree            1\n",
      "Name: education, dtype: int64\n",
      "\n",
      "----- FAMILY_STATUS -----\n",
      "married              12380\n",
      "civil partnership     4177\n",
      "unmarried             2813\n",
      "divorced              1195\n",
      "widow / widower        960\n",
      "Name: family_status, dtype: int64\n",
      "\n",
      "----- GENDER -----\n",
      "F      14236\n",
      "M       7288\n",
      "XNA        1\n",
      "Name: gender, dtype: int64\n",
      "\n",
      "----- INCOME_TYPE -----\n",
      "employee                       11119\n",
      "business                        5085\n",
      "retiree                         3856\n",
      "civil servant                   1459\n",
      "unemployed                         2\n",
      "entrepreneur                       2\n",
      "paternity / maternity leave        1\n",
      "student                            1\n",
      "Name: income_type, dtype: int64\n",
      "\n",
      "----- PURPOSE -----\n",
      "wedding ceremony                            797\n",
      "having a wedding                            777\n",
      "to have a wedding                           774\n",
      "real estate transactions                    676\n",
      "buy commercial real estate                  664\n",
      "housing transactions                        653\n",
      "buying property for renting out             653\n",
      "transactions with commercial real estate    651\n",
      "purchase of the house                       647\n",
      "housing                                     647\n",
      "purchase of the house for my family         641\n",
      "construction of own property                635\n",
      "property                                    634\n",
      "transactions with my real estate            630\n",
      "building a real estate                      626\n",
      "buy real estate                             624\n",
      "purchase of my own house                    620\n",
      "building a property                         620\n",
      "housing renovation                          612\n",
      "buy residential real estate                 607\n",
      "buying my own car                           505\n",
      "going to university                         496\n",
      "car                                         495\n",
      "second-hand car purchase                    489\n",
      "to own a car                                480\n",
      "buying a second-hand car                    479\n",
      "cars                                        478\n",
      "to buy a car                                472\n",
      "supplementary education                     462\n",
      "car purchase                                462\n",
      "purchase of a car                           455\n",
      "university education                        453\n",
      "to get a supplementary education            447\n",
      "education                                   447\n",
      "getting an education                        443\n",
      "profile education                           436\n",
      "getting higher education                    426\n",
      "to become educated                          412\n",
      "Name: purpose, dtype: int64\n",
      "\n"
     ]
    }
   ],
   "source": [
    "# make a list of qualitative columns & print number of unique values for each\n",
    "\n",
    "qualitative_cols = ['education', 'family_status', 'gender', 'income_type', 'purpose']\n",
    "for col in qualitative_cols:\n",
    "    print('----- ' + col.upper() + ' -----')\n",
    "    print(data[col].value_counts())\n",
    "    print('')"
   ]
  },
  {
   "cell_type": "markdown",
   "metadata": {},
   "source": [
    "From the answers given in each column, we can see there are duplicates in the 'education' column, where the same data is represented in a different way. We need to use the .lower() method to make all of the answers lowercase."
   ]
  },
  {
   "cell_type": "code",
   "execution_count": 17,
   "metadata": {
    "scrolled": false
   },
   "outputs": [
    {
     "name": "stdout",
     "output_type": "stream",
     "text": [
      "----- EDUCATION -----\n",
      "secondary education    15233\n",
      "bachelor's degree       5260\n",
      "some college             744\n",
      "primary education        282\n",
      "graduate degree            6\n",
      "Name: education, dtype: int64\n"
     ]
    }
   ],
   "source": [
    "# change all values in 'education' column to lowercase & print list of unique values\n",
    "\n",
    "data['education'] = data['education'].str.lower()\n",
    "print('----- EDUCATION -----')\n",
    "print(data['education'].value_counts())"
   ]
  },
  {
   "cell_type": "code",
   "execution_count": 18,
   "metadata": {
    "scrolled": true
   },
   "outputs": [
    {
     "name": "stdout",
     "output_type": "stream",
     "text": [
      "Number of duplicates left: 71\n"
     ]
    }
   ],
   "source": [
    "# check for any other duplicates left over\n",
    "\n",
    "print('Number of duplicates left: {:.0f}'.format(data.duplicated().sum()))"
   ]
  },
  {
   "cell_type": "code",
   "execution_count": 19,
   "metadata": {
    "scrolled": false
   },
   "outputs": [
    {
     "data": {
      "text/html": [
       "<div>\n",
       "<style scoped>\n",
       "    .dataframe tbody tr th:only-of-type {\n",
       "        vertical-align: middle;\n",
       "    }\n",
       "\n",
       "    .dataframe tbody tr th {\n",
       "        vertical-align: top;\n",
       "    }\n",
       "\n",
       "    .dataframe thead th {\n",
       "        text-align: right;\n",
       "    }\n",
       "</style>\n",
       "<table border=\"1\" class=\"dataframe\">\n",
       "  <thead>\n",
       "    <tr style=\"text-align: right;\">\n",
       "      <th></th>\n",
       "      <th>children</th>\n",
       "      <th>days_employed</th>\n",
       "      <th>dob_years</th>\n",
       "      <th>education</th>\n",
       "      <th>education_id</th>\n",
       "      <th>family_status</th>\n",
       "      <th>family_status_id</th>\n",
       "      <th>gender</th>\n",
       "      <th>income_type</th>\n",
       "      <th>debt</th>\n",
       "      <th>total_income</th>\n",
       "      <th>purpose</th>\n",
       "    </tr>\n",
       "  </thead>\n",
       "  <tbody>\n",
       "    <tr>\n",
       "      <th>2849</th>\n",
       "      <td>0</td>\n",
       "      <td>2118</td>\n",
       "      <td>41</td>\n",
       "      <td>secondary education</td>\n",
       "      <td>1</td>\n",
       "      <td>married</td>\n",
       "      <td>0</td>\n",
       "      <td>F</td>\n",
       "      <td>employee</td>\n",
       "      <td>0</td>\n",
       "      <td>21464</td>\n",
       "      <td>purchase of the house for my family</td>\n",
       "    </tr>\n",
       "    <tr>\n",
       "      <th>3290</th>\n",
       "      <td>0</td>\n",
       "      <td>15217</td>\n",
       "      <td>58</td>\n",
       "      <td>secondary education</td>\n",
       "      <td>1</td>\n",
       "      <td>civil partnership</td>\n",
       "      <td>1</td>\n",
       "      <td>F</td>\n",
       "      <td>retiree</td>\n",
       "      <td>0</td>\n",
       "      <td>21464</td>\n",
       "      <td>to have a wedding</td>\n",
       "    </tr>\n",
       "    <tr>\n",
       "      <th>4182</th>\n",
       "      <td>1</td>\n",
       "      <td>1603</td>\n",
       "      <td>34</td>\n",
       "      <td>bachelor's degree</td>\n",
       "      <td>0</td>\n",
       "      <td>civil partnership</td>\n",
       "      <td>1</td>\n",
       "      <td>F</td>\n",
       "      <td>employee</td>\n",
       "      <td>0</td>\n",
       "      <td>21464</td>\n",
       "      <td>wedding ceremony</td>\n",
       "    </tr>\n",
       "    <tr>\n",
       "      <th>4851</th>\n",
       "      <td>0</td>\n",
       "      <td>15217</td>\n",
       "      <td>60</td>\n",
       "      <td>secondary education</td>\n",
       "      <td>1</td>\n",
       "      <td>civil partnership</td>\n",
       "      <td>1</td>\n",
       "      <td>F</td>\n",
       "      <td>retiree</td>\n",
       "      <td>0</td>\n",
       "      <td>21464</td>\n",
       "      <td>wedding ceremony</td>\n",
       "    </tr>\n",
       "    <tr>\n",
       "      <th>5557</th>\n",
       "      <td>0</td>\n",
       "      <td>15217</td>\n",
       "      <td>58</td>\n",
       "      <td>secondary education</td>\n",
       "      <td>1</td>\n",
       "      <td>civil partnership</td>\n",
       "      <td>1</td>\n",
       "      <td>F</td>\n",
       "      <td>retiree</td>\n",
       "      <td>0</td>\n",
       "      <td>21464</td>\n",
       "      <td>to have a wedding</td>\n",
       "    </tr>\n",
       "    <tr>\n",
       "      <th>6312</th>\n",
       "      <td>0</td>\n",
       "      <td>1603</td>\n",
       "      <td>30</td>\n",
       "      <td>secondary education</td>\n",
       "      <td>1</td>\n",
       "      <td>married</td>\n",
       "      <td>0</td>\n",
       "      <td>M</td>\n",
       "      <td>employee</td>\n",
       "      <td>0</td>\n",
       "      <td>26834</td>\n",
       "      <td>building a real estate</td>\n",
       "    </tr>\n",
       "    <tr>\n",
       "      <th>7808</th>\n",
       "      <td>0</td>\n",
       "      <td>15217</td>\n",
       "      <td>57</td>\n",
       "      <td>secondary education</td>\n",
       "      <td>1</td>\n",
       "      <td>civil partnership</td>\n",
       "      <td>1</td>\n",
       "      <td>F</td>\n",
       "      <td>retiree</td>\n",
       "      <td>0</td>\n",
       "      <td>21464</td>\n",
       "      <td>having a wedding</td>\n",
       "    </tr>\n",
       "    <tr>\n",
       "      <th>7921</th>\n",
       "      <td>0</td>\n",
       "      <td>15217</td>\n",
       "      <td>64</td>\n",
       "      <td>bachelor's degree</td>\n",
       "      <td>0</td>\n",
       "      <td>civil partnership</td>\n",
       "      <td>1</td>\n",
       "      <td>F</td>\n",
       "      <td>retiree</td>\n",
       "      <td>0</td>\n",
       "      <td>21464</td>\n",
       "      <td>having a wedding</td>\n",
       "    </tr>\n",
       "    <tr>\n",
       "      <th>7938</th>\n",
       "      <td>0</td>\n",
       "      <td>15217</td>\n",
       "      <td>71</td>\n",
       "      <td>secondary education</td>\n",
       "      <td>1</td>\n",
       "      <td>civil partnership</td>\n",
       "      <td>1</td>\n",
       "      <td>F</td>\n",
       "      <td>retiree</td>\n",
       "      <td>0</td>\n",
       "      <td>21464</td>\n",
       "      <td>having a wedding</td>\n",
       "    </tr>\n",
       "    <tr>\n",
       "      <th>8583</th>\n",
       "      <td>0</td>\n",
       "      <td>15217</td>\n",
       "      <td>58</td>\n",
       "      <td>bachelor's degree</td>\n",
       "      <td>0</td>\n",
       "      <td>unmarried</td>\n",
       "      <td>4</td>\n",
       "      <td>F</td>\n",
       "      <td>retiree</td>\n",
       "      <td>0</td>\n",
       "      <td>21464</td>\n",
       "      <td>supplementary education</td>\n",
       "    </tr>\n",
       "  </tbody>\n",
       "</table>\n",
       "</div>"
      ],
      "text/plain": [
       "      children  days_employed  dob_years            education  education_id  \\\n",
       "2849         0           2118         41  secondary education             1   \n",
       "3290         0          15217         58  secondary education             1   \n",
       "4182         1           1603         34    bachelor's degree             0   \n",
       "4851         0          15217         60  secondary education             1   \n",
       "5557         0          15217         58  secondary education             1   \n",
       "6312         0           1603         30  secondary education             1   \n",
       "7808         0          15217         57  secondary education             1   \n",
       "7921         0          15217         64    bachelor's degree             0   \n",
       "7938         0          15217         71  secondary education             1   \n",
       "8583         0          15217         58    bachelor's degree             0   \n",
       "\n",
       "          family_status  family_status_id gender income_type  debt  \\\n",
       "2849            married                 0      F    employee     0   \n",
       "3290  civil partnership                 1      F     retiree     0   \n",
       "4182  civil partnership                 1      F    employee     0   \n",
       "4851  civil partnership                 1      F     retiree     0   \n",
       "5557  civil partnership                 1      F     retiree     0   \n",
       "6312            married                 0      M    employee     0   \n",
       "7808  civil partnership                 1      F     retiree     0   \n",
       "7921  civil partnership                 1      F     retiree     0   \n",
       "7938  civil partnership                 1      F     retiree     0   \n",
       "8583          unmarried                 4      F     retiree     0   \n",
       "\n",
       "      total_income                              purpose  \n",
       "2849         21464  purchase of the house for my family  \n",
       "3290         21464                    to have a wedding  \n",
       "4182         21464                     wedding ceremony  \n",
       "4851         21464                     wedding ceremony  \n",
       "5557         21464                    to have a wedding  \n",
       "6312         26834               building a real estate  \n",
       "7808         21464                     having a wedding  \n",
       "7921         21464                     having a wedding  \n",
       "7938         21464                     having a wedding  \n",
       "8583         21464              supplementary education  "
      ]
     },
     "execution_count": 19,
     "metadata": {},
     "output_type": "execute_result"
    }
   ],
   "source": [
    "data[data.duplicated() == True].head(10)"
   ]
  },
  {
   "cell_type": "markdown",
   "metadata": {},
   "source": [
    "It appears as if the remaining duplicates are the result of filling missing values in the 'total_income' and 'days_employed' columns with median values for different groups. Pandas is identifying these as duplicate rows."
   ]
  },
  {
   "cell_type": "markdown",
   "metadata": {},
   "source": [
    "#### Conclusion <a name=\"step_4_conclusion\"></a>"
   ]
  },
  {
   "cell_type": "markdown",
   "metadata": {},
   "source": [
    "The duplicates in our qualitative data were created by:\n",
    "- mixture of uppercase and lowercase strings\n",
    "- filling in multiple missing values with medians for certain groups\n",
    "\n",
    "To fix the first case, we simply made all values lowercase. This condensed duplicates into the same category. The second case isn't something to be concerned about, but it helps to be aware!"
   ]
  },
  {
   "cell_type": "markdown",
   "metadata": {},
   "source": [
    "### Step 5: Categorizing data <a name=\"step_5\"></a>"
   ]
  },
  {
   "cell_type": "markdown",
   "metadata": {},
   "source": [
    "In order to reach some type of conclusion and answer the questions for this project, we need to categorize the data into meaningful groups. All of the final questions deal with repaying a loan on time, which is represented by a 0 or a 1 in the 'debt' column. We'll look at the effects that the number of children, marital status, income, and reason for borrowing money have on the probability of a default. Marital statuses all fall into clean and meaningful categories, but the purpose, children, and income values do not. We'll need to fix that."
   ]
  },
  {
   "cell_type": "markdown",
   "metadata": {},
   "source": [
    "#### Categorizing purposes <a name=\"step_5_1\"></a>\n",
    "\n",
    "Let's take a look at the 'purpose' column. All of these values fall into 1 of 4 larger categories. We'll replace the value with the name of the category the value falls under. The following are the 4 larger categories we can identify:\n",
    "- purchase real estate\n",
    "- purchase a car\n",
    "- fund an education\n",
    "- fund a wedding\n",
    "\n",
    "We can use stemming and the NLTK package to categorize these data values and assign them new names. Let's identify all of the stems and their frequencies first."
   ]
  },
  {
   "cell_type": "code",
   "execution_count": 20,
   "metadata": {},
   "outputs": [
    {
     "name": "stdout",
     "output_type": "stream",
     "text": [
      "purchas: 3314\n",
      "of: 2998\n",
      "the: 1288\n",
      "hous: 3820\n",
      "car: 4315\n",
      "supplementari: 909\n",
      "educ: 3526\n",
      "to: 3081\n",
      "have: 1551\n",
      "a: 5130\n",
      "wed: 2348\n",
      "transact: 2610\n",
      "for: 1294\n",
      "my: 2396\n",
      "famili: 641\n",
      "buy: 4004\n",
      "real: 4478\n",
      "estat: 4478\n",
      "commerci: 1315\n",
      "residenti: 607\n",
      "construct: 635\n",
      "own: 2240\n",
      "properti: 2542\n",
      "build: 1246\n",
      "second-hand: 968\n",
      "with: 1281\n",
      "becom: 412\n",
      "get: 1316\n",
      "an: 443\n",
      "ceremoni: 797\n",
      "higher: 426\n",
      "profil: 436\n",
      "univers: 949\n",
      "rent: 653\n",
      "out: 653\n",
      "renov: 612\n",
      "go: 496\n"
     ]
    }
   ],
   "source": [
    "# initiate empty list, add stems to list, & count occurrences\n",
    "\n",
    "english_stemmer = SnowballStemmer('english')\n",
    "\n",
    "stemmed_words = []\n",
    "answers = data['purpose']\n",
    "for answer in answers:\n",
    "    for word in answer.split(\" \"):\n",
    "        stemmed_words.append(english_stemmer.stem(word))\n",
    "\n",
    "for key, value in Counter(stemmed_words).items():\n",
    "    print(key + ':', value)"
   ]
  },
  {
   "cell_type": "markdown",
   "metadata": {},
   "source": [
    "With this information, we have a better idea of what stems to look for in the next step. We'll parse the 'purpose' column once again and identify stems for each row. Then, depending on what stems we find, we can set the new value to one of the 4 categories from above."
   ]
  },
  {
   "cell_type": "code",
   "execution_count": 21,
   "metadata": {},
   "outputs": [
    {
     "name": "stdout",
     "output_type": "stream",
     "text": [
      "purchase real estate    10840\n",
      "purchase a car           4315\n",
      "fund an education        4022\n",
      "fund a wedding           2348\n",
      "Name: purpose, dtype: int64\n"
     ]
    }
   ],
   "source": [
    "# parse 'purpose' column values, identify stems, & replace values\n",
    "\n",
    "answers = data['purpose']\n",
    "for answer in answers:\n",
    "    for word in answer.split(\" \"):\n",
    "        stemmed_word = english_stemmer.stem(word)\n",
    "        if stemmed_word == 'car':\n",
    "            data.loc[data['purpose'] == answer, 'purpose'] = 'purchase a car'\n",
    "        if stemmed_word in ['hous', 'properti', 'estat']:\n",
    "            data.loc[data['purpose'] == answer, 'purpose'] = 'purchase real estate'\n",
    "        if stemmed_word in ['educ', 'univers']:\n",
    "            data.loc[data['purpose'] == answer, 'purpose'] = 'fund an education'\n",
    "        if stemmed_word == 'wed':\n",
    "            data.loc[data['purpose'] == answer, 'purpose'] = 'fund a wedding'\n",
    "            \n",
    "print(data['purpose'].value_counts())"
   ]
  },
  {
   "cell_type": "markdown",
   "metadata": {},
   "source": [
    "We can see now that every value in the 'purpose' column now falls into one of the 4 categories we defined above."
   ]
  },
  {
   "cell_type": "markdown",
   "metadata": {},
   "source": [
    "#### Categorizing number of children <a name=\"step_5_2\"></a>\n",
    "\n",
    "The 'children' column has a few issues we'll have to handle before proceeding. We can see below that 20 and -1 children could be errors, and value less than 0 or greater than 3 are insignificant since there is such a small number of occurrences. We can filter these out so we have 4 clean and neat categories: 0 children, 1 child, 2 childern, or 3 children. We'll use this new DataFrame to answer one of the questions below."
   ]
  },
  {
   "cell_type": "code",
   "execution_count": 22,
   "metadata": {
    "scrolled": true
   },
   "outputs": [
    {
     "name": "stdout",
     "output_type": "stream",
     "text": [
      " 0     14149\n",
      " 1      4818\n",
      " 2      2055\n",
      " 3       330\n",
      " 20       76\n",
      "-1        47\n",
      " 4        41\n",
      " 5         9\n",
      "Name: children, dtype: int64\n"
     ]
    }
   ],
   "source": [
    "# see how many values are in each category for 'children' column\n",
    "\n",
    "print(data.children.value_counts())"
   ]
  },
  {
   "cell_type": "code",
   "execution_count": 23,
   "metadata": {
    "scrolled": true
   },
   "outputs": [],
   "source": [
    "# define new DataFrame by filtering out 'children' > 3 and 'children' < 0\n",
    "\n",
    "children_debt = data[(data['children'] <= 3) & (0 <= data['children'])]"
   ]
  },
  {
   "cell_type": "markdown",
   "metadata": {},
   "source": [
    "#### Categorizing total income <a name=\"step_5_3\"></a>"
   ]
  },
  {
   "cell_type": "markdown",
   "metadata": {},
   "source": [
    "Finally, we'll categorize the 'total_income' column. We can split the entire column into deciles (groups of tenths) in order to gain some valuable insight in the next section. The .qcut() function contained within the pandas package is great for this operation.\n",
    "\n",
    "The arguments here are ***x : 1d ndarray or Series*** and ***q : int or list-like float*** which represents the number of quantiles we'll divide the Series into. The output is the decile range that each data point falls into. We can create a new column in our DataFrame to use later."
   ]
  },
  {
   "cell_type": "code",
   "execution_count": 24,
   "metadata": {},
   "outputs": [
    {
     "data": {
      "text/html": [
       "<div>\n",
       "<style scoped>\n",
       "    .dataframe tbody tr th:only-of-type {\n",
       "        vertical-align: middle;\n",
       "    }\n",
       "\n",
       "    .dataframe tbody tr th {\n",
       "        vertical-align: top;\n",
       "    }\n",
       "\n",
       "    .dataframe thead th {\n",
       "        text-align: right;\n",
       "    }\n",
       "</style>\n",
       "<table border=\"1\" class=\"dataframe\">\n",
       "  <thead>\n",
       "    <tr style=\"text-align: right;\">\n",
       "      <th></th>\n",
       "      <th>children</th>\n",
       "      <th>days_employed</th>\n",
       "      <th>dob_years</th>\n",
       "      <th>education</th>\n",
       "      <th>education_id</th>\n",
       "      <th>family_status</th>\n",
       "      <th>family_status_id</th>\n",
       "      <th>gender</th>\n",
       "      <th>income_type</th>\n",
       "      <th>debt</th>\n",
       "      <th>total_income</th>\n",
       "      <th>purpose</th>\n",
       "      <th>income_deciles</th>\n",
       "    </tr>\n",
       "  </thead>\n",
       "  <tbody>\n",
       "    <tr>\n",
       "      <th>0</th>\n",
       "      <td>1</td>\n",
       "      <td>8437</td>\n",
       "      <td>42</td>\n",
       "      <td>bachelor's degree</td>\n",
       "      <td>0</td>\n",
       "      <td>married</td>\n",
       "      <td>0</td>\n",
       "      <td>F</td>\n",
       "      <td>employee</td>\n",
       "      <td>0</td>\n",
       "      <td>40620</td>\n",
       "      <td>purchase real estate</td>\n",
       "      <td>9</td>\n",
       "    </tr>\n",
       "    <tr>\n",
       "      <th>1</th>\n",
       "      <td>1</td>\n",
       "      <td>4024</td>\n",
       "      <td>36</td>\n",
       "      <td>secondary education</td>\n",
       "      <td>1</td>\n",
       "      <td>married</td>\n",
       "      <td>0</td>\n",
       "      <td>F</td>\n",
       "      <td>employee</td>\n",
       "      <td>0</td>\n",
       "      <td>17932</td>\n",
       "      <td>purchase a car</td>\n",
       "      <td>3</td>\n",
       "    </tr>\n",
       "    <tr>\n",
       "      <th>2</th>\n",
       "      <td>0</td>\n",
       "      <td>5623</td>\n",
       "      <td>33</td>\n",
       "      <td>secondary education</td>\n",
       "      <td>1</td>\n",
       "      <td>married</td>\n",
       "      <td>0</td>\n",
       "      <td>M</td>\n",
       "      <td>employee</td>\n",
       "      <td>0</td>\n",
       "      <td>23341</td>\n",
       "      <td>purchase real estate</td>\n",
       "      <td>6</td>\n",
       "    </tr>\n",
       "    <tr>\n",
       "      <th>3</th>\n",
       "      <td>3</td>\n",
       "      <td>4124</td>\n",
       "      <td>32</td>\n",
       "      <td>secondary education</td>\n",
       "      <td>1</td>\n",
       "      <td>married</td>\n",
       "      <td>0</td>\n",
       "      <td>M</td>\n",
       "      <td>employee</td>\n",
       "      <td>0</td>\n",
       "      <td>42820</td>\n",
       "      <td>fund an education</td>\n",
       "      <td>9</td>\n",
       "    </tr>\n",
       "    <tr>\n",
       "      <th>4</th>\n",
       "      <td>0</td>\n",
       "      <td>14177</td>\n",
       "      <td>53</td>\n",
       "      <td>secondary education</td>\n",
       "      <td>1</td>\n",
       "      <td>civil partnership</td>\n",
       "      <td>1</td>\n",
       "      <td>F</td>\n",
       "      <td>retiree</td>\n",
       "      <td>0</td>\n",
       "      <td>25378</td>\n",
       "      <td>fund a wedding</td>\n",
       "      <td>6</td>\n",
       "    </tr>\n",
       "    <tr>\n",
       "      <th>5</th>\n",
       "      <td>0</td>\n",
       "      <td>926</td>\n",
       "      <td>27</td>\n",
       "      <td>bachelor's degree</td>\n",
       "      <td>0</td>\n",
       "      <td>civil partnership</td>\n",
       "      <td>1</td>\n",
       "      <td>M</td>\n",
       "      <td>business</td>\n",
       "      <td>0</td>\n",
       "      <td>40922</td>\n",
       "      <td>purchase real estate</td>\n",
       "      <td>9</td>\n",
       "    </tr>\n",
       "    <tr>\n",
       "      <th>6</th>\n",
       "      <td>0</td>\n",
       "      <td>2879</td>\n",
       "      <td>43</td>\n",
       "      <td>bachelor's degree</td>\n",
       "      <td>0</td>\n",
       "      <td>married</td>\n",
       "      <td>0</td>\n",
       "      <td>F</td>\n",
       "      <td>business</td>\n",
       "      <td>0</td>\n",
       "      <td>38484</td>\n",
       "      <td>purchase real estate</td>\n",
       "      <td>9</td>\n",
       "    </tr>\n",
       "    <tr>\n",
       "      <th>7</th>\n",
       "      <td>0</td>\n",
       "      <td>152</td>\n",
       "      <td>50</td>\n",
       "      <td>secondary education</td>\n",
       "      <td>1</td>\n",
       "      <td>married</td>\n",
       "      <td>0</td>\n",
       "      <td>M</td>\n",
       "      <td>employee</td>\n",
       "      <td>0</td>\n",
       "      <td>21731</td>\n",
       "      <td>fund an education</td>\n",
       "      <td>5</td>\n",
       "    </tr>\n",
       "    <tr>\n",
       "      <th>8</th>\n",
       "      <td>2</td>\n",
       "      <td>6929</td>\n",
       "      <td>35</td>\n",
       "      <td>bachelor's degree</td>\n",
       "      <td>0</td>\n",
       "      <td>civil partnership</td>\n",
       "      <td>1</td>\n",
       "      <td>F</td>\n",
       "      <td>employee</td>\n",
       "      <td>0</td>\n",
       "      <td>15337</td>\n",
       "      <td>fund a wedding</td>\n",
       "      <td>2</td>\n",
       "    </tr>\n",
       "    <tr>\n",
       "      <th>9</th>\n",
       "      <td>0</td>\n",
       "      <td>2188</td>\n",
       "      <td>41</td>\n",
       "      <td>secondary education</td>\n",
       "      <td>1</td>\n",
       "      <td>married</td>\n",
       "      <td>0</td>\n",
       "      <td>M</td>\n",
       "      <td>employee</td>\n",
       "      <td>0</td>\n",
       "      <td>23108</td>\n",
       "      <td>purchase real estate</td>\n",
       "      <td>6</td>\n",
       "    </tr>\n",
       "  </tbody>\n",
       "</table>\n",
       "</div>"
      ],
      "text/plain": [
       "   children  days_employed  dob_years            education  education_id  \\\n",
       "0         1           8437         42    bachelor's degree             0   \n",
       "1         1           4024         36  secondary education             1   \n",
       "2         0           5623         33  secondary education             1   \n",
       "3         3           4124         32  secondary education             1   \n",
       "4         0          14177         53  secondary education             1   \n",
       "5         0            926         27    bachelor's degree             0   \n",
       "6         0           2879         43    bachelor's degree             0   \n",
       "7         0            152         50  secondary education             1   \n",
       "8         2           6929         35    bachelor's degree             0   \n",
       "9         0           2188         41  secondary education             1   \n",
       "\n",
       "       family_status  family_status_id gender income_type  debt  total_income  \\\n",
       "0            married                 0      F    employee     0         40620   \n",
       "1            married                 0      F    employee     0         17932   \n",
       "2            married                 0      M    employee     0         23341   \n",
       "3            married                 0      M    employee     0         42820   \n",
       "4  civil partnership                 1      F     retiree     0         25378   \n",
       "5  civil partnership                 1      M    business     0         40922   \n",
       "6            married                 0      F    business     0         38484   \n",
       "7            married                 0      M    employee     0         21731   \n",
       "8  civil partnership                 1      F    employee     0         15337   \n",
       "9            married                 0      M    employee     0         23108   \n",
       "\n",
       "                purpose income_deciles  \n",
       "0  purchase real estate              9  \n",
       "1        purchase a car              3  \n",
       "2  purchase real estate              6  \n",
       "3     fund an education              9  \n",
       "4        fund a wedding              6  \n",
       "5  purchase real estate              9  \n",
       "6  purchase real estate              9  \n",
       "7     fund an education              5  \n",
       "8        fund a wedding              2  \n",
       "9  purchase real estate              6  "
      ]
     },
     "execution_count": 24,
     "metadata": {},
     "output_type": "execute_result"
    }
   ],
   "source": [
    "# use .qcut() to categorize 'total_income' into deciles\n",
    "\n",
    "data['income_deciles'] = pd.qcut(data['total_income'], 10, labels=range(1, 11))\n",
    "data.head(10)"
   ]
  },
  {
   "cell_type": "markdown",
   "metadata": {},
   "source": [
    "#### Conclusion"
   ]
  },
  {
   "cell_type": "markdown",
   "metadata": {},
   "source": [
    "Let's summarize what we did to categorize the data thus far:\n",
    " - Condensed the 'purpose' column into 4 larger categories\n",
    " - Removed insignificant or erroneous values from the 'children' categories\n",
    " - Categorize 'total_income' into deciles"
   ]
  },
  {
   "cell_type": "markdown",
   "metadata": {},
   "source": [
    "### Step 6: Answer these questions <a name=\"step_6\"></a>"
   ]
  },
  {
   "cell_type": "markdown",
   "metadata": {},
   "source": [
    "#### Is there a relation between having kids and repaying a loan on time? <a name=\"step_6_1\"></a>"
   ]
  },
  {
   "cell_type": "code",
   "execution_count": 25,
   "metadata": {
    "scrolled": false
   },
   "outputs": [
    {
     "name": "stdout",
     "output_type": "stream",
     "text": [
      "              debt\n",
      "children          \n",
      "2         0.094404\n",
      "1         0.092154\n",
      "3         0.081818\n",
      "0         0.075129\n"
     ]
    }
   ],
   "source": [
    "# sort and print percentage of defaults for each 'children' category\n",
    "\n",
    "debt_vs_children = children_debt.pivot_table(index='children', values='debt')\n",
    "print(debt_vs_children.sort_values(by='debt', ascending=False))"
   ]
  },
  {
   "cell_type": "markdown",
   "metadata": {},
   "source": [
    "The percentage of defaults is higher when the customer has at least one child. This means that customers with children are slightly riskier as borrowers. "
   ]
  },
  {
   "cell_type": "markdown",
   "metadata": {},
   "source": [
    "####  Is there a relation between marital status and repaying a loan on time? <a name=\"step_6_2\"></a>"
   ]
  },
  {
   "cell_type": "code",
   "execution_count": 26,
   "metadata": {
    "scrolled": false
   },
   "outputs": [
    {
     "name": "stdout",
     "output_type": "stream",
     "text": [
      "                       debt\n",
      "family_status              \n",
      "unmarried          0.097405\n",
      "civil partnership  0.092890\n",
      "married            0.075202\n",
      "divorced           0.071130\n",
      "widow / widower    0.065625\n"
     ]
    }
   ],
   "source": [
    "# sort and print percentage of defaults for each 'family_status' category\n",
    "\n",
    "debt_vs_family = data.pivot_table(index='family_status', values='debt')\n",
    "print(debt_vs_family.sort_values(by='debt', ascending=False))"
   ]
  },
  {
   "cell_type": "markdown",
   "metadata": {},
   "source": [
    "Unmarried customers are more likely to default, followed closely by those in civil partnerships. Married and divorced customers have roughly the same chance of defaulting, while widows/widowers have the smallest chance of defaulting on a loan."
   ]
  },
  {
   "cell_type": "markdown",
   "metadata": {},
   "source": [
    "#### Is there a relation between income level and repaying a loan on time? <a name=\"step_6_3\"></a>"
   ]
  },
  {
   "cell_type": "code",
   "execution_count": 27,
   "metadata": {
    "scrolled": false
   },
   "outputs": [
    {
     "name": "stdout",
     "output_type": "stream",
     "text": [
      "                    debt\n",
      "income_deciles          \n",
      "7               0.097119\n",
      "5               0.095632\n",
      "2               0.086896\n",
      "6               0.086007\n",
      "8               0.083604\n",
      "3               0.083140\n",
      "4               0.074877\n",
      "1               0.073386\n",
      "9               0.070632\n",
      "10              0.070135\n"
     ]
    }
   ],
   "source": [
    "# sort and print percentage of defaults for each 'income_deciles' category\n",
    "\n",
    "debt_vs_income = data.pivot_table(index='income_deciles', values='debt')\n",
    "print(debt_vs_income.sort_values(by='debt', ascending=False))"
   ]
  },
  {
   "cell_type": "markdown",
   "metadata": {},
   "source": [
    "Decile 1 is the lowest income category, while decile 10 is the highest. Just by looking at this data, it appears as if there isn't much of a correlation between income and defaults. Let's plot it to get a better idea of what we have here."
   ]
  },
  {
   "cell_type": "code",
   "execution_count": 28,
   "metadata": {},
   "outputs": [
    {
     "data": {
      "image/png": "[encoded data removed]",
      "text/plain": [
       "<Figure size 432x288 with 1 Axes>"
      ]
     },
     "metadata": {
      "needs_background": "light"
     },
     "output_type": "display_data"
    }
   ],
   "source": [
    "# define x and y coordinates, label, and plot\n",
    "\n",
    "x = list(range(1, 11))\n",
    "y = debt_vs_income * 100\n",
    "\n",
    "plt.scatter(x, y)\n",
    "plt.title('Income vs Percentage of Defaults', fontsize=15)\n",
    "plt.xlabel('Income Deciles', fontsize=12)\n",
    "plt.ylabel('Percentage of Defaults', fontsize=12)\n",
    "plt.show()"
   ]
  },
  {
   "cell_type": "markdown",
   "metadata": {},
   "source": [
    "The scatter plot gives us a better visualization and confirms that there is no correlation between income and loan defaults. This data is all over the place!"
   ]
  },
  {
   "cell_type": "markdown",
   "metadata": {},
   "source": [
    "#### How do different loan purposes affect on-time repayment of the loan? <a name=\"step_6_4\"></a>"
   ]
  },
  {
   "cell_type": "code",
   "execution_count": 29,
   "metadata": {},
   "outputs": [
    {
     "name": "stdout",
     "output_type": "stream",
     "text": [
      "                          debt\n",
      "purpose                       \n",
      "purchase a car        0.093395\n",
      "fund an education     0.091994\n",
      "fund a wedding        0.079216\n",
      "purchase real estate  0.072140\n"
     ]
    }
   ],
   "source": [
    "# sort and print percentage of defaults for each 'purpose' category\n",
    "\n",
    "debt_vs_purpose = data.pivot_table(index='purpose', values='debt')\n",
    "print(debt_vs_purpose.sort_values(by='debt', ascending=False))"
   ]
  },
  {
   "cell_type": "markdown",
   "metadata": {},
   "source": [
    "Those customers who want to purchase a car or fund an education with their loan are more likely to default than those who want to fund a wedding or buy real estate. Real estate purchases pose the smallest risk to lenders."
   ]
  },
  {
   "cell_type": "markdown",
   "metadata": {},
   "source": [
    "### Step 7: General conclusion <a name=\"step_7\"></a>"
   ]
  },
  {
   "cell_type": "markdown",
   "metadata": {},
   "source": [
    "The final goal of this project was to determine which groups of customers presented the most risk to lenders as borrowers. We were given a .csv file with information on things like income, familial status, reasons for taking out loans, and whether or not these people have defaulted on a loan in the past.\n",
    "\n",
    "Initially, we found several problems with the data that needed to be addressed before we could proceed with the analysis. These included:\n",
    "- missing values\n",
    "- erroneous values\n",
    "- duplicated values\n",
    "\n",
    "We assumed missing values in the 'total_income' and 'income_type' data were due to some people being uncomfortable with disclosing this information as it may have come from a survey. In a real-life professional situation, it would be critical to communicate with the stakeholder who collected and sent the data for this project in order to discern the true reasoning behind missing values and duplicates.\n",
    "\n",
    "For missing values, we took the median of several groups and filled missing values according to which group the customer fell into. For duplicates, we used the NLTK package and stemming in order to sort the reasons for taking out a loan into 4 larger categories. These operations made the data easier to work with during analysis.\n",
    "\n",
    "We can then take percentages of defaults for each category and compare them to the overall percentage of defaults for the entire dataset to gain some insight for more informed business decisions."
   ]
  },
  {
   "cell_type": "code",
   "execution_count": 30,
   "metadata": {},
   "outputs": [
    {
     "name": "stdout",
     "output_type": "stream",
     "text": [
      "       All customers: 8.1%\n",
      "--------------------------\n",
      "           Unmarried: 9.7%\n",
      "  Civil partnerships: 9.3%\n",
      "                 Car: 9.3%\n",
      "           Education: 9.2%\n",
      "           One child: 9.2%\n",
      "        Two children: 9.4%\n"
     ]
    }
   ],
   "source": [
    "# calculate percentage of defaults for different categories\n",
    "\n",
    "debt_percentage = data['debt'].mean()\n",
    "print('       All customers: {:.1f}%'.format(debt_percentage * 100))\n",
    "print('--------------------------')\n",
    "print('           Unmarried: {:.1f}%'.format(debt_vs_family.debt['unmarried'] * 100))\n",
    "print('  Civil partnerships: {:.1f}%'.format(debt_vs_family.debt['civil partnership'] * 100))\n",
    "print('                 Car: {:.1f}%'.format(debt_vs_purpose.debt['purchase a car'] * 100))\n",
    "print('           Education: {:.1f}%'.format(debt_vs_purpose.debt['fund an education'] * 100))\n",
    "print('           One child: {:.1f}%'.format(debt_vs_children.debt[1] * 100))\n",
    "print('        Two children: {:.1f}%'.format(debt_vs_children.debt[2] * 100))"
   ]
  },
  {
   "cell_type": "markdown",
   "metadata": {},
   "source": [
    "It is clear to us now, after cleaning and running some basic analysis on the data, that certain groups of customers are more likely to default on a loan than the average customer. The following groups have a higher probability of missing loan payments and defaulting than their counterparts:\n",
    "- Customers who are unmarried or in a civil partnership \n",
    "- Customers who want to purchase a car or an education\n",
    "- Customers with 1 or 2 children"
   ]
  }
 ],
 "metadata": {
  "kernelspec": {
   "display_name": "Python 3",
   "language": "python",
   "name": "python3"
  },
  "language_info": {
   "codemirror_mode": {
    "name": "ipython",
    "version": 3
   },
   "file_extension": ".py",
   "mimetype": "text/x-python",
   "name": "python",
   "nbconvert_exporter": "python",
   "pygments_lexer": "ipython3",
   "version": "3.8.5"
  },
  "toc": {
   "base_numbering": 1,
   "nav_menu": {},
   "number_sections": true,
   "sideBar": true,
   "skip_h1_title": false,
   "title_cell": "Table of Contents",
   "title_sidebar": "Contents",
   "toc_cell": false,
   "toc_position": {},
   "toc_section_display": true,
   "toc_window_display": false
  }
 },
 "nbformat": 4,
 "nbformat_minor": 2
}
