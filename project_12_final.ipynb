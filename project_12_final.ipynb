{
 "cells": [
  {
   "cell_type": "markdown",
   "metadata": {},
   "source": [
    "# Assessing sales outlets' performance\n",
    "\n",
    "## **Task**\n",
    "\n",
    "Assess the performance of the chain's sales outlets:\n",
    "\n",
    "- Carry out exploratory data analysis\n",
    "- Assess the performance of the sales outlets\n",
    "- Test statistical hypotheses\n",
    "- Optional: visualize your findings\n",
    "\n",
    "## Description of the data\n",
    "\n",
    "The dataset contains data on purchases made at the building-material retailer Home World. All of its customers have membership cards. Moreover, they can become members of the store's loyalty program for $20 per month. The program includes discounts, information on special offers, and gifts. \n",
    "\n",
    "`retail_dataset_us.csv` contains:\n",
    "\n",
    "- `purchaseId`\n",
    "- `item_ID`\n",
    "- `purchasedate`\n",
    "- `Quantity` — the number of items in the purchase\n",
    "- `CustomerID`\n",
    "- `ShopID`\n",
    "- `loyalty_program` — whether the customer is a member of the loyalty program\n",
    "\n",
    "`product_codes_us.csv` contains:\n",
    "\n",
    "- `productID`\n",
    "- `price_per_one`"
   ]
  },
  {
   "cell_type": "markdown",
   "metadata": {},
   "source": [
    "## Decomposition\n",
    "\n",
    "### Define the goal\n",
    "Our goal is to identify the high-performing sales outlets through data analysis. We'll identify which stores bring in the most revenue and look at whether or not the customer loyalty program has any correlation with increased sales.\n",
    "\n",
    "We'll test the hypothesis that the loyalty program creates a statistically significant difference in revenue from customers who partake in the program.\n",
    "\n",
    "The analysis will then be sent to the marketing department so they can be informed on whether or not their loyalty program is working, which stores are performing the worst, and how to improve moving forward.\n",
    "\n",
    "### Exploratory data analysis\n",
    "We'll do an exploratory data analysis to get a general feel for the data. This includes looking at the general information for each data set, looking at descriptive statistics, plotting histograms, and looking for outliers and anomalies.\n",
    "\n",
    "\n",
    "### Data preprocessing\n",
    "After getting an initial feel for the data by importing and viewing general information and descriptive statistics, we need to preprocess the data. This will consist of the following:\n",
    "- Checking for and filling missing values\n",
    "- Checking for and fixing duplicates\n",
    "- Changing column names if needed\n",
    "- Changing data types\n",
    "- Remove outliers & anomalous data\n",
    "\n",
    "### Data analysis\n",
    "Next, we'll analyze the data to achieve an actionable recommendations. First, we need to merge the two data sets. Then we'll plot graphs for sales revenue by store. We'll then group the data into two groups - purchases from member in the loyalty program, and purchases from members NOT in the loyalty program. We'll look at average revenue per customer in each group and form hypotheses based on the new insights\n",
    "\n",
    "### Hypothesis testing\n",
    "We'll test the hypothesis surrounding the effectiveness of the loyalty program based on the data from the analysis using a simple p-test. This will determine if the loyalty program significantly impacts revenue or average item quantity per purchase\n",
    "\n",
    "### Conclusions & Recommendations\n",
    "Finally, we can use our findings to form conclusions and make recommendations to our marketing department. "
   ]
  },
  {
   "cell_type": "markdown",
   "metadata": {},
   "source": [
    "## Step 1: Import libraries & general data overview"
   ]
  },
  {
   "cell_type": "code",
   "execution_count": 1,
   "metadata": {},
   "outputs": [],
   "source": [
    "# import libraries for analysis & visualization\n",
    "\n",
    "import pandas as pd\n",
    "import numpy as np\n",
    "import matplotlib.pyplot as plt\n",
    "import seaborn as sns\n",
    "import scipy.stats as st"
   ]
  },
  {
   "cell_type": "code",
   "execution_count": 2,
   "metadata": {},
   "outputs": [],
   "source": [
    "# read data from .csv files\n",
    "\n",
    "try:\n",
    "    product_codes = pd.read_csv('product_codes_us.csv', sep=';')\n",
    "except:\n",
    "    product_codes = pd.read_csv('/datasets/product_codes_us.csv', sep=';')\n",
    "    \n",
    "try:\n",
    "    retail_data = pd.read_csv('retail_dataset_us.csv', sep=',')\n",
    "except:\n",
    "    retail_data = pd.read_csv('/datasets/retail_dataset_us.csv', sep=',')"
   ]
  },
  {
   "cell_type": "code",
   "execution_count": 3,
   "metadata": {},
   "outputs": [
    {
     "data": {
      "text/html": [
       "<div>\n",
       "<style scoped>\n",
       "    .dataframe tbody tr th:only-of-type {\n",
       "        vertical-align: middle;\n",
       "    }\n",
       "\n",
       "    .dataframe tbody tr th {\n",
       "        vertical-align: top;\n",
       "    }\n",
       "\n",
       "    .dataframe thead th {\n",
       "        text-align: right;\n",
       "    }\n",
       "</style>\n",
       "<table border=\"1\" class=\"dataframe\">\n",
       "  <thead>\n",
       "    <tr style=\"text-align: right;\">\n",
       "      <th></th>\n",
       "      <th>productID</th>\n",
       "      <th>price_per_one</th>\n",
       "    </tr>\n",
       "  </thead>\n",
       "  <tbody>\n",
       "    <tr>\n",
       "      <th>0</th>\n",
       "      <td>10002</td>\n",
       "      <td>0.85</td>\n",
       "    </tr>\n",
       "    <tr>\n",
       "      <th>1</th>\n",
       "      <td>10080</td>\n",
       "      <td>0.85</td>\n",
       "    </tr>\n",
       "    <tr>\n",
       "      <th>2</th>\n",
       "      <td>10120</td>\n",
       "      <td>0.21</td>\n",
       "    </tr>\n",
       "    <tr>\n",
       "      <th>3</th>\n",
       "      <td>10123C</td>\n",
       "      <td>0.65</td>\n",
       "    </tr>\n",
       "    <tr>\n",
       "      <th>4</th>\n",
       "      <td>10124A</td>\n",
       "      <td>0.42</td>\n",
       "    </tr>\n",
       "  </tbody>\n",
       "</table>\n",
       "</div>"
      ],
      "text/plain": [
       "  productID  price_per_one\n",
       "0     10002           0.85\n",
       "1     10080           0.85\n",
       "2     10120           0.21\n",
       "3    10123C           0.65\n",
       "4    10124A           0.42"
      ]
     },
     "metadata": {},
     "output_type": "display_data"
    },
    {
     "name": "stdout",
     "output_type": "stream",
     "text": [
      "<class 'pandas.core.frame.DataFrame'>\n",
      "RangeIndex: 3159 entries, 0 to 3158\n",
      "Data columns (total 2 columns):\n",
      " #   Column         Non-Null Count  Dtype  \n",
      "---  ------         --------------  -----  \n",
      " 0   productID      3159 non-null   object \n",
      " 1   price_per_one  3159 non-null   float64\n",
      "dtypes: float64(1), object(1)\n",
      "memory usage: 49.5+ KB\n"
     ]
    },
    {
     "data": {
      "text/plain": [
       "None"
      ]
     },
     "metadata": {},
     "output_type": "display_data"
    },
    {
     "data": {
      "text/html": [
       "<div>\n",
       "<style scoped>\n",
       "    .dataframe tbody tr th:only-of-type {\n",
       "        vertical-align: middle;\n",
       "    }\n",
       "\n",
       "    .dataframe tbody tr th {\n",
       "        vertical-align: top;\n",
       "    }\n",
       "\n",
       "    .dataframe thead th {\n",
       "        text-align: right;\n",
       "    }\n",
       "</style>\n",
       "<table border=\"1\" class=\"dataframe\">\n",
       "  <thead>\n",
       "    <tr style=\"text-align: right;\">\n",
       "      <th></th>\n",
       "      <th>purchaseid</th>\n",
       "      <th>item_ID</th>\n",
       "      <th>Quantity</th>\n",
       "      <th>purchasedate</th>\n",
       "      <th>CustomerID</th>\n",
       "      <th>loyalty_program</th>\n",
       "      <th>ShopID</th>\n",
       "    </tr>\n",
       "  </thead>\n",
       "  <tbody>\n",
       "    <tr>\n",
       "      <th>0</th>\n",
       "      <td>538280</td>\n",
       "      <td>21873</td>\n",
       "      <td>11</td>\n",
       "      <td>2016-12-10 12:50:00</td>\n",
       "      <td>18427.0</td>\n",
       "      <td>0</td>\n",
       "      <td>Shop 3</td>\n",
       "    </tr>\n",
       "    <tr>\n",
       "      <th>1</th>\n",
       "      <td>538862</td>\n",
       "      <td>22195</td>\n",
       "      <td>0</td>\n",
       "      <td>2016-12-14 14:11:00</td>\n",
       "      <td>22389.0</td>\n",
       "      <td>1</td>\n",
       "      <td>Shop 2</td>\n",
       "    </tr>\n",
       "    <tr>\n",
       "      <th>2</th>\n",
       "      <td>538855</td>\n",
       "      <td>21239</td>\n",
       "      <td>7</td>\n",
       "      <td>2016-12-14 13:50:00</td>\n",
       "      <td>22182.0</td>\n",
       "      <td>1</td>\n",
       "      <td>Shop 3</td>\n",
       "    </tr>\n",
       "    <tr>\n",
       "      <th>3</th>\n",
       "      <td>543543</td>\n",
       "      <td>22271</td>\n",
       "      <td>0</td>\n",
       "      <td>2017-02-09 15:33:00</td>\n",
       "      <td>23522.0</td>\n",
       "      <td>1</td>\n",
       "      <td>Shop 28</td>\n",
       "    </tr>\n",
       "    <tr>\n",
       "      <th>4</th>\n",
       "      <td>543812</td>\n",
       "      <td>79321</td>\n",
       "      <td>0</td>\n",
       "      <td>2017-02-13 14:40:00</td>\n",
       "      <td>23151.0</td>\n",
       "      <td>1</td>\n",
       "      <td>Shop 28</td>\n",
       "    </tr>\n",
       "  </tbody>\n",
       "</table>\n",
       "</div>"
      ],
      "text/plain": [
       "  purchaseid item_ID  Quantity         purchasedate  CustomerID  \\\n",
       "0     538280   21873        11  2016-12-10 12:50:00     18427.0   \n",
       "1     538862   22195         0  2016-12-14 14:11:00     22389.0   \n",
       "2     538855   21239         7  2016-12-14 13:50:00     22182.0   \n",
       "3     543543   22271         0  2017-02-09 15:33:00     23522.0   \n",
       "4     543812   79321         0  2017-02-13 14:40:00     23151.0   \n",
       "\n",
       "   loyalty_program   ShopID  \n",
       "0                0   Shop 3  \n",
       "1                1   Shop 2  \n",
       "2                1   Shop 3  \n",
       "3                1  Shop 28  \n",
       "4                1  Shop 28  "
      ]
     },
     "metadata": {},
     "output_type": "display_data"
    },
    {
     "name": "stdout",
     "output_type": "stream",
     "text": [
      "<class 'pandas.core.frame.DataFrame'>\n",
      "RangeIndex: 105335 entries, 0 to 105334\n",
      "Data columns (total 7 columns):\n",
      " #   Column           Non-Null Count   Dtype  \n",
      "---  ------           --------------   -----  \n",
      " 0   purchaseid       105335 non-null  object \n",
      " 1   item_ID          105335 non-null  object \n",
      " 2   Quantity         105335 non-null  int64  \n",
      " 3   purchasedate     105335 non-null  object \n",
      " 4   CustomerID       69125 non-null   float64\n",
      " 5   loyalty_program  105335 non-null  int64  \n",
      " 6   ShopID           105335 non-null  object \n",
      "dtypes: float64(1), int64(2), object(4)\n",
      "memory usage: 5.6+ MB\n"
     ]
    },
    {
     "data": {
      "text/plain": [
       "None"
      ]
     },
     "metadata": {},
     "output_type": "display_data"
    }
   ],
   "source": [
    "# general overview of new DataFrames\n",
    "\n",
    "dfs = [product_codes, retail_data]\n",
    "\n",
    "for df in dfs:\n",
    "    display(df.head())\n",
    "    display(df.info())"
   ]
  },
  {
   "cell_type": "markdown",
   "metadata": {},
   "source": [
    "### Checking for duplicates"
   ]
  },
  {
   "cell_type": "code",
   "execution_count": 4,
   "metadata": {},
   "outputs": [
    {
     "name": "stdout",
     "output_type": "stream",
     "text": [
      "There are 0 duplicate rows in the product_codes DataFrame\n",
      "There are 1033 duplicate rows in the retail_data DataFrame\n"
     ]
    }
   ],
   "source": [
    "# checking for duplicates with .duplicated() method\n",
    "\n",
    "print('There are', product_codes.duplicated().sum(), \"duplicate rows in the product_codes DataFrame\")\n",
    "print('There are', retail_data.duplicated().sum(), \"duplicate rows in the retail_data DataFrame\")"
   ]
  },
  {
   "cell_type": "markdown",
   "metadata": {},
   "source": [
    "### Checking for missing values"
   ]
  },
  {
   "cell_type": "code",
   "execution_count": 5,
   "metadata": {
    "scrolled": true
   },
   "outputs": [
    {
     "data": {
      "text/plain": [
       "productID        0\n",
       "price_per_one    0\n",
       "dtype: int64"
      ]
     },
     "metadata": {},
     "output_type": "display_data"
    },
    {
     "data": {
      "text/plain": [
       "purchaseid             0\n",
       "item_ID                0\n",
       "Quantity               0\n",
       "purchasedate           0\n",
       "CustomerID         36210\n",
       "loyalty_program        0\n",
       "ShopID                 0\n",
       "dtype: int64"
      ]
     },
     "metadata": {},
     "output_type": "display_data"
    }
   ],
   "source": [
    "# check for missing values with the .isna() method\n",
    "\n",
    "display(product_codes.isna().sum())\n",
    "display(retail_data.isna().sum())"
   ]
  },
  {
   "cell_type": "markdown",
   "metadata": {},
   "source": [
    "### Conclusions\n",
    "Looking at data types, we can see there are a few issues we need to fix immediately. We also need to drop duplicate rows and figure out what to do with the missing customer IDs in the retail_data DataFrame. Here's a summary of our data preprocessing tasks:\n",
    " - Change 'purchasedate' column to *datatime* data type\n",
    " - Change 'CustomerID' column to *object* data type\n",
    " - Drop duplicated rows from the retail_data DataFrame\n",
    " - Address the missing values in the 'CustomerID' column"
   ]
  },
  {
   "cell_type": "markdown",
   "metadata": {},
   "source": [
    "## Step 2: Data preprocessing"
   ]
  },
  {
   "cell_type": "markdown",
   "metadata": {},
   "source": [
    "### Fixing duplicates"
   ]
  },
  {
   "cell_type": "code",
   "execution_count": 6,
   "metadata": {},
   "outputs": [
    {
     "name": "stdout",
     "output_type": "stream",
     "text": [
      "There are 0 duplicate rows in the retail_data DataFrame\n"
     ]
    }
   ],
   "source": [
    "# drop duplicates from the retail_data DataFrame\n",
    "\n",
    "retail_data.drop_duplicates(inplace=True)\n",
    "print('There are', retail_data.duplicated().sum(), \"duplicate rows in the retail_data DataFrame\")"
   ]
  },
  {
   "cell_type": "markdown",
   "metadata": {},
   "source": [
    "### Filling missing values"
   ]
  },
  {
   "cell_type": "code",
   "execution_count": 7,
   "metadata": {
    "scrolled": true
   },
   "outputs": [
    {
     "data": {
      "text/html": [
       "<div>\n",
       "<style scoped>\n",
       "    .dataframe tbody tr th:only-of-type {\n",
       "        vertical-align: middle;\n",
       "    }\n",
       "\n",
       "    .dataframe tbody tr th {\n",
       "        vertical-align: top;\n",
       "    }\n",
       "\n",
       "    .dataframe thead th {\n",
       "        text-align: right;\n",
       "    }\n",
       "</style>\n",
       "<table border=\"1\" class=\"dataframe\">\n",
       "  <thead>\n",
       "    <tr style=\"text-align: right;\">\n",
       "      <th></th>\n",
       "      <th>purchaseid</th>\n",
       "      <th>item_ID</th>\n",
       "      <th>Quantity</th>\n",
       "      <th>purchasedate</th>\n",
       "      <th>CustomerID</th>\n",
       "      <th>loyalty_program</th>\n",
       "      <th>ShopID</th>\n",
       "    </tr>\n",
       "  </thead>\n",
       "  <tbody>\n",
       "    <tr>\n",
       "      <th>6</th>\n",
       "      <td>540468</td>\n",
       "      <td>22189</td>\n",
       "      <td>0</td>\n",
       "      <td>2017-01-07 13:55:00</td>\n",
       "      <td>NaN</td>\n",
       "      <td>0</td>\n",
       "      <td>Shop 0</td>\n",
       "    </tr>\n",
       "    <tr>\n",
       "      <th>7</th>\n",
       "      <td>541424</td>\n",
       "      <td>79321</td>\n",
       "      <td>1</td>\n",
       "      <td>2017-01-17 17:57:00</td>\n",
       "      <td>NaN</td>\n",
       "      <td>0</td>\n",
       "      <td>Shop 0</td>\n",
       "    </tr>\n",
       "    <tr>\n",
       "      <th>8</th>\n",
       "      <td>538883</td>\n",
       "      <td>22891</td>\n",
       "      <td>0</td>\n",
       "      <td>2016-12-14 15:56:00</td>\n",
       "      <td>NaN</td>\n",
       "      <td>0</td>\n",
       "      <td>Shop 0</td>\n",
       "    </tr>\n",
       "    <tr>\n",
       "      <th>11</th>\n",
       "      <td>541696</td>\n",
       "      <td>22197</td>\n",
       "      <td>4</td>\n",
       "      <td>2017-01-20 18:08:00</td>\n",
       "      <td>NaN</td>\n",
       "      <td>0</td>\n",
       "      <td>Shop 0</td>\n",
       "    </tr>\n",
       "    <tr>\n",
       "      <th>16</th>\n",
       "      <td>539744</td>\n",
       "      <td>22300</td>\n",
       "      <td>5</td>\n",
       "      <td>2016-12-21 15:21:00</td>\n",
       "      <td>NaN</td>\n",
       "      <td>0</td>\n",
       "      <td>Shop 0</td>\n",
       "    </tr>\n",
       "  </tbody>\n",
       "</table>\n",
       "</div>"
      ],
      "text/plain": [
       "   purchaseid item_ID  Quantity         purchasedate  CustomerID  \\\n",
       "6      540468   22189         0  2017-01-07 13:55:00         NaN   \n",
       "7      541424   79321         1  2017-01-17 17:57:00         NaN   \n",
       "8      538883   22891         0  2016-12-14 15:56:00         NaN   \n",
       "11     541696   22197         4  2017-01-20 18:08:00         NaN   \n",
       "16     539744   22300         5  2016-12-21 15:21:00         NaN   \n",
       "\n",
       "    loyalty_program  ShopID  \n",
       "6                 0  Shop 0  \n",
       "7                 0  Shop 0  \n",
       "8                 0  Shop 0  \n",
       "11                0  Shop 0  \n",
       "16                0  Shop 0  "
      ]
     },
     "execution_count": 7,
     "metadata": {},
     "output_type": "execute_result"
    }
   ],
   "source": [
    "# investigating missing values in 'CustomerID' column\n",
    "\n",
    "retail_data[retail_data['CustomerID'].isna()].head()"
   ]
  },
  {
   "cell_type": "code",
   "execution_count": 8,
   "metadata": {},
   "outputs": [
    {
     "name": "stdout",
     "output_type": "stream",
     "text": [
      "[0]\n"
     ]
    }
   ],
   "source": [
    "# unique values for 'loyalty_program' where 'CustomerID' is missing\n",
    "\n",
    "print(retail_data[retail_data['CustomerID'].isna()]['loyalty_program'].unique())"
   ]
  },
  {
   "cell_type": "markdown",
   "metadata": {},
   "source": [
    "It looks like the customer ID is assigned once they sign up for the loyalty program. All of the missing values in 'CustomerID' are associated with customers who haven't yet signed up. We can assign these customers a generic customer ID to get rid of our NaN values in this column."
   ]
  },
  {
   "cell_type": "code",
   "execution_count": 9,
   "metadata": {},
   "outputs": [],
   "source": [
    "# fill NaN values with 0 placeholder\n",
    "\n",
    "retail_data['CustomerID'].fillna(0.0, inplace=True)"
   ]
  },
  {
   "cell_type": "markdown",
   "metadata": {},
   "source": [
    "### Changing data types"
   ]
  },
  {
   "cell_type": "code",
   "execution_count": 10,
   "metadata": {
    "scrolled": false
   },
   "outputs": [
    {
     "name": "stdout",
     "output_type": "stream",
     "text": [
      "<class 'pandas.core.frame.DataFrame'>\n",
      "Int64Index: 104302 entries, 0 to 105334\n",
      "Data columns (total 7 columns):\n",
      " #   Column           Non-Null Count   Dtype         \n",
      "---  ------           --------------   -----         \n",
      " 0   purchaseid       104302 non-null  object        \n",
      " 1   item_ID          104302 non-null  object        \n",
      " 2   Quantity         104302 non-null  int64         \n",
      " 3   purchasedate     104302 non-null  datetime64[ns]\n",
      " 4   CustomerID       104302 non-null  object        \n",
      " 5   loyalty_program  104302 non-null  int64         \n",
      " 6   ShopID           104302 non-null  object        \n",
      "dtypes: datetime64[ns](1), int64(2), object(4)\n",
      "memory usage: 6.4+ MB\n"
     ]
    }
   ],
   "source": [
    "# change 'purchasedate' to datetime & 'CustomerID' to string\n",
    "\n",
    "retail_data['purchasedate'] = retail_data['purchasedate'].astype('datetime64')\n",
    "retail_data['CustomerID'] = retail_data['CustomerID'].astype('int').astype(str)\n",
    "\n",
    "retail_data.info()"
   ]
  },
  {
   "cell_type": "markdown",
   "metadata": {},
   "source": [
    "## Step 3: Exploratory data analysis"
   ]
  },
  {
   "cell_type": "markdown",
   "metadata": {},
   "source": [
    "### Descriptive statistics"
   ]
  },
  {
   "cell_type": "code",
   "execution_count": 11,
   "metadata": {},
   "outputs": [
    {
     "data": {
      "text/html": [
       "<div>\n",
       "<style scoped>\n",
       "    .dataframe tbody tr th:only-of-type {\n",
       "        vertical-align: middle;\n",
       "    }\n",
       "\n",
       "    .dataframe tbody tr th {\n",
       "        vertical-align: top;\n",
       "    }\n",
       "\n",
       "    .dataframe thead th {\n",
       "        text-align: right;\n",
       "    }\n",
       "</style>\n",
       "<table border=\"1\" class=\"dataframe\">\n",
       "  <thead>\n",
       "    <tr style=\"text-align: right;\">\n",
       "      <th></th>\n",
       "      <th>price_per_one</th>\n",
       "    </tr>\n",
       "  </thead>\n",
       "  <tbody>\n",
       "    <tr>\n",
       "      <th>count</th>\n",
       "      <td>3159.000000</td>\n",
       "    </tr>\n",
       "    <tr>\n",
       "      <th>mean</th>\n",
       "      <td>2.954495</td>\n",
       "    </tr>\n",
       "    <tr>\n",
       "      <th>std</th>\n",
       "      <td>7.213808</td>\n",
       "    </tr>\n",
       "    <tr>\n",
       "      <th>min</th>\n",
       "      <td>0.000000</td>\n",
       "    </tr>\n",
       "    <tr>\n",
       "      <th>25%</th>\n",
       "      <td>0.650000</td>\n",
       "    </tr>\n",
       "    <tr>\n",
       "      <th>50%</th>\n",
       "      <td>1.450000</td>\n",
       "    </tr>\n",
       "    <tr>\n",
       "      <th>75%</th>\n",
       "      <td>3.290000</td>\n",
       "    </tr>\n",
       "    <tr>\n",
       "      <th>max</th>\n",
       "      <td>175.000000</td>\n",
       "    </tr>\n",
       "  </tbody>\n",
       "</table>\n",
       "</div>"
      ],
      "text/plain": [
       "       price_per_one\n",
       "count    3159.000000\n",
       "mean        2.954495\n",
       "std         7.213808\n",
       "min         0.000000\n",
       "25%         0.650000\n",
       "50%         1.450000\n",
       "75%         3.290000\n",
       "max       175.000000"
      ]
     },
     "metadata": {},
     "output_type": "display_data"
    },
    {
     "data": {
      "text/html": [
       "<div>\n",
       "<style scoped>\n",
       "    .dataframe tbody tr th:only-of-type {\n",
       "        vertical-align: middle;\n",
       "    }\n",
       "\n",
       "    .dataframe tbody tr th {\n",
       "        vertical-align: top;\n",
       "    }\n",
       "\n",
       "    .dataframe thead th {\n",
       "        text-align: right;\n",
       "    }\n",
       "</style>\n",
       "<table border=\"1\" class=\"dataframe\">\n",
       "  <thead>\n",
       "    <tr style=\"text-align: right;\">\n",
       "      <th></th>\n",
       "      <th>Quantity</th>\n",
       "      <th>loyalty_program</th>\n",
       "    </tr>\n",
       "  </thead>\n",
       "  <tbody>\n",
       "    <tr>\n",
       "      <th>count</th>\n",
       "      <td>104302.000000</td>\n",
       "      <td>104302.000000</td>\n",
       "    </tr>\n",
       "    <tr>\n",
       "      <th>mean</th>\n",
       "      <td>7.883003</td>\n",
       "      <td>0.224464</td>\n",
       "    </tr>\n",
       "    <tr>\n",
       "      <th>std</th>\n",
       "      <td>329.565540</td>\n",
       "      <td>0.417231</td>\n",
       "    </tr>\n",
       "    <tr>\n",
       "      <th>min</th>\n",
       "      <td>-74216.000000</td>\n",
       "      <td>0.000000</td>\n",
       "    </tr>\n",
       "    <tr>\n",
       "      <th>25%</th>\n",
       "      <td>0.000000</td>\n",
       "      <td>0.000000</td>\n",
       "    </tr>\n",
       "    <tr>\n",
       "      <th>50%</th>\n",
       "      <td>2.000000</td>\n",
       "      <td>0.000000</td>\n",
       "    </tr>\n",
       "    <tr>\n",
       "      <th>75%</th>\n",
       "      <td>7.000000</td>\n",
       "      <td>0.000000</td>\n",
       "    </tr>\n",
       "    <tr>\n",
       "      <th>max</th>\n",
       "      <td>74214.000000</td>\n",
       "      <td>1.000000</td>\n",
       "    </tr>\n",
       "  </tbody>\n",
       "</table>\n",
       "</div>"
      ],
      "text/plain": [
       "            Quantity  loyalty_program\n",
       "count  104302.000000    104302.000000\n",
       "mean        7.883003         0.224464\n",
       "std       329.565540         0.417231\n",
       "min    -74216.000000         0.000000\n",
       "25%         0.000000         0.000000\n",
       "50%         2.000000         0.000000\n",
       "75%         7.000000         0.000000\n",
       "max     74214.000000         1.000000"
      ]
     },
     "metadata": {},
     "output_type": "display_data"
    }
   ],
   "source": [
    "# show summary statistics for numerical columns\n",
    "\n",
    "display(product_codes.describe())\n",
    "display(retail_data.describe())"
   ]
  },
  {
   "cell_type": "markdown",
   "metadata": {},
   "source": [
    "#### Conclusion\n",
    "\n",
    "It looks like there may be some outliers in the 'price_per_one' column. The mean unit price is around 3, and the maximum is 175. There are also products that have 0 price, which is strange. We shouldn't filter out the outliers here though because there will always be items that are much more expensive. This is a typical finding for prices of items in a store.\n",
    "\n",
    "In the 'Quantity' column, the min and max need to be investigated further, though. Maybe negative values were items that were returned, or the order was an error."
   ]
  },
  {
   "cell_type": "markdown",
   "metadata": {},
   "source": [
    "### Histogram of product costs per unit"
   ]
  },
  {
   "cell_type": "code",
   "execution_count": 12,
   "metadata": {
    "scrolled": true
   },
   "outputs": [
    {
     "data": {
      "image/png": "[encoded data removed]",
      "text/plain": [
       "<Figure size 432x288 with 1 Axes>"
      ]
     },
     "metadata": {
      "needs_background": "light"
     },
     "output_type": "display_data"
    }
   ],
   "source": [
    "# histogram of product costs per unit\n",
    "\n",
    "plt.hist(product_codes['price_per_one'], bins=175)\n",
    "plt.title('Frequency of product costs per unit')\n",
    "plt.xlabel('Cost per unit')\n",
    "plt.ylabel('Frequency')\n",
    "\n",
    "plt.show()"
   ]
  },
  {
   "cell_type": "markdown",
   "metadata": {},
   "source": [
    "#### Conclusions\n",
    "It appears as if there are some extreme outliers in this data set. Most products have a unit cost that's less than 25.00. This seems reasonable, however, since we can expect some items to be very expensive. We can leave this data alone."
   ]
  },
  {
   "cell_type": "markdown",
   "metadata": {},
   "source": [
    "### Histogram of order quantities"
   ]
  },
  {
   "cell_type": "code",
   "execution_count": 13,
   "metadata": {
    "scrolled": true
   },
   "outputs": [
    {
     "data": {
      "image/png": "[encoded data removed]",
      "text/plain": [
       "<Figure size 432x288 with 1 Axes>"
      ]
     },
     "metadata": {
      "needs_background": "light"
     },
     "output_type": "display_data"
    }
   ],
   "source": [
    "# histogram of order quantities\n",
    "\n",
    "plt.hist(retail_data['Quantity'], bins=10)\n",
    "plt.title('Frequency of order quantities')\n",
    "plt.xlabel('Number of items per order')\n",
    "plt.ylabel('Frequency')\n",
    "\n",
    "plt.show()"
   ]
  },
  {
   "cell_type": "code",
   "execution_count": 14,
   "metadata": {},
   "outputs": [
    {
     "data": {
      "text/html": [
       "<div>\n",
       "<style scoped>\n",
       "    .dataframe tbody tr th:only-of-type {\n",
       "        vertical-align: middle;\n",
       "    }\n",
       "\n",
       "    .dataframe tbody tr th {\n",
       "        vertical-align: top;\n",
       "    }\n",
       "\n",
       "    .dataframe thead th {\n",
       "        text-align: right;\n",
       "    }\n",
       "</style>\n",
       "<table border=\"1\" class=\"dataframe\">\n",
       "  <thead>\n",
       "    <tr style=\"text-align: right;\">\n",
       "      <th></th>\n",
       "      <th>purchaseid</th>\n",
       "      <th>item_ID</th>\n",
       "      <th>Quantity</th>\n",
       "      <th>purchasedate</th>\n",
       "      <th>CustomerID</th>\n",
       "      <th>loyalty_program</th>\n",
       "      <th>ShopID</th>\n",
       "    </tr>\n",
       "  </thead>\n",
       "  <tbody>\n",
       "    <tr>\n",
       "      <th>1</th>\n",
       "      <td>538862</td>\n",
       "      <td>22195</td>\n",
       "      <td>0</td>\n",
       "      <td>2016-12-14 14:11:00</td>\n",
       "      <td>22389</td>\n",
       "      <td>1</td>\n",
       "      <td>Shop 2</td>\n",
       "    </tr>\n",
       "    <tr>\n",
       "      <th>3</th>\n",
       "      <td>543543</td>\n",
       "      <td>22271</td>\n",
       "      <td>0</td>\n",
       "      <td>2017-02-09 15:33:00</td>\n",
       "      <td>23522</td>\n",
       "      <td>1</td>\n",
       "      <td>Shop 28</td>\n",
       "    </tr>\n",
       "    <tr>\n",
       "      <th>4</th>\n",
       "      <td>543812</td>\n",
       "      <td>79321</td>\n",
       "      <td>0</td>\n",
       "      <td>2017-02-13 14:40:00</td>\n",
       "      <td>23151</td>\n",
       "      <td>1</td>\n",
       "      <td>Shop 28</td>\n",
       "    </tr>\n",
       "    <tr>\n",
       "      <th>5</th>\n",
       "      <td>538379</td>\n",
       "      <td>22965</td>\n",
       "      <td>0</td>\n",
       "      <td>2016-12-12 11:26:00</td>\n",
       "      <td>22805</td>\n",
       "      <td>1</td>\n",
       "      <td>Shop 20</td>\n",
       "    </tr>\n",
       "    <tr>\n",
       "      <th>6</th>\n",
       "      <td>540468</td>\n",
       "      <td>22189</td>\n",
       "      <td>0</td>\n",
       "      <td>2017-01-07 13:55:00</td>\n",
       "      <td>0</td>\n",
       "      <td>0</td>\n",
       "      <td>Shop 0</td>\n",
       "    </tr>\n",
       "  </tbody>\n",
       "</table>\n",
       "</div>"
      ],
      "text/plain": [
       "  purchaseid item_ID  Quantity        purchasedate CustomerID  \\\n",
       "1     538862   22195         0 2016-12-14 14:11:00      22389   \n",
       "3     543543   22271         0 2017-02-09 15:33:00      23522   \n",
       "4     543812   79321         0 2017-02-13 14:40:00      23151   \n",
       "5     538379   22965         0 2016-12-12 11:26:00      22805   \n",
       "6     540468   22189         0 2017-01-07 13:55:00          0   \n",
       "\n",
       "   loyalty_program   ShopID  \n",
       "1                1   Shop 2  \n",
       "3                1  Shop 28  \n",
       "4                1  Shop 28  \n",
       "5                1  Shop 20  \n",
       "6                0   Shop 0  "
      ]
     },
     "execution_count": 14,
     "metadata": {},
     "output_type": "execute_result"
    }
   ],
   "source": [
    "# investigating negative order quantities & outliers\n",
    "\n",
    "retail_data.query('Quantity <= 0').head()"
   ]
  },
  {
   "cell_type": "code",
   "execution_count": 15,
   "metadata": {},
   "outputs": [],
   "source": [
    "# remove 0 and negative order quantities\n",
    "\n",
    "retail_data = retail_data.query('Quantity > 0')"
   ]
  },
  {
   "cell_type": "code",
   "execution_count": 16,
   "metadata": {},
   "outputs": [],
   "source": [
    "# function for removing outliers\n",
    "\n",
    "def remove_outliers(df, column):\n",
    "    Q1 = column.quantile(0.25)\n",
    "    Q3 = column.quantile(0.75)\n",
    "    IQR = Q3 - Q1\n",
    "    \n",
    "    good_data_rows = df.query('@column <= (1.5 * @IQR) + @Q3')    \n",
    "    good_data = pd.DataFrame()   \n",
    "    good_data = good_data.append(good_data_rows)\n",
    "    \n",
    "    return good_data"
   ]
  },
  {
   "cell_type": "code",
   "execution_count": 17,
   "metadata": {
    "scrolled": true
   },
   "outputs": [
    {
     "data": {
      "image/png": "[encoded data removed]",
      "text/plain": [
       "<Figure size 432x288 with 1 Axes>"
      ]
     },
     "metadata": {
      "needs_background": "light"
     },
     "output_type": "display_data"
    }
   ],
   "source": [
    "# filter outliers in 'Quanitity' column\n",
    "\n",
    "retail_data = remove_outliers(retail_data, retail_data['Quantity'])\n",
    "\n",
    "plt.hist(retail_data['Quantity'], bins=20)\n",
    "plt.title('Frequency of order quantities')\n",
    "plt.xlabel('Number of items per order')\n",
    "plt.ylabel('Frequency')\n",
    "\n",
    "plt.show()"
   ]
  },
  {
   "cell_type": "markdown",
   "metadata": {},
   "source": [
    "#### Conclusions\n",
    "We filtered out orders with negative and 0 values for 'Quantity' since this data didn't make much sense. We also filtered out the outliers which were determined to be any orders with over 25 items."
   ]
  },
  {
   "cell_type": "markdown",
   "metadata": {},
   "source": [
    "### Histogram of purchase dates"
   ]
  },
  {
   "cell_type": "code",
   "execution_count": 18,
   "metadata": {
    "scrolled": false
   },
   "outputs": [
    {
     "data": {
      "image/png": "[encoded data removed]",
      "text/plain": [
       "<Figure size 432x288 with 1 Axes>"
      ]
     },
     "metadata": {
      "needs_background": "light"
     },
     "output_type": "display_data"
    }
   ],
   "source": [
    "# plot histogram of 'purchasedate' column\n",
    "\n",
    "plt.hist(retail_data['purchasedate'], bins=50)\n",
    "plt.title('Frequency of purchases in time')\n",
    "plt.xlabel('Date')\n",
    "plt.xticks(rotation=75)\n",
    "plt.ylabel('Frequency')\n",
    "\n",
    "plt.show()"
   ]
  },
  {
   "cell_type": "markdown",
   "metadata": {},
   "source": [
    "#### Conclusions"
   ]
  },
  {
   "cell_type": "markdown",
   "metadata": {},
   "source": [
    "Nothing strange here, except there are a few dates where there were no purchases made. Maybe this was during times the store was closed, during a natural disaster, or during a long holiday. Either way, this anomaly isn't too important to our data analysis and we can leave it alone."
   ]
  },
  {
   "cell_type": "markdown",
   "metadata": {},
   "source": [
    "## Step 4: Data analysis"
   ]
  },
  {
   "cell_type": "markdown",
   "metadata": {},
   "source": [
    "### Identifying high-performing outlets"
   ]
  },
  {
   "cell_type": "code",
   "execution_count": 19,
   "metadata": {},
   "outputs": [
    {
     "data": {
      "text/html": [
       "<div>\n",
       "<style scoped>\n",
       "    .dataframe tbody tr th:only-of-type {\n",
       "        vertical-align: middle;\n",
       "    }\n",
       "\n",
       "    .dataframe tbody tr th {\n",
       "        vertical-align: top;\n",
       "    }\n",
       "\n",
       "    .dataframe thead th {\n",
       "        text-align: right;\n",
       "    }\n",
       "</style>\n",
       "<table border=\"1\" class=\"dataframe\">\n",
       "  <thead>\n",
       "    <tr style=\"text-align: right;\">\n",
       "      <th></th>\n",
       "      <th>purchaseid</th>\n",
       "      <th>item_ID</th>\n",
       "      <th>Quantity</th>\n",
       "      <th>purchasedate</th>\n",
       "      <th>CustomerID</th>\n",
       "      <th>loyalty_program</th>\n",
       "      <th>ShopID</th>\n",
       "      <th>price_per_one</th>\n",
       "      <th>purchase_revenue</th>\n",
       "    </tr>\n",
       "  </thead>\n",
       "  <tbody>\n",
       "    <tr>\n",
       "      <th>0</th>\n",
       "      <td>538280</td>\n",
       "      <td>21873</td>\n",
       "      <td>11</td>\n",
       "      <td>2016-12-10 12:50:00</td>\n",
       "      <td>18427</td>\n",
       "      <td>0</td>\n",
       "      <td>Shop 3</td>\n",
       "      <td>0.42</td>\n",
       "      <td>4.62</td>\n",
       "    </tr>\n",
       "    <tr>\n",
       "      <th>1</th>\n",
       "      <td>540418</td>\n",
       "      <td>21873</td>\n",
       "      <td>1</td>\n",
       "      <td>2017-01-07 11:04:00</td>\n",
       "      <td>0</td>\n",
       "      <td>0</td>\n",
       "      <td>Shop 0</td>\n",
       "      <td>0.42</td>\n",
       "      <td>0.42</td>\n",
       "    </tr>\n",
       "    <tr>\n",
       "      <th>2</th>\n",
       "      <td>541516</td>\n",
       "      <td>21873</td>\n",
       "      <td>2</td>\n",
       "      <td>2017-01-18 17:34:00</td>\n",
       "      <td>0</td>\n",
       "      <td>0</td>\n",
       "      <td>Shop 0</td>\n",
       "      <td>0.42</td>\n",
       "      <td>0.84</td>\n",
       "    </tr>\n",
       "    <tr>\n",
       "      <th>3</th>\n",
       "      <td>538843</td>\n",
       "      <td>21873</td>\n",
       "      <td>1</td>\n",
       "      <td>2016-12-14 13:18:00</td>\n",
       "      <td>21712</td>\n",
       "      <td>0</td>\n",
       "      <td>Shop 9</td>\n",
       "      <td>0.42</td>\n",
       "      <td>0.42</td>\n",
       "    </tr>\n",
       "    <tr>\n",
       "      <th>4</th>\n",
       "      <td>540838</td>\n",
       "      <td>21873</td>\n",
       "      <td>11</td>\n",
       "      <td>2017-01-11 15:13:00</td>\n",
       "      <td>19541</td>\n",
       "      <td>0</td>\n",
       "      <td>Shop 4</td>\n",
       "      <td>0.42</td>\n",
       "      <td>4.62</td>\n",
       "    </tr>\n",
       "  </tbody>\n",
       "</table>\n",
       "</div>"
      ],
      "text/plain": [
       "  purchaseid item_ID  Quantity        purchasedate CustomerID  \\\n",
       "0     538280   21873        11 2016-12-10 12:50:00      18427   \n",
       "1     540418   21873         1 2017-01-07 11:04:00          0   \n",
       "2     541516   21873         2 2017-01-18 17:34:00          0   \n",
       "3     538843   21873         1 2016-12-14 13:18:00      21712   \n",
       "4     540838   21873        11 2017-01-11 15:13:00      19541   \n",
       "\n",
       "   loyalty_program  ShopID  price_per_one  purchase_revenue  \n",
       "0                0  Shop 3           0.42              4.62  \n",
       "1                0  Shop 0           0.42              0.42  \n",
       "2                0  Shop 0           0.42              0.84  \n",
       "3                0  Shop 9           0.42              0.42  \n",
       "4                0  Shop 4           0.42              4.62  "
      ]
     },
     "execution_count": 19,
     "metadata": {},
     "output_type": "execute_result"
    }
   ],
   "source": [
    "# merge cost & quantity data\n",
    "\n",
    "product_codes.columns = ['item_ID', 'price_per_one']\n",
    "\n",
    "all_data = pd.merge(retail_data, product_codes, on='item_ID')\n",
    "all_data['purchase_revenue'] = all_data['Quantity'] * all_data['price_per_one']\n",
    "all_data.head()"
   ]
  },
  {
   "cell_type": "code",
   "execution_count": 20,
   "metadata": {
    "scrolled": false
   },
   "outputs": [
    {
     "data": {
      "text/html": [
       "<div>\n",
       "<style scoped>\n",
       "    .dataframe tbody tr th:only-of-type {\n",
       "        vertical-align: middle;\n",
       "    }\n",
       "\n",
       "    .dataframe tbody tr th {\n",
       "        vertical-align: top;\n",
       "    }\n",
       "\n",
       "    .dataframe thead th {\n",
       "        text-align: right;\n",
       "    }\n",
       "</style>\n",
       "<table border=\"1\" class=\"dataframe\">\n",
       "  <thead>\n",
       "    <tr style=\"text-align: right;\">\n",
       "      <th></th>\n",
       "      <th>ShopID</th>\n",
       "      <th>purchase_revenue</th>\n",
       "    </tr>\n",
       "  </thead>\n",
       "  <tbody>\n",
       "    <tr>\n",
       "      <th>0</th>\n",
       "      <td>Shop 0</td>\n",
       "      <td>85587.09</td>\n",
       "    </tr>\n",
       "    <tr>\n",
       "      <th>1</th>\n",
       "      <td>Shop 13</td>\n",
       "      <td>20612.16</td>\n",
       "    </tr>\n",
       "    <tr>\n",
       "      <th>2</th>\n",
       "      <td>Shop 28</td>\n",
       "      <td>20312.48</td>\n",
       "    </tr>\n",
       "    <tr>\n",
       "      <th>3</th>\n",
       "      <td>Shop 15</td>\n",
       "      <td>20157.92</td>\n",
       "    </tr>\n",
       "    <tr>\n",
       "      <th>4</th>\n",
       "      <td>Shop 20</td>\n",
       "      <td>19896.63</td>\n",
       "    </tr>\n",
       "    <tr>\n",
       "      <th>5</th>\n",
       "      <td>Shop 9</td>\n",
       "      <td>18373.45</td>\n",
       "    </tr>\n",
       "    <tr>\n",
       "      <th>6</th>\n",
       "      <td>Shop 22</td>\n",
       "      <td>18269.07</td>\n",
       "    </tr>\n",
       "    <tr>\n",
       "      <th>7</th>\n",
       "      <td>Shop 11</td>\n",
       "      <td>18257.86</td>\n",
       "    </tr>\n",
       "    <tr>\n",
       "      <th>8</th>\n",
       "      <td>Shop 10</td>\n",
       "      <td>18003.47</td>\n",
       "    </tr>\n",
       "    <tr>\n",
       "      <th>9</th>\n",
       "      <td>Shop 4</td>\n",
       "      <td>17642.38</td>\n",
       "    </tr>\n",
       "  </tbody>\n",
       "</table>\n",
       "</div>"
      ],
      "text/plain": [
       "    ShopID  purchase_revenue\n",
       "0   Shop 0          85587.09\n",
       "1  Shop 13          20612.16\n",
       "2  Shop 28          20312.48\n",
       "3  Shop 15          20157.92\n",
       "4  Shop 20          19896.63\n",
       "5   Shop 9          18373.45\n",
       "6  Shop 22          18269.07\n",
       "7  Shop 11          18257.86\n",
       "8  Shop 10          18003.47\n",
       "9   Shop 4          17642.38"
      ]
     },
     "execution_count": 20,
     "metadata": {},
     "output_type": "execute_result"
    }
   ],
   "source": [
    "# group revenue sums by shop ID\n",
    "\n",
    "outlet_revenues = all_data.groupby('ShopID')['purchase_revenue'].sum()\n",
    "outlet_revenues = outlet_revenues.sort_values(ascending=False).reset_index()\n",
    "outlet_revenues.head(10)"
   ]
  },
  {
   "cell_type": "code",
   "execution_count": 21,
   "metadata": {},
   "outputs": [
    {
     "data": {
      "image/png": "[encoded data removed]",
      "text/plain": [
       "<Figure size 432x288 with 1 Axes>"
      ]
     },
     "metadata": {
      "needs_background": "light"
     },
     "output_type": "display_data"
    }
   ],
   "source": [
    "plt.bar(x=outlet_revenues['ShopID'][:10], height=outlet_revenues['purchase_revenue'][:10])\n",
    "plt.title('Top 10 outlets by total revenue')\n",
    "plt.xlabel('Outlet')\n",
    "plt.xticks(rotation=75)\n",
    "plt.ylabel('Total revenue')\n",
    "\n",
    "plt.show()"
   ]
  },
  {
   "cell_type": "markdown",
   "metadata": {},
   "source": [
    "#### Conclusions\n",
    "Shop 0 is the winner here by a long shot, with roughly 4 times the revenue as the next-highest performer in terms of revenue. We should determine what it is that makes this shop so profitable, and attempt to mimic these properties in the other stores."
   ]
  },
  {
   "cell_type": "markdown",
   "metadata": {},
   "source": [
    "### Features of high-performing outlets"
   ]
  },
  {
   "cell_type": "code",
   "execution_count": 22,
   "metadata": {},
   "outputs": [
    {
     "data": {
      "text/html": [
       "<div>\n",
       "<style scoped>\n",
       "    .dataframe tbody tr th:only-of-type {\n",
       "        vertical-align: middle;\n",
       "    }\n",
       "\n",
       "    .dataframe tbody tr th {\n",
       "        vertical-align: top;\n",
       "    }\n",
       "\n",
       "    .dataframe thead th {\n",
       "        text-align: right;\n",
       "    }\n",
       "</style>\n",
       "<table border=\"1\" class=\"dataframe\">\n",
       "  <thead>\n",
       "    <tr style=\"text-align: right;\">\n",
       "      <th></th>\n",
       "      <th>purchase_cnt</th>\n",
       "      <th>avg_qty</th>\n",
       "      <th>unique_customers</th>\n",
       "      <th>percent_loyal</th>\n",
       "      <th>avg_unit_price</th>\n",
       "    </tr>\n",
       "    <tr>\n",
       "      <th>ShopID</th>\n",
       "      <th></th>\n",
       "      <th></th>\n",
       "      <th></th>\n",
       "      <th></th>\n",
       "      <th></th>\n",
       "    </tr>\n",
       "  </thead>\n",
       "  <tbody>\n",
       "    <tr>\n",
       "      <th>Shop 0</th>\n",
       "      <td>17211</td>\n",
       "      <td>3.756377</td>\n",
       "      <td>109</td>\n",
       "      <td>0.037186</td>\n",
       "      <td>1.561020</td>\n",
       "    </tr>\n",
       "    <tr>\n",
       "      <th>Shop 1</th>\n",
       "      <td>1858</td>\n",
       "      <td>6.687298</td>\n",
       "      <td>104</td>\n",
       "      <td>0.383746</td>\n",
       "      <td>1.933504</td>\n",
       "    </tr>\n",
       "    <tr>\n",
       "      <th>Shop 10</th>\n",
       "      <td>1564</td>\n",
       "      <td>7.677749</td>\n",
       "      <td>88</td>\n",
       "      <td>0.280691</td>\n",
       "      <td>2.344885</td>\n",
       "    </tr>\n",
       "    <tr>\n",
       "      <th>Shop 11</th>\n",
       "      <td>1770</td>\n",
       "      <td>8.048588</td>\n",
       "      <td>111</td>\n",
       "      <td>0.407345</td>\n",
       "      <td>1.813175</td>\n",
       "    </tr>\n",
       "    <tr>\n",
       "      <th>Shop 12</th>\n",
       "      <td>1293</td>\n",
       "      <td>7.622583</td>\n",
       "      <td>89</td>\n",
       "      <td>0.306265</td>\n",
       "      <td>2.072993</td>\n",
       "    </tr>\n",
       "    <tr>\n",
       "      <th>Shop 13</th>\n",
       "      <td>1672</td>\n",
       "      <td>7.250000</td>\n",
       "      <td>99</td>\n",
       "      <td>0.363636</td>\n",
       "      <td>2.269653</td>\n",
       "    </tr>\n",
       "    <tr>\n",
       "      <th>Shop 14</th>\n",
       "      <td>1731</td>\n",
       "      <td>6.753899</td>\n",
       "      <td>109</td>\n",
       "      <td>0.291161</td>\n",
       "      <td>2.131103</td>\n",
       "    </tr>\n",
       "    <tr>\n",
       "      <th>Shop 15</th>\n",
       "      <td>1880</td>\n",
       "      <td>7.953723</td>\n",
       "      <td>106</td>\n",
       "      <td>0.299468</td>\n",
       "      <td>1.953420</td>\n",
       "    </tr>\n",
       "    <tr>\n",
       "      <th>Shop 16</th>\n",
       "      <td>1433</td>\n",
       "      <td>7.690858</td>\n",
       "      <td>89</td>\n",
       "      <td>0.367062</td>\n",
       "      <td>1.883552</td>\n",
       "    </tr>\n",
       "    <tr>\n",
       "      <th>Shop 17</th>\n",
       "      <td>1594</td>\n",
       "      <td>7.143036</td>\n",
       "      <td>103</td>\n",
       "      <td>0.351945</td>\n",
       "      <td>1.977365</td>\n",
       "    </tr>\n",
       "  </tbody>\n",
       "</table>\n",
       "</div>"
      ],
      "text/plain": [
       "         purchase_cnt   avg_qty  unique_customers  percent_loyal  \\\n",
       "ShopID                                                             \n",
       "Shop 0          17211  3.756377               109       0.037186   \n",
       "Shop 1           1858  6.687298               104       0.383746   \n",
       "Shop 10          1564  7.677749                88       0.280691   \n",
       "Shop 11          1770  8.048588               111       0.407345   \n",
       "Shop 12          1293  7.622583                89       0.306265   \n",
       "Shop 13          1672  7.250000                99       0.363636   \n",
       "Shop 14          1731  6.753899               109       0.291161   \n",
       "Shop 15          1880  7.953723               106       0.299468   \n",
       "Shop 16          1433  7.690858                89       0.367062   \n",
       "Shop 17          1594  7.143036               103       0.351945   \n",
       "\n",
       "         avg_unit_price  \n",
       "ShopID                   \n",
       "Shop 0         1.561020  \n",
       "Shop 1         1.933504  \n",
       "Shop 10        2.344885  \n",
       "Shop 11        1.813175  \n",
       "Shop 12        2.072993  \n",
       "Shop 13        2.269653  \n",
       "Shop 14        2.131103  \n",
       "Shop 15        1.953420  \n",
       "Shop 16        1.883552  \n",
       "Shop 17        1.977365  "
      ]
     },
     "execution_count": 22,
     "metadata": {},
     "output_type": "execute_result"
    }
   ],
   "source": [
    "# summary statistics for each outlet\n",
    "\n",
    "agg_data = all_data.groupby('ShopID').agg(purchase_cnt=('purchaseid', 'count'),\n",
    "                                          avg_qty=('Quantity', 'mean'),\n",
    "                                          unique_customers=('CustomerID', 'nunique'),\n",
    "                                          percent_loyal=('loyalty_program', 'mean'),\n",
    "                                          avg_unit_price=('price_per_one', 'mean'))\n",
    "agg_data.head(10)"
   ]
  },
  {
   "cell_type": "code",
   "execution_count": 23,
   "metadata": {},
   "outputs": [
    {
     "data": {
      "text/plain": [
       "purchase_cnt         Shop 0\n",
       "avg_qty              Shop 4\n",
       "unique_customers    Shop 11\n",
       "percent_loyal        Shop 2\n",
       "avg_unit_price      Shop 10\n",
       "dtype: object"
      ]
     },
     "execution_count": 23,
     "metadata": {},
     "output_type": "execute_result"
    }
   ],
   "source": [
    "# find max for each\n",
    "\n",
    "agg_data.idxmax()"
   ]
  },
  {
   "cell_type": "markdown",
   "metadata": {},
   "source": [
    "#### Conclusions\n",
    "It's pretty clear that Shop 0 has such a high revenue simply because it hase the most purchases. We should really focus on driving more customers to the other locations since the revenue and number of purchases seem to be highly correlated."
   ]
  },
  {
   "cell_type": "markdown",
   "metadata": {},
   "source": [
    "### Correlation between revenue & customer loyalty"
   ]
  },
  {
   "cell_type": "code",
   "execution_count": 24,
   "metadata": {},
   "outputs": [
    {
     "data": {
      "image/png": "[encoded data removed]",
      "text/plain": [
       "<Figure size 864x360 with 2 Axes>"
      ]
     },
     "metadata": {
      "needs_background": "light"
     },
     "output_type": "display_data"
    }
   ],
   "source": [
    "# scatter plots\n",
    "\n",
    "fig, axes = plt.subplots(1, 2, figsize=(12, 5))\n",
    "axes = axes.reshape(-1)\n",
    "\n",
    "axes[0].scatter(all_data['loyalty_program'], all_data['purchase_revenue'])\n",
    "axes[0].set_title('Loyalty vs Purchase revenue')\n",
    "axes[0].set_ylabel('Purchase revenue')\n",
    "axes[0].set_xlabel('Loyalty')\n",
    "axes[0].set_xticks([0, 1])\n",
    "\n",
    "\n",
    "axes[1].scatter(all_data['loyalty_program'], all_data['Quantity'])\n",
    "axes[1].set_title('Loyalty vs Order item quantity')\n",
    "axes[1].set_ylabel('Item qty per purchase')\n",
    "axes[1].set_xlabel('Loyalty')\n",
    "axes[1].set_xticks([0, 1])\n",
    "\n",
    "plt.show()"
   ]
  },
  {
   "cell_type": "code",
   "execution_count": 25,
   "metadata": {},
   "outputs": [
    {
     "data": {
      "text/html": [
       "<div>\n",
       "<style scoped>\n",
       "    .dataframe tbody tr th:only-of-type {\n",
       "        vertical-align: middle;\n",
       "    }\n",
       "\n",
       "    .dataframe tbody tr th {\n",
       "        vertical-align: top;\n",
       "    }\n",
       "\n",
       "    .dataframe thead th {\n",
       "        text-align: right;\n",
       "    }\n",
       "</style>\n",
       "<table border=\"1\" class=\"dataframe\">\n",
       "  <thead>\n",
       "    <tr style=\"text-align: right;\">\n",
       "      <th></th>\n",
       "      <th>loyalty_program</th>\n",
       "      <th>purchase_revenue</th>\n",
       "      <th>Quantity</th>\n",
       "    </tr>\n",
       "  </thead>\n",
       "  <tbody>\n",
       "    <tr>\n",
       "      <th>loyalty_program</th>\n",
       "      <td>1.000000</td>\n",
       "      <td>0.005043</td>\n",
       "      <td>0.005066</td>\n",
       "    </tr>\n",
       "    <tr>\n",
       "      <th>purchase_revenue</th>\n",
       "      <td>0.005043</td>\n",
       "      <td>1.000000</td>\n",
       "      <td>0.387404</td>\n",
       "    </tr>\n",
       "    <tr>\n",
       "      <th>Quantity</th>\n",
       "      <td>0.005066</td>\n",
       "      <td>0.387404</td>\n",
       "      <td>1.000000</td>\n",
       "    </tr>\n",
       "  </tbody>\n",
       "</table>\n",
       "</div>"
      ],
      "text/plain": [
       "                  loyalty_program  purchase_revenue  Quantity\n",
       "loyalty_program          1.000000          0.005043  0.005066\n",
       "purchase_revenue         0.005043          1.000000  0.387404\n",
       "Quantity                 0.005066          0.387404  1.000000"
      ]
     },
     "execution_count": 25,
     "metadata": {},
     "output_type": "execute_result"
    }
   ],
   "source": [
    "# Pearson correlations\n",
    "\n",
    "all_data[['loyalty_program', 'purchase_revenue', 'Quantity']].corr()"
   ]
  },
  {
   "cell_type": "markdown",
   "metadata": {},
   "source": [
    "#### Conclusions\n",
    "It looks like there is very little correlation between customer loyalty and purchase revenue and customer loyalty and item quantity per purchase. To be sure, we'll confirm there aren't any statisitically significant differences in the next step."
   ]
  },
  {
   "cell_type": "markdown",
   "metadata": {},
   "source": [
    "## Step 5: Hypothesis testing"
   ]
  },
  {
   "cell_type": "code",
   "execution_count": 26,
   "metadata": {},
   "outputs": [],
   "source": [
    "# splitting groups\n",
    "\n",
    "non_members = all_data.query('loyalty_program == 0')\n",
    "members = all_data.query('loyalty_program == 1')"
   ]
  },
  {
   "cell_type": "markdown",
   "metadata": {},
   "source": [
    "### Are purchase revenues higher for members of the loyalty program?"
   ]
  },
  {
   "cell_type": "code",
   "execution_count": 27,
   "metadata": {
    "scrolled": true
   },
   "outputs": [
    {
     "name": "stdout",
     "output_type": "stream",
     "text": [
      "Mean purchase revenue for members: 9.0\n",
      "Mean purchase revenue for non-members: 8.84\n"
     ]
    }
   ],
   "source": [
    "# mean purchase revenues\n",
    "\n",
    "print('Mean purchase revenue for members:', round(members['purchase_revenue'].mean(), 2))\n",
    "print('Mean purchase revenue for non-members:', round(non_members['purchase_revenue'].mean(), 2))"
   ]
  },
  {
   "cell_type": "code",
   "execution_count": 28,
   "metadata": {},
   "outputs": [
    {
     "name": "stdout",
     "output_type": "stream",
     "text": [
      "Loyalty members revenue variance: 182.41\n",
      "Non-members revenue variance: 194.49\n",
      "\n",
      "Null hypothesis:\n",
      "   The loyalty program does not effect revenues from customers\n",
      "\n",
      "Alternative hypothesis:\n",
      "   The loyalty program increases revenues from customers\n",
      "\n",
      "p-value:  0.09914326591249543\n",
      "We can't reject the null hypothesis\n"
     ]
    }
   ],
   "source": [
    "# run p-test for revenues\n",
    "\n",
    "print('Loyalty members revenue variance: {:.2f}'.format(members['purchase_revenue'].var()))\n",
    "print('Non-members revenue variance: {:.2f}\\n'.format(non_members['purchase_revenue'].var()))\n",
    "\n",
    "results = st.ttest_ind(members['purchase_revenue'], non_members['purchase_revenue'], equal_var=True)\n",
    "\n",
    "alpha = 0.05\n",
    "\n",
    "print('Null hypothesis:\\n   The loyalty program does not effect revenues from customers\\n')\n",
    "print('Alternative hypothesis:\\n   The loyalty program increases revenues from customers\\n')\n",
    "print('p-value: ', results.pvalue / 2)\n",
    "\n",
    "if (results.pvalue / 2 < alpha):\n",
    "    print(\"We reject the null hypothesis\")\n",
    "else:\n",
    "    print(\"We can't reject the null hypothesis\")"
   ]
  },
  {
   "cell_type": "markdown",
   "metadata": {},
   "source": [
    "#### Conclusion\n",
    "\n",
    "We can not reject the null hupotesis since our p-value was greater than 0.05, the critical significance level. This means that it's likely that the loyalty program doesn't encourage customers to spend more. The weak correlation must be true."
   ]
  },
  {
   "cell_type": "markdown",
   "metadata": {},
   "source": [
    "### Are item quantities per purchase higher for members of the loyalty program?"
   ]
  },
  {
   "cell_type": "code",
   "execution_count": 29,
   "metadata": {},
   "outputs": [
    {
     "name": "stdout",
     "output_type": "stream",
     "text": [
      "Mean quantities per purchase for members: 6.52\n",
      "Mean quantities per purchase for non-members: 6.45\n"
     ]
    }
   ],
   "source": [
    "# mean item quantities per purchase\n",
    "\n",
    "print('Mean quantities per purchase for members:', round(members['Quantity'].mean(), 2))\n",
    "print('Mean quantities per purchase for non-members:', round(non_members['Quantity'].mean(), 2))"
   ]
  },
  {
   "cell_type": "code",
   "execution_count": 30,
   "metadata": {},
   "outputs": [
    {
     "name": "stdout",
     "output_type": "stream",
     "text": [
      "Loyalty members revenue variance: 40.21\n",
      "Non-members revenue variance: 40.00\n",
      "\n",
      "Null hypothesis:\n",
      "   The loyalty program does not effect item quantities per purchase\n",
      "\n",
      "Alternative hypothesis:\n",
      "   The loyalty program increases item quantities per purchase\n",
      "\n",
      "p-value:  0.19617326589246142\n",
      "We can't reject the null hypothesis\n"
     ]
    }
   ],
   "source": [
    "# run p-test for item quantities per purchase\n",
    "\n",
    "print('Loyalty members revenue variance: {:.2f}'.format(members['Quantity'].var()))\n",
    "print('Non-members revenue variance: {:.2f}\\n'.format(non_members['Quantity'].var()))\n",
    "\n",
    "results = st.ttest_ind(members['Quantity'], non_members['Quantity'], equal_var=True)\n",
    "\n",
    "alpha = 0.05\n",
    "\n",
    "print('Null hypothesis:\\n   The loyalty program does not effect item quantities per purchase\\n')\n",
    "print('Alternative hypothesis:\\n   The loyalty program increases item quantities per purchase\\n')\n",
    "print('p-value: ', results.pvalue)\n",
    "\n",
    "if (results.pvalue / 2 < alpha):\n",
    "    print(\"We reject the null hypothesis\")\n",
    "else:\n",
    "    print(\"We can't reject the null hypothesis\")"
   ]
  },
  {
   "cell_type": "markdown",
   "metadata": {},
   "source": [
    "#### Conclusion\n",
    "For this test, we cannot reject the null hypothesis. This means that the difference in average item quantity per purchase between members and non-members is probably due to randomness and isn't truly significant. "
   ]
  },
  {
   "cell_type": "markdown",
   "metadata": {},
   "source": [
    "## Step 6: Conclusions & recommendations\n",
    "\n",
    "After our initial overview and exploratory data analysis, we concluded that the data had some problems that needed to be addressed before continuing on with the analysis. Here is what we changed about the original data:\n",
    " - Changed 'purchasedate' column to *datatime* data type\n",
    " - Changed 'CustomerID' column to *object* data type\n",
    " - Dropped duplicated rows from the retail_data DataFrame\n",
    " - Addressed the missing values in the 'CustomerID' column\n",
    " - Removed purchases with 0 and negative values for 'Quantity'\n",
    " - Removed purchases with positive outliers in 'Quantity'"
   ]
  },
  {
   "cell_type": "markdown",
   "metadata": {},
   "source": [
    "Through our analysis, we found that Shop 0 had the highest revenue by nearly 4x the other shops! We looked more closely at why this may be the case, and found it was simply because there were more purchases made there.\n",
    "\n",
    "We then tested hypotheses that the loyalty program increases average revenue and items bought per purchase. We found that the loyalty program doesn't increase revenue significantly, and the average number of items bought per purchase is the same beteen members and non-members."
   ]
  },
  {
   "cell_type": "markdown",
   "metadata": {},
   "source": [
    "#### Recommendations\n",
    " - Focus on driving more customers to other locations. The only reason Shop 0 had the highest revenue was because more purchases were made there.\n",
    " - Continue to target resources towards building and improving the loyalty program. The program as-is is inneffective at increasing revenue."
   ]
  }
 ],
 "metadata": {
  "ExecuteTimeLog": [
   {
    "duration": 1549,
    "start_time": "2021-08-05T23:41:16.007Z"
   },
   {
    "duration": 1134,
    "start_time": "2021-08-05T23:41:17.559Z"
   },
   {
    "duration": 56,
    "start_time": "2021-08-05T23:41:18.695Z"
   },
   {
    "duration": 78,
    "start_time": "2021-08-05T23:41:18.753Z"
   },
   {
    "duration": 30,
    "start_time": "2021-08-05T23:41:18.833Z"
   },
   {
    "duration": 177,
    "start_time": "2021-08-05T23:41:18.885Z"
   },
   {
    "duration": 29,
    "start_time": "2021-08-05T23:41:19.064Z"
   },
   {
    "duration": 10,
    "start_time": "2021-08-05T23:41:19.097Z"
   },
   {
    "duration": 4,
    "start_time": "2021-08-05T23:41:19.111Z"
   },
   {
    "duration": 197,
    "start_time": "2021-08-05T23:41:19.117Z"
   },
   {
    "duration": 41,
    "start_time": "2021-08-05T23:41:19.316Z"
   },
   {
    "duration": 792,
    "start_time": "2021-08-05T23:41:19.359Z"
   },
   {
    "duration": 316,
    "start_time": "2021-08-05T23:41:20.154Z"
   },
   {
    "duration": 39,
    "start_time": "2021-08-05T23:41:20.472Z"
   },
   {
    "duration": 14,
    "start_time": "2021-08-05T23:41:20.513Z"
   },
   {
    "duration": 8,
    "start_time": "2021-08-05T23:41:20.529Z"
   },
   {
    "duration": 341,
    "start_time": "2021-08-05T23:41:20.539Z"
   },
   {
    "duration": 444,
    "start_time": "2021-08-05T23:41:20.886Z"
   },
   {
    "duration": 63,
    "start_time": "2021-08-05T23:41:21.332Z"
   },
   {
    "duration": 33,
    "start_time": "2021-08-05T23:41:21.398Z"
   },
   {
    "duration": 318,
    "start_time": "2021-08-05T23:41:21.433Z"
   },
   {
    "duration": 133,
    "start_time": "2021-08-05T23:41:21.754Z"
   },
   {
    "duration": 8,
    "start_time": "2021-08-05T23:41:21.889Z"
   },
   {
    "duration": 2415,
    "start_time": "2021-08-05T23:41:21.899Z"
   },
   {
    "duration": 18,
    "start_time": "2021-08-05T23:41:24.318Z"
   },
   {
    "duration": 49,
    "start_time": "2021-08-05T23:41:24.342Z"
   },
   {
    "duration": 9,
    "start_time": "2021-08-05T23:41:24.394Z"
   },
   {
    "duration": 12,
    "start_time": "2021-08-05T23:41:24.406Z"
   },
   {
    "duration": 11,
    "start_time": "2021-08-05T23:41:24.420Z"
   },
   {
    "duration": 53,
    "start_time": "2021-08-05T23:41:24.433Z"
   },
   {
    "duration": 1587,
    "start_time": "2021-08-06T19:15:12.862Z"
   },
   {
    "duration": 1137,
    "start_time": "2021-08-06T19:15:18.415Z"
   },
   {
    "duration": 70,
    "start_time": "2021-08-06T19:15:20.552Z"
   },
   {
    "duration": 65,
    "start_time": "2021-08-06T19:18:44.964Z"
   },
   {
    "duration": 35,
    "start_time": "2021-08-06T19:18:47.025Z"
   },
   {
    "duration": 131,
    "start_time": "2021-08-06T19:19:32.092Z"
   },
   {
    "duration": 19,
    "start_time": "2021-08-06T19:19:34.500Z"
   },
   {
    "duration": 11,
    "start_time": "2021-08-06T19:19:39.063Z"
   },
   {
    "duration": 4,
    "start_time": "2021-08-06T19:19:47.342Z"
   },
   {
    "duration": 186,
    "start_time": "2021-08-06T19:19:54.442Z"
   },
   {
    "duration": 53,
    "start_time": "2021-08-06T19:20:00.804Z"
   },
   {
    "duration": 868,
    "start_time": "2021-08-06T19:20:27.815Z"
   },
   {
    "duration": 318,
    "start_time": "2021-08-06T19:20:41.904Z"
   },
   {
    "duration": 27,
    "start_time": "2021-08-06T19:20:45.000Z"
   },
   {
    "duration": 14,
    "start_time": "2021-08-06T19:20:47.150Z"
   },
   {
    "duration": 5,
    "start_time": "2021-08-06T19:20:49.713Z"
   },
   {
    "duration": 500,
    "start_time": "2021-08-06T19:20:53.014Z"
   },
   {
    "duration": 779,
    "start_time": "2021-08-06T19:21:08.912Z"
   },
   {
    "duration": 58,
    "start_time": "2021-08-06T19:21:15.858Z"
   },
   {
    "duration": 39,
    "start_time": "2021-08-06T19:21:18.709Z"
   },
   {
    "duration": 307,
    "start_time": "2021-08-06T19:31:49.530Z"
   },
   {
    "duration": 62,
    "start_time": "2021-08-06T19:32:13.115Z"
   },
   {
    "duration": 8,
    "start_time": "2021-08-06T19:32:20.061Z"
   },
   {
    "duration": 2429,
    "start_time": "2021-08-06T19:32:25.302Z"
   },
   {
    "duration": 31,
    "start_time": "2021-08-06T19:32:32.257Z"
   },
   {
    "duration": 20,
    "start_time": "2021-08-06T19:33:07.858Z"
   },
   {
    "duration": 7,
    "start_time": "2021-08-06T19:33:11.180Z"
   },
   {
    "duration": 11,
    "start_time": "2021-08-06T19:33:17.210Z"
   },
   {
    "duration": 6,
    "start_time": "2021-08-06T19:33:59.978Z"
   },
   {
    "duration": 11,
    "start_time": "2021-08-06T19:34:00.420Z"
   }
  ],
  "kernelspec": {
   "display_name": "Python 3",
   "language": "python",
   "name": "python3"
  },
  "language_info": {
   "codemirror_mode": {
    "name": "ipython",
    "version": 3
   },
   "file_extension": ".py",
   "mimetype": "text/x-python",
   "name": "python",
   "nbconvert_exporter": "python",
   "pygments_lexer": "ipython3",
   "version": "3.8.5"
  },
  "toc": {
   "base_numbering": 1,
   "nav_menu": {},
   "number_sections": true,
   "sideBar": true,
   "skip_h1_title": true,
   "title_cell": "Table of Contents",
   "title_sidebar": "Contents",
   "toc_cell": false,
   "toc_position": {},
   "toc_section_display": true,
   "toc_window_display": false
  }
 },
 "nbformat": 4,
 "nbformat_minor": 2
}
