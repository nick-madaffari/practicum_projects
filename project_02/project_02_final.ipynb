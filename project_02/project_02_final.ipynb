{
 "cells": [
  {
   "cell_type": "markdown",
   "metadata": {},
   "source": [
    "# Research on car sales ads <a name=\"introduction\"></a>\n",
    "\n",
    "You're an analyst at Crankshaft List. Hundreds of free advertisements for vehicles are published on your site every day.\n",
    "\n",
    "You need to study data collected over the last few years and determine which factors influence the price of a vehicle. "
   ]
  },
  {
   "cell_type": "markdown",
   "metadata": {},
   "source": [
    "### Step 1: Open data file & look at general info <a name=\"step_1\"></a>"
   ]
  },
  {
   "cell_type": "code",
   "execution_count": 1,
   "metadata": {},
   "outputs": [
    {
     "data": {
      "text/html": [
       "<div>\n",
       "<style scoped>\n",
       "    .dataframe tbody tr th:only-of-type {\n",
       "        vertical-align: middle;\n",
       "    }\n",
       "\n",
       "    .dataframe tbody tr th {\n",
       "        vertical-align: top;\n",
       "    }\n",
       "\n",
       "    .dataframe thead th {\n",
       "        text-align: right;\n",
       "    }\n",
       "</style>\n",
       "<table border=\"1\" class=\"dataframe\">\n",
       "  <thead>\n",
       "    <tr style=\"text-align: right;\">\n",
       "      <th></th>\n",
       "      <th>price</th>\n",
       "      <th>model_year</th>\n",
       "      <th>model</th>\n",
       "      <th>condition</th>\n",
       "      <th>cylinders</th>\n",
       "      <th>fuel</th>\n",
       "      <th>odometer</th>\n",
       "      <th>transmission</th>\n",
       "      <th>type</th>\n",
       "      <th>paint_color</th>\n",
       "      <th>is_4wd</th>\n",
       "      <th>date_posted</th>\n",
       "      <th>days_listed</th>\n",
       "    </tr>\n",
       "  </thead>\n",
       "  <tbody>\n",
       "    <tr>\n",
       "      <th>0</th>\n",
       "      <td>9400</td>\n",
       "      <td>2011.0</td>\n",
       "      <td>bmw x5</td>\n",
       "      <td>good</td>\n",
       "      <td>6.0</td>\n",
       "      <td>gas</td>\n",
       "      <td>145000.0</td>\n",
       "      <td>automatic</td>\n",
       "      <td>SUV</td>\n",
       "      <td>NaN</td>\n",
       "      <td>1.0</td>\n",
       "      <td>2018-06-23</td>\n",
       "      <td>19</td>\n",
       "    </tr>\n",
       "    <tr>\n",
       "      <th>1</th>\n",
       "      <td>25500</td>\n",
       "      <td>NaN</td>\n",
       "      <td>ford f-150</td>\n",
       "      <td>good</td>\n",
       "      <td>6.0</td>\n",
       "      <td>gas</td>\n",
       "      <td>88705.0</td>\n",
       "      <td>automatic</td>\n",
       "      <td>pickup</td>\n",
       "      <td>white</td>\n",
       "      <td>1.0</td>\n",
       "      <td>2018-10-19</td>\n",
       "      <td>50</td>\n",
       "    </tr>\n",
       "    <tr>\n",
       "      <th>2</th>\n",
       "      <td>5500</td>\n",
       "      <td>2013.0</td>\n",
       "      <td>hyundai sonata</td>\n",
       "      <td>like new</td>\n",
       "      <td>4.0</td>\n",
       "      <td>gas</td>\n",
       "      <td>110000.0</td>\n",
       "      <td>automatic</td>\n",
       "      <td>sedan</td>\n",
       "      <td>red</td>\n",
       "      <td>NaN</td>\n",
       "      <td>2019-02-07</td>\n",
       "      <td>79</td>\n",
       "    </tr>\n",
       "    <tr>\n",
       "      <th>3</th>\n",
       "      <td>1500</td>\n",
       "      <td>2003.0</td>\n",
       "      <td>ford f-150</td>\n",
       "      <td>fair</td>\n",
       "      <td>8.0</td>\n",
       "      <td>gas</td>\n",
       "      <td>NaN</td>\n",
       "      <td>automatic</td>\n",
       "      <td>pickup</td>\n",
       "      <td>NaN</td>\n",
       "      <td>NaN</td>\n",
       "      <td>2019-03-22</td>\n",
       "      <td>9</td>\n",
       "    </tr>\n",
       "    <tr>\n",
       "      <th>4</th>\n",
       "      <td>14900</td>\n",
       "      <td>2017.0</td>\n",
       "      <td>chrysler 200</td>\n",
       "      <td>excellent</td>\n",
       "      <td>4.0</td>\n",
       "      <td>gas</td>\n",
       "      <td>80903.0</td>\n",
       "      <td>automatic</td>\n",
       "      <td>sedan</td>\n",
       "      <td>black</td>\n",
       "      <td>NaN</td>\n",
       "      <td>2019-04-02</td>\n",
       "      <td>28</td>\n",
       "    </tr>\n",
       "    <tr>\n",
       "      <th>5</th>\n",
       "      <td>14990</td>\n",
       "      <td>2014.0</td>\n",
       "      <td>chrysler 300</td>\n",
       "      <td>excellent</td>\n",
       "      <td>6.0</td>\n",
       "      <td>gas</td>\n",
       "      <td>57954.0</td>\n",
       "      <td>automatic</td>\n",
       "      <td>sedan</td>\n",
       "      <td>black</td>\n",
       "      <td>1.0</td>\n",
       "      <td>2018-06-20</td>\n",
       "      <td>15</td>\n",
       "    </tr>\n",
       "    <tr>\n",
       "      <th>6</th>\n",
       "      <td>12990</td>\n",
       "      <td>2015.0</td>\n",
       "      <td>toyota camry</td>\n",
       "      <td>excellent</td>\n",
       "      <td>4.0</td>\n",
       "      <td>gas</td>\n",
       "      <td>79212.0</td>\n",
       "      <td>automatic</td>\n",
       "      <td>sedan</td>\n",
       "      <td>white</td>\n",
       "      <td>NaN</td>\n",
       "      <td>2018-12-27</td>\n",
       "      <td>73</td>\n",
       "    </tr>\n",
       "    <tr>\n",
       "      <th>7</th>\n",
       "      <td>15990</td>\n",
       "      <td>2013.0</td>\n",
       "      <td>honda pilot</td>\n",
       "      <td>excellent</td>\n",
       "      <td>6.0</td>\n",
       "      <td>gas</td>\n",
       "      <td>109473.0</td>\n",
       "      <td>automatic</td>\n",
       "      <td>SUV</td>\n",
       "      <td>black</td>\n",
       "      <td>1.0</td>\n",
       "      <td>2019-01-07</td>\n",
       "      <td>68</td>\n",
       "    </tr>\n",
       "    <tr>\n",
       "      <th>8</th>\n",
       "      <td>11500</td>\n",
       "      <td>2012.0</td>\n",
       "      <td>kia sorento</td>\n",
       "      <td>excellent</td>\n",
       "      <td>4.0</td>\n",
       "      <td>gas</td>\n",
       "      <td>104174.0</td>\n",
       "      <td>automatic</td>\n",
       "      <td>SUV</td>\n",
       "      <td>NaN</td>\n",
       "      <td>1.0</td>\n",
       "      <td>2018-07-16</td>\n",
       "      <td>19</td>\n",
       "    </tr>\n",
       "    <tr>\n",
       "      <th>9</th>\n",
       "      <td>9200</td>\n",
       "      <td>2008.0</td>\n",
       "      <td>honda pilot</td>\n",
       "      <td>excellent</td>\n",
       "      <td>NaN</td>\n",
       "      <td>gas</td>\n",
       "      <td>147191.0</td>\n",
       "      <td>automatic</td>\n",
       "      <td>SUV</td>\n",
       "      <td>blue</td>\n",
       "      <td>1.0</td>\n",
       "      <td>2019-02-15</td>\n",
       "      <td>17</td>\n",
       "    </tr>\n",
       "  </tbody>\n",
       "</table>\n",
       "</div>"
      ],
      "text/plain": [
       "   price  model_year           model  condition  cylinders fuel  odometer  \\\n",
       "0   9400      2011.0          bmw x5       good        6.0  gas  145000.0   \n",
       "1  25500         NaN      ford f-150       good        6.0  gas   88705.0   \n",
       "2   5500      2013.0  hyundai sonata   like new        4.0  gas  110000.0   \n",
       "3   1500      2003.0      ford f-150       fair        8.0  gas       NaN   \n",
       "4  14900      2017.0    chrysler 200  excellent        4.0  gas   80903.0   \n",
       "5  14990      2014.0    chrysler 300  excellent        6.0  gas   57954.0   \n",
       "6  12990      2015.0    toyota camry  excellent        4.0  gas   79212.0   \n",
       "7  15990      2013.0     honda pilot  excellent        6.0  gas  109473.0   \n",
       "8  11500      2012.0     kia sorento  excellent        4.0  gas  104174.0   \n",
       "9   9200      2008.0     honda pilot  excellent        NaN  gas  147191.0   \n",
       "\n",
       "  transmission    type paint_color  is_4wd date_posted  days_listed  \n",
       "0    automatic     SUV         NaN     1.0  2018-06-23           19  \n",
       "1    automatic  pickup       white     1.0  2018-10-19           50  \n",
       "2    automatic   sedan         red     NaN  2019-02-07           79  \n",
       "3    automatic  pickup         NaN     NaN  2019-03-22            9  \n",
       "4    automatic   sedan       black     NaN  2019-04-02           28  \n",
       "5    automatic   sedan       black     1.0  2018-06-20           15  \n",
       "6    automatic   sedan       white     NaN  2018-12-27           73  \n",
       "7    automatic     SUV       black     1.0  2019-01-07           68  \n",
       "8    automatic     SUV         NaN     1.0  2018-07-16           19  \n",
       "9    automatic     SUV        blue     1.0  2019-02-15           17  "
      ]
     },
     "execution_count": 1,
     "metadata": {},
     "output_type": "execute_result"
    }
   ],
   "source": [
    "import pandas as pd\n",
    "import numpy as np\n",
    "import math\n",
    "import matplotlib.pyplot as plt\n",
    "\n",
    "# try-except block handles errors that occur from changing file directories\n",
    "try:\n",
    "    data = pd.read_csv('vehicles_us.csv')\n",
    "except:\n",
    "    data = pd.read_csv('/datasets/vehicles_us.csv')\n",
    "\n",
    "\n",
    "# print first 10 rows of data    \n",
    "data.head(10)"
   ]
  },
  {
   "cell_type": "code",
   "execution_count": 2,
   "metadata": {},
   "outputs": [
    {
     "name": "stdout",
     "output_type": "stream",
     "text": [
      "<class 'pandas.core.frame.DataFrame'>\n",
      "RangeIndex: 51525 entries, 0 to 51524\n",
      "Data columns (total 13 columns):\n",
      " #   Column        Non-Null Count  Dtype  \n",
      "---  ------        --------------  -----  \n",
      " 0   price         51525 non-null  int64  \n",
      " 1   model_year    47906 non-null  float64\n",
      " 2   model         51525 non-null  object \n",
      " 3   condition     51525 non-null  object \n",
      " 4   cylinders     46265 non-null  float64\n",
      " 5   fuel          51525 non-null  object \n",
      " 6   odometer      43633 non-null  float64\n",
      " 7   transmission  51525 non-null  object \n",
      " 8   type          51525 non-null  object \n",
      " 9   paint_color   42258 non-null  object \n",
      " 10  is_4wd        25572 non-null  float64\n",
      " 11  date_posted   51525 non-null  object \n",
      " 12  days_listed   51525 non-null  int64  \n",
      "dtypes: float64(4), int64(2), object(7)\n",
      "memory usage: 5.1+ MB\n",
      "\n",
      "\n",
      "               price    model_year     cylinders       odometer   is_4wd  \\\n",
      "count   51525.000000  47906.000000  46265.000000   43633.000000  25572.0   \n",
      "mean    12132.464920   2009.750470      6.125235  115553.461738      1.0   \n",
      "std     10040.803015      6.282065      1.660360   65094.611341      0.0   \n",
      "min         1.000000   1908.000000      3.000000       0.000000      1.0   \n",
      "25%      5000.000000   2006.000000      4.000000   70000.000000      1.0   \n",
      "50%      9000.000000   2011.000000      6.000000  113000.000000      1.0   \n",
      "75%     16839.000000   2014.000000      8.000000  155000.000000      1.0   \n",
      "max    375000.000000   2019.000000     12.000000  990000.000000      1.0   \n",
      "\n",
      "       days_listed  \n",
      "count  51525.00000  \n",
      "mean      39.55476  \n",
      "std       28.20427  \n",
      "min        0.00000  \n",
      "25%       19.00000  \n",
      "50%       33.00000  \n",
      "75%       53.00000  \n",
      "max      271.00000  \n"
     ]
    }
   ],
   "source": [
    "# print general information & statistics about the data\n",
    "\n",
    "data.info()\n",
    "print('')\n",
    "print('')\n",
    "print(data.describe())"
   ]
  },
  {
   "cell_type": "markdown",
   "metadata": {},
   "source": [
    "#### Conclusion <a name=\"step_1_conclusion\"></a>"
   ]
  },
  {
   "cell_type": "markdown",
   "metadata": {},
   "source": [
    "The **model_year**, **cylinder**, **odometer**, **paint_color**, and **is_4wd** columns all have missing or erroneous values that we need to address and fill. For missing values in the **model_year** column, we can use the most common year for each model. For missing values in the **cylinders** column, we can use the number of cylinders given by other rows for the same model. Missing values in the **odometer** column can be set to the average mileage based on the model year. For the **paint_color** column, we can use the most common paint colors for certain models. It appears as if the missing values in **is_4wd** should all be 0 or False values, so we can fill these with zeros.\n",
    "\n",
    "We should also change data types for some columns. The **model_year**, **cylinders**, and **odometer** columns should be changed from *float64* to *int64* since they don't require decimal precision. The **date_posted** column data type should be changed from *object* to *datetime*."
   ]
  },
  {
   "cell_type": "markdown",
   "metadata": {},
   "source": [
    "### Step 2: Data preprocessing <a name=\"step_2\"></a>"
   ]
  },
  {
   "cell_type": "markdown",
   "metadata": {},
   "source": [
    "#### Processing missing values <a name=\"step_2_1\"></a>\n",
    "\n",
    "We'll start with missing values in the **model_year**, **cylinders**, and **paint_color** columns. We can use the most common model years, number of cylinders, and paint colors for each model and then fill missing values in each column based on model accordingly. We'll write a function to achieve this."
   ]
  },
  {
   "cell_type": "code",
   "execution_count": 3,
   "metadata": {},
   "outputs": [],
   "source": [
    "# write a function that replaces NaNs in a column with most common occurrences of that data based on the vehicle model\n",
    "\n",
    "def fillna_modes(model, nan_col):\n",
    "    \"\"\"Take model column and column containing NaNs\n",
    "    and fill NaN column with modes based on model\"\"\"\n",
    "    \n",
    "    model_modes = data.groupby(model)[nan_col].agg(lambda x: x.value_counts().index[0])\n",
    "    model_modes_dict = dict(zip(model_modes.index, model_modes.values))\n",
    "    data[nan_col] = data[nan_col].fillna(data[model].map(model_modes_dict))\n",
    "\n",
    "fillna_modes('model', 'model_year')\n",
    "fillna_modes('model', 'cylinders')\n",
    "fillna_modes('model', 'paint_color')"
   ]
  },
  {
   "cell_type": "markdown",
   "metadata": {},
   "source": [
    "Next, we'll do something similar with the **odometer** column. Rather than using the mode and vehicle model, we'll use the average based on vehicle year."
   ]
  },
  {
   "cell_type": "code",
   "execution_count": 4,
   "metadata": {
    "scrolled": true
   },
   "outputs": [],
   "source": [
    "# replace NaNs in the 'odometer' column with the mean mileage based on the model year\n",
    "\n",
    "year_means = data.groupby('model_year')['odometer'].mean()\n",
    "year_means_dict = dict(zip(year_means.index, year_means.values))\n",
    "data['odometer'] = data['odometer'].fillna(data['model_year'].map(year_means_dict))"
   ]
  },
  {
   "cell_type": "code",
   "execution_count": 5,
   "metadata": {},
   "outputs": [
    {
     "data": {
      "text/html": [
       "<div>\n",
       "<style scoped>\n",
       "    .dataframe tbody tr th:only-of-type {\n",
       "        vertical-align: middle;\n",
       "    }\n",
       "\n",
       "    .dataframe tbody tr th {\n",
       "        vertical-align: top;\n",
       "    }\n",
       "\n",
       "    .dataframe thead th {\n",
       "        text-align: right;\n",
       "    }\n",
       "</style>\n",
       "<table border=\"1\" class=\"dataframe\">\n",
       "  <thead>\n",
       "    <tr style=\"text-align: right;\">\n",
       "      <th></th>\n",
       "      <th>price</th>\n",
       "      <th>model_year</th>\n",
       "      <th>model</th>\n",
       "      <th>condition</th>\n",
       "      <th>cylinders</th>\n",
       "      <th>fuel</th>\n",
       "      <th>odometer</th>\n",
       "      <th>transmission</th>\n",
       "      <th>type</th>\n",
       "      <th>paint_color</th>\n",
       "      <th>is_4wd</th>\n",
       "      <th>date_posted</th>\n",
       "      <th>days_listed</th>\n",
       "    </tr>\n",
       "  </thead>\n",
       "  <tbody>\n",
       "    <tr>\n",
       "      <th>45694</th>\n",
       "      <td>18000</td>\n",
       "      <td>1929.0</td>\n",
       "      <td>ford f-150</td>\n",
       "      <td>good</td>\n",
       "      <td>8.0</td>\n",
       "      <td>gas</td>\n",
       "      <td>NaN</td>\n",
       "      <td>manual</td>\n",
       "      <td>other</td>\n",
       "      <td>silver</td>\n",
       "      <td>NaN</td>\n",
       "      <td>2018-11-18</td>\n",
       "      <td>59</td>\n",
       "    </tr>\n",
       "  </tbody>\n",
       "</table>\n",
       "</div>"
      ],
      "text/plain": [
       "       price  model_year       model condition  cylinders fuel  odometer  \\\n",
       "45694  18000      1929.0  ford f-150      good        8.0  gas       NaN   \n",
       "\n",
       "      transmission   type paint_color  is_4wd date_posted  days_listed  \n",
       "45694       manual  other      silver     NaN  2018-11-18           59  "
      ]
     },
     "execution_count": 5,
     "metadata": {},
     "output_type": "execute_result"
    }
   ],
   "source": [
    "# check for any other NaNs in the 'odometer' column\n",
    "\n",
    "data[data['odometer'].isna()]"
   ]
  },
  {
   "cell_type": "markdown",
   "metadata": {},
   "source": [
    "There's still one vehichle with a missing value in the **odometer** column, a 1929 Ford F-150. We can fill this with the odometer average for the next closest model year."
   ]
  },
  {
   "cell_type": "code",
   "execution_count": 6,
   "metadata": {},
   "outputs": [
    {
     "data": {
      "text/html": [
       "<div>\n",
       "<style scoped>\n",
       "    .dataframe tbody tr th:only-of-type {\n",
       "        vertical-align: middle;\n",
       "    }\n",
       "\n",
       "    .dataframe tbody tr th {\n",
       "        vertical-align: top;\n",
       "    }\n",
       "\n",
       "    .dataframe thead th {\n",
       "        text-align: right;\n",
       "    }\n",
       "</style>\n",
       "<table border=\"1\" class=\"dataframe\">\n",
       "  <thead>\n",
       "    <tr style=\"text-align: right;\">\n",
       "      <th></th>\n",
       "      <th>price</th>\n",
       "      <th>model_year</th>\n",
       "      <th>model</th>\n",
       "      <th>condition</th>\n",
       "      <th>cylinders</th>\n",
       "      <th>fuel</th>\n",
       "      <th>odometer</th>\n",
       "      <th>transmission</th>\n",
       "      <th>type</th>\n",
       "      <th>paint_color</th>\n",
       "      <th>is_4wd</th>\n",
       "      <th>date_posted</th>\n",
       "      <th>days_listed</th>\n",
       "    </tr>\n",
       "  </thead>\n",
       "  <tbody>\n",
       "    <tr>\n",
       "      <th>33906</th>\n",
       "      <td>12995</td>\n",
       "      <td>1908.0</td>\n",
       "      <td>gmc yukon</td>\n",
       "      <td>good</td>\n",
       "      <td>8.0</td>\n",
       "      <td>gas</td>\n",
       "      <td>169328.0</td>\n",
       "      <td>automatic</td>\n",
       "      <td>SUV</td>\n",
       "      <td>black</td>\n",
       "      <td>NaN</td>\n",
       "      <td>2018-07-06</td>\n",
       "      <td>34</td>\n",
       "    </tr>\n",
       "    <tr>\n",
       "      <th>33907</th>\n",
       "      <td>12995</td>\n",
       "      <td>1908.0</td>\n",
       "      <td>cadillac escalade</td>\n",
       "      <td>excellent</td>\n",
       "      <td>8.0</td>\n",
       "      <td>gas</td>\n",
       "      <td>169328.0</td>\n",
       "      <td>automatic</td>\n",
       "      <td>SUV</td>\n",
       "      <td>white</td>\n",
       "      <td>NaN</td>\n",
       "      <td>2018-06-24</td>\n",
       "      <td>25</td>\n",
       "    </tr>\n",
       "    <tr>\n",
       "      <th>45694</th>\n",
       "      <td>18000</td>\n",
       "      <td>1929.0</td>\n",
       "      <td>ford f-150</td>\n",
       "      <td>good</td>\n",
       "      <td>8.0</td>\n",
       "      <td>gas</td>\n",
       "      <td>NaN</td>\n",
       "      <td>manual</td>\n",
       "      <td>other</td>\n",
       "      <td>silver</td>\n",
       "      <td>NaN</td>\n",
       "      <td>2018-11-18</td>\n",
       "      <td>59</td>\n",
       "    </tr>\n",
       "    <tr>\n",
       "      <th>34713</th>\n",
       "      <td>5000</td>\n",
       "      <td>1936.0</td>\n",
       "      <td>ford f-150</td>\n",
       "      <td>excellent</td>\n",
       "      <td>6.0</td>\n",
       "      <td>gas</td>\n",
       "      <td>30000.0</td>\n",
       "      <td>manual</td>\n",
       "      <td>pickup</td>\n",
       "      <td>purple</td>\n",
       "      <td>NaN</td>\n",
       "      <td>2018-11-22</td>\n",
       "      <td>10</td>\n",
       "    </tr>\n",
       "    <tr>\n",
       "      <th>22595</th>\n",
       "      <td>21000</td>\n",
       "      <td>1948.0</td>\n",
       "      <td>chevrolet impala</td>\n",
       "      <td>like new</td>\n",
       "      <td>8.0</td>\n",
       "      <td>gas</td>\n",
       "      <td>4000.0</td>\n",
       "      <td>automatic</td>\n",
       "      <td>sedan</td>\n",
       "      <td>red</td>\n",
       "      <td>NaN</td>\n",
       "      <td>2019-01-18</td>\n",
       "      <td>24</td>\n",
       "    </tr>\n",
       "  </tbody>\n",
       "</table>\n",
       "</div>"
      ],
      "text/plain": [
       "       price  model_year              model  condition  cylinders fuel  \\\n",
       "33906  12995      1908.0          gmc yukon       good        8.0  gas   \n",
       "33907  12995      1908.0  cadillac escalade  excellent        8.0  gas   \n",
       "45694  18000      1929.0         ford f-150       good        8.0  gas   \n",
       "34713   5000      1936.0         ford f-150  excellent        6.0  gas   \n",
       "22595  21000      1948.0   chevrolet impala   like new        8.0  gas   \n",
       "\n",
       "       odometer transmission    type paint_color  is_4wd date_posted  \\\n",
       "33906  169328.0    automatic     SUV       black     NaN  2018-07-06   \n",
       "33907  169328.0    automatic     SUV       white     NaN  2018-06-24   \n",
       "45694       NaN       manual   other      silver     NaN  2018-11-18   \n",
       "34713   30000.0       manual  pickup      purple     NaN  2018-11-22   \n",
       "22595    4000.0    automatic   sedan         red     NaN  2019-01-18   \n",
       "\n",
       "       days_listed  \n",
       "33906           34  \n",
       "33907           25  \n",
       "45694           59  \n",
       "34713           10  \n",
       "22595           24  "
      ]
     },
     "execution_count": 6,
     "metadata": {},
     "output_type": "execute_result"
    }
   ],
   "source": [
    "# look at the next closest model year and find the odometer reading\n",
    "\n",
    "data.sort_values(by='model_year').head()"
   ]
  },
  {
   "cell_type": "markdown",
   "metadata": {},
   "source": [
    "We can use the average for the 1908 model year as an estimate for our last missing value. 1908 vehicle models averaged 169,328 miles. Let's use .loc to replace the last NaN with this average value."
   ]
  },
  {
   "cell_type": "code",
   "execution_count": 7,
   "metadata": {},
   "outputs": [],
   "source": [
    "# replace 1929 F-150 odometer value with 169,328\n",
    "\n",
    "data.loc[data['model_year'] == 1929, 'odometer'] = 169328"
   ]
  },
  {
   "cell_type": "markdown",
   "metadata": {},
   "source": [
    "The **odometer** column now has no missing values. That leaves us with the **is_4wd** column, which consists of 1s and NaNs. Here, missing values can be safely replaced with 0s, indicating that the vehicle is not 4wd."
   ]
  },
  {
   "cell_type": "code",
   "execution_count": 8,
   "metadata": {},
   "outputs": [],
   "source": [
    "# replace NaN values in 'is_4wd' with 0s\n",
    "\n",
    "data['is_4wd'] = data['is_4wd'].fillna(0)"
   ]
  },
  {
   "cell_type": "code",
   "execution_count": 9,
   "metadata": {},
   "outputs": [
    {
     "name": "stdout",
     "output_type": "stream",
     "text": [
      "<class 'pandas.core.frame.DataFrame'>\n",
      "RangeIndex: 51525 entries, 0 to 51524\n",
      "Data columns (total 13 columns):\n",
      " #   Column        Non-Null Count  Dtype  \n",
      "---  ------        --------------  -----  \n",
      " 0   price         51525 non-null  int64  \n",
      " 1   model_year    51525 non-null  float64\n",
      " 2   model         51525 non-null  object \n",
      " 3   condition     51525 non-null  object \n",
      " 4   cylinders     51525 non-null  float64\n",
      " 5   fuel          51525 non-null  object \n",
      " 6   odometer      51525 non-null  float64\n",
      " 7   transmission  51525 non-null  object \n",
      " 8   type          51525 non-null  object \n",
      " 9   paint_color   51525 non-null  object \n",
      " 10  is_4wd        51525 non-null  float64\n",
      " 11  date_posted   51525 non-null  object \n",
      " 12  days_listed   51525 non-null  int64  \n",
      "dtypes: float64(4), int64(2), object(7)\n",
      "memory usage: 5.1+ MB\n"
     ]
    }
   ],
   "source": [
    "# make sure that all missing values have been filled\n",
    "\n",
    "data.info()"
   ]
  },
  {
   "cell_type": "markdown",
   "metadata": {},
   "source": [
    "#### Checking for duplicates <a name=\"step_2_2\"></a>"
   ]
  },
  {
   "cell_type": "markdown",
   "metadata": {},
   "source": [
    "It's always a good idea to check for and address duplicates. We can't see anything immediately that would suggest there are duplicates, but it's good practice to check with the .duplicated() pandas method."
   ]
  },
  {
   "cell_type": "code",
   "execution_count": 10,
   "metadata": {},
   "outputs": [
    {
     "data": {
      "text/plain": [
       "0"
      ]
     },
     "execution_count": 10,
     "metadata": {},
     "output_type": "execute_result"
    }
   ],
   "source": [
    "# add up number of rows containing duplicates\n",
    "\n",
    "data.duplicated().sum()"
   ]
  },
  {
   "cell_type": "markdown",
   "metadata": {},
   "source": [
    "There are no duplicates in the data. Next, we can change data types of some of the columns to more appropriate types."
   ]
  },
  {
   "cell_type": "markdown",
   "metadata": {},
   "source": [
    "#### Changing data types <a name=\"step_2_3\"></a>\n",
    "All of the *float64* data types should be changed to *int64* since decimal points are unnecessary here. We should also change the **date_posted** data from *object* to *datetime* to make it easier to work with."
   ]
  },
  {
   "cell_type": "code",
   "execution_count": 11,
   "metadata": {},
   "outputs": [],
   "source": [
    "# define list of columns to set from float type to int64 type and change type with .astype() method\n",
    "\n",
    "float_cols = ['model_year', 'cylinders', 'odometer', 'is_4wd']\n",
    "data[float_cols] = data[float_cols].astype('int64')"
   ]
  },
  {
   "cell_type": "code",
   "execution_count": 12,
   "metadata": {},
   "outputs": [],
   "source": [
    "# use .to_datetime method to change 'date_posted' column to datetime data type\n",
    "\n",
    "data['date_posted'] = pd.to_datetime(data['date_posted'], format='%Y-%m-%d')"
   ]
  },
  {
   "cell_type": "code",
   "execution_count": 13,
   "metadata": {
    "scrolled": true
   },
   "outputs": [
    {
     "name": "stdout",
     "output_type": "stream",
     "text": [
      "<class 'pandas.core.frame.DataFrame'>\n",
      "RangeIndex: 51525 entries, 0 to 51524\n",
      "Data columns (total 13 columns):\n",
      " #   Column        Non-Null Count  Dtype         \n",
      "---  ------        --------------  -----         \n",
      " 0   price         51525 non-null  int64         \n",
      " 1   model_year    51525 non-null  int64         \n",
      " 2   model         51525 non-null  object        \n",
      " 3   condition     51525 non-null  object        \n",
      " 4   cylinders     51525 non-null  int64         \n",
      " 5   fuel          51525 non-null  object        \n",
      " 6   odometer      51525 non-null  int64         \n",
      " 7   transmission  51525 non-null  object        \n",
      " 8   type          51525 non-null  object        \n",
      " 9   paint_color   51525 non-null  object        \n",
      " 10  is_4wd        51525 non-null  int64         \n",
      " 11  date_posted   51525 non-null  datetime64[ns]\n",
      " 12  days_listed   51525 non-null  int64         \n",
      "dtypes: datetime64[ns](1), int64(6), object(6)\n",
      "memory usage: 5.1+ MB\n"
     ]
    }
   ],
   "source": [
    "# check final results after replacing mising values and changing data types\n",
    "\n",
    "data.info()"
   ]
  },
  {
   "cell_type": "markdown",
   "metadata": {},
   "source": [
    "#### Conclusion <a name=\"step_2_conclusion\"></a>"
   ]
  },
  {
   "cell_type": "markdown",
   "metadata": {},
   "source": [
    "We used the most common model years, number of cylinders, and paint colors for each model and then filled missing values in each column based on model accordingly unsing a function. For the **is_4wd** column, missing values were changed to 0s without any problems.\n",
    "\n",
    "We checked for duplicates using the .duplicated() pandas method. No duplicates were found!\n",
    "\n",
    "Finally, we changed the data types from ***float*** to ***int*** for several of the columns, since we don't need decimal precision for this data. For the **date_posted** column, we changed the type from ***object*** to ***datetime*** to make it easier to work with in the future."
   ]
  },
  {
   "cell_type": "markdown",
   "metadata": {},
   "source": [
    "### Step 3: Make calculations & add them to the table <a name=\"step_3\"></a>"
   ]
  },
  {
   "cell_type": "markdown",
   "metadata": {},
   "source": [
    "#### Day of week, month, & year <a name=\"step_3_1\"></a>"
   ]
  },
  {
   "cell_type": "code",
   "execution_count": 14,
   "metadata": {},
   "outputs": [],
   "source": [
    "# use DatetimeIndex to add 3 new columns\n",
    "\n",
    "data['day_of_week_posted'] = pd.DatetimeIndex(data['date_posted']).dayofweek\n",
    "data['month_posted'] = pd.DatetimeIndex(data['date_posted']).month\n",
    "data['year_posted'] = pd.DatetimeIndex(data['date_posted']).year"
   ]
  },
  {
   "cell_type": "markdown",
   "metadata": {},
   "source": [
    "#### Vehicle age in years <a name=\"step_3_2\"></a>"
   ]
  },
  {
   "cell_type": "code",
   "execution_count": 15,
   "metadata": {},
   "outputs": [],
   "source": [
    "# subtract vehicle 'model_year' from the new 'year_posted' column\n",
    "\n",
    "data['age'] = data['year_posted'] - data['model_year']"
   ]
  },
  {
   "cell_type": "code",
   "execution_count": 16,
   "metadata": {},
   "outputs": [],
   "source": [
    "# write & apply function to remove 0 from 'age' column\n",
    "\n",
    "def change_age(row):   \n",
    "    age = row['age']\n",
    "    \n",
    "    if age == 0:\n",
    "        return 0.5\n",
    "    else:\n",
    "        return age\n",
    "\n",
    "data['age'] = data.apply(change_age, axis=1)"
   ]
  },
  {
   "cell_type": "markdown",
   "metadata": {},
   "source": [
    "#### Average mileage per year <a name=\"step_3_3\"></a>"
   ]
  },
  {
   "cell_type": "code",
   "execution_count": 17,
   "metadata": {},
   "outputs": [],
   "source": [
    "# divide 'odometer' by 'age', fill NaN from 'odometer' = 0, change type from float to int\n",
    "\n",
    "data['mileage_per_year'] = data['odometer'] / data['age']\n",
    "\n",
    "data['mileage_per_year'] = data['mileage_per_year'].fillna(0)\n",
    "\n",
    "data['mileage_per_year'] = data['mileage_per_year'].astype('int64')"
   ]
  },
  {
   "cell_type": "markdown",
   "metadata": {},
   "source": [
    "#### Replace string values with numerical scale in 'condition' column <a name=\"step_3_4\"></a>"
   ]
  },
  {
   "cell_type": "code",
   "execution_count": 18,
   "metadata": {},
   "outputs": [
    {
     "data": {
      "text/html": [
       "<div>\n",
       "<style scoped>\n",
       "    .dataframe tbody tr th:only-of-type {\n",
       "        vertical-align: middle;\n",
       "    }\n",
       "\n",
       "    .dataframe tbody tr th {\n",
       "        vertical-align: top;\n",
       "    }\n",
       "\n",
       "    .dataframe thead th {\n",
       "        text-align: right;\n",
       "    }\n",
       "</style>\n",
       "<table border=\"1\" class=\"dataframe\">\n",
       "  <thead>\n",
       "    <tr style=\"text-align: right;\">\n",
       "      <th></th>\n",
       "      <th>price</th>\n",
       "      <th>model_year</th>\n",
       "      <th>model</th>\n",
       "      <th>condition</th>\n",
       "      <th>cylinders</th>\n",
       "      <th>fuel</th>\n",
       "      <th>odometer</th>\n",
       "      <th>transmission</th>\n",
       "      <th>type</th>\n",
       "      <th>paint_color</th>\n",
       "      <th>is_4wd</th>\n",
       "      <th>date_posted</th>\n",
       "      <th>days_listed</th>\n",
       "      <th>day_of_week_posted</th>\n",
       "      <th>month_posted</th>\n",
       "      <th>year_posted</th>\n",
       "      <th>age</th>\n",
       "      <th>mileage_per_year</th>\n",
       "    </tr>\n",
       "  </thead>\n",
       "  <tbody>\n",
       "    <tr>\n",
       "      <th>0</th>\n",
       "      <td>9400</td>\n",
       "      <td>2011</td>\n",
       "      <td>bmw x5</td>\n",
       "      <td>2</td>\n",
       "      <td>6</td>\n",
       "      <td>gas</td>\n",
       "      <td>145000</td>\n",
       "      <td>automatic</td>\n",
       "      <td>SUV</td>\n",
       "      <td>black</td>\n",
       "      <td>1</td>\n",
       "      <td>2018-06-23</td>\n",
       "      <td>19</td>\n",
       "      <td>5</td>\n",
       "      <td>6</td>\n",
       "      <td>2018</td>\n",
       "      <td>7.0</td>\n",
       "      <td>20714</td>\n",
       "    </tr>\n",
       "    <tr>\n",
       "      <th>1</th>\n",
       "      <td>25500</td>\n",
       "      <td>2013</td>\n",
       "      <td>ford f-150</td>\n",
       "      <td>2</td>\n",
       "      <td>6</td>\n",
       "      <td>gas</td>\n",
       "      <td>88705</td>\n",
       "      <td>automatic</td>\n",
       "      <td>pickup</td>\n",
       "      <td>white</td>\n",
       "      <td>1</td>\n",
       "      <td>2018-10-19</td>\n",
       "      <td>50</td>\n",
       "      <td>4</td>\n",
       "      <td>10</td>\n",
       "      <td>2018</td>\n",
       "      <td>5.0</td>\n",
       "      <td>17741</td>\n",
       "    </tr>\n",
       "    <tr>\n",
       "      <th>2</th>\n",
       "      <td>5500</td>\n",
       "      <td>2013</td>\n",
       "      <td>hyundai sonata</td>\n",
       "      <td>4</td>\n",
       "      <td>4</td>\n",
       "      <td>gas</td>\n",
       "      <td>110000</td>\n",
       "      <td>automatic</td>\n",
       "      <td>sedan</td>\n",
       "      <td>red</td>\n",
       "      <td>0</td>\n",
       "      <td>2019-02-07</td>\n",
       "      <td>79</td>\n",
       "      <td>3</td>\n",
       "      <td>2</td>\n",
       "      <td>2019</td>\n",
       "      <td>6.0</td>\n",
       "      <td>18333</td>\n",
       "    </tr>\n",
       "    <tr>\n",
       "      <th>3</th>\n",
       "      <td>1500</td>\n",
       "      <td>2003</td>\n",
       "      <td>ford f-150</td>\n",
       "      <td>1</td>\n",
       "      <td>8</td>\n",
       "      <td>gas</td>\n",
       "      <td>161160</td>\n",
       "      <td>automatic</td>\n",
       "      <td>pickup</td>\n",
       "      <td>white</td>\n",
       "      <td>0</td>\n",
       "      <td>2019-03-22</td>\n",
       "      <td>9</td>\n",
       "      <td>4</td>\n",
       "      <td>3</td>\n",
       "      <td>2019</td>\n",
       "      <td>16.0</td>\n",
       "      <td>10072</td>\n",
       "    </tr>\n",
       "    <tr>\n",
       "      <th>4</th>\n",
       "      <td>14900</td>\n",
       "      <td>2017</td>\n",
       "      <td>chrysler 200</td>\n",
       "      <td>3</td>\n",
       "      <td>4</td>\n",
       "      <td>gas</td>\n",
       "      <td>80903</td>\n",
       "      <td>automatic</td>\n",
       "      <td>sedan</td>\n",
       "      <td>black</td>\n",
       "      <td>0</td>\n",
       "      <td>2019-04-02</td>\n",
       "      <td>28</td>\n",
       "      <td>1</td>\n",
       "      <td>4</td>\n",
       "      <td>2019</td>\n",
       "      <td>2.0</td>\n",
       "      <td>40451</td>\n",
       "    </tr>\n",
       "  </tbody>\n",
       "</table>\n",
       "</div>"
      ],
      "text/plain": [
       "   price  model_year           model  condition  cylinders fuel  odometer  \\\n",
       "0   9400        2011          bmw x5          2          6  gas    145000   \n",
       "1  25500        2013      ford f-150          2          6  gas     88705   \n",
       "2   5500        2013  hyundai sonata          4          4  gas    110000   \n",
       "3   1500        2003      ford f-150          1          8  gas    161160   \n",
       "4  14900        2017    chrysler 200          3          4  gas     80903   \n",
       "\n",
       "  transmission    type paint_color  is_4wd date_posted  days_listed  \\\n",
       "0    automatic     SUV       black       1  2018-06-23           19   \n",
       "1    automatic  pickup       white       1  2018-10-19           50   \n",
       "2    automatic   sedan         red       0  2019-02-07           79   \n",
       "3    automatic  pickup       white       0  2019-03-22            9   \n",
       "4    automatic   sedan       black       0  2019-04-02           28   \n",
       "\n",
       "   day_of_week_posted  month_posted  year_posted   age  mileage_per_year  \n",
       "0                   5             6         2018   7.0             20714  \n",
       "1                   4            10         2018   5.0             17741  \n",
       "2                   3             2         2019   6.0             18333  \n",
       "3                   4             3         2019  16.0             10072  \n",
       "4                   1             4         2019   2.0             40451  "
      ]
     },
     "execution_count": 18,
     "metadata": {},
     "output_type": "execute_result"
    }
   ],
   "source": [
    "def condition_to_numeric(row):\n",
    "    \n",
    "    condition = row['condition']\n",
    "    \n",
    "    if condition == 'new':\n",
    "        return 5\n",
    "    if condition == 'like new':\n",
    "        return 4\n",
    "    if condition == 'excellent':\n",
    "        return 3\n",
    "    if condition == 'good':\n",
    "        return 2\n",
    "    if condition == 'fair':\n",
    "        return 1\n",
    "    if condition == 'salvage':\n",
    "        return 0\n",
    "\n",
    "data['condition'] = data.apply(condition_to_numeric, axis=1)\n",
    "data.head()"
   ]
  },
  {
   "cell_type": "markdown",
   "metadata": {},
   "source": [
    "#### Conclusion <a name=\"step_3_conclusion\"></a>"
   ]
  },
  {
   "cell_type": "markdown",
   "metadata": {},
   "source": [
    "We added 5 new columns in this step and also changed the **condition** column from strings to a numerical scale from 0 to 5. 3 new columns were the **day_of_week_posted**, **month_posted**, and **year_posted**, referring to the time the ad was posted. By subtracting the **model_year** from the **year_posted** column we got the vehicles age as the 4th column.\n",
    "\n",
    "There was a small problem with **age** though, because of the vehicle model year was the same as the year the ad was posted, age became 0. And as we found out in the next step while creating the 5th column, **mileage_per_year**, division by zero creates more problems with inf values. To fix this, we set all values of age that were 0 to 0.5. Now, in the next step, division by zero was no longer an issue."
   ]
  },
  {
   "cell_type": "markdown",
   "metadata": {},
   "source": [
    "### Step 4: Carry out exploratory data analysis <a name=\"step_4\"></a>"
   ]
  },
  {
   "cell_type": "markdown",
   "metadata": {},
   "source": [
    "#### Plotting histograms <a name=\"step_4_1\"></a>"
   ]
  },
  {
   "cell_type": "code",
   "execution_count": 19,
   "metadata": {},
   "outputs": [
    {
     "data": {
      "image/png": "[encoded data removed]",
      "text/plain": [
       "<Figure size 1080x1080 with 6 Axes>"
      ]
     },
     "metadata": {
      "needs_background": "light"
     },
     "output_type": "display_data"
    }
   ],
   "source": [
    "# plot histograms for values\n",
    "\n",
    "fig, axes = plt.subplots(nrows=3, ncols=2, figsize=(15, 15))\n",
    "plt.subplots_adjust(hspace=0.3)\n",
    "\n",
    "data['price'].plot(kind='hist', bins=50, title='Price', xlabel='Price', ylabel='Frequency', ax=axes[0, 0])\n",
    "data['age'].plot(kind='hist', bins=50, title='Age', xlabel='Age', ylabel='Frequency', ax=axes[0, 1])\n",
    "data['odometer'].plot(kind='hist', bins=50, title='Odometer', xlabel='Odometer', ylabel='Frequency', ax=axes[1, 0])\n",
    "data['cylinders'].plot(kind='hist', bins=range(0, 14), title='Cylinders', xlabel='Cylinders', ylabel='Frequency', ax=axes[1, 1])\n",
    "data['condition'].plot(kind='hist', bins=range(0, 7), title='Condition', xlabel='Condition', ylabel='Frequency', ax=axes[2, 0])\n",
    "\n",
    "plt.show()"
   ]
  },
  {
   "cell_type": "markdown",
   "metadata": {},
   "source": [
    "##### Conclusion <a name=\"step_4_1_conclusion\"></a>\n",
    "\n",
    "From these histograms, we can see that there are some extreme outliers in the **price**, **age**, and **odometer** columns that make the histogram quite difficult to read. We run into scaling problems where outliers cannot be accurately represented on the y-axis since their quantity is so small. This is true for all 5 histograms. We can also see a big spike in the **age** column from when we changed vehicle age from 0 to 1.\n",
    "\n",
    "Histograms may not be the best visualization for the **cylinders** or **conditions** columns since the data range is much smaller. Almost all cars have either 4, 6, or 8 cylinders and fall into fair, good, excellent, or like new condition categories. Let's identify and filter out outliers to clean things up a bit."
   ]
  },
  {
   "cell_type": "markdown",
   "metadata": {},
   "source": [
    "#### Separating outliers <a name=\"step_4_2\"></a>"
   ]
  },
  {
   "cell_type": "code",
   "execution_count": 20,
   "metadata": {},
   "outputs": [],
   "source": [
    "# write function to create new DataFrames with good & bad data separated\n",
    "\n",
    "def separate_outliers(column):\n",
    "    Q1 = column.quantile(0.25)\n",
    "    Q3 = column.quantile(0.75)\n",
    "    IQR = Q3 - Q1\n",
    "    \n",
    "    outlier_rows = data.query('@column > (1.5 * @IQR) + @Q3')\n",
    "    good_data_rows = data.query('@column <= (1.5 * @IQR) + @Q3')\n",
    "    \n",
    "    outliers = pd.DataFrame()\n",
    "    good_data = pd.DataFrame()\n",
    "    \n",
    "    outliers = outliers.append(outlier_rows)\n",
    "    good_data = good_data.append(good_data_rows)\n",
    "    \n",
    "    return outliers, good_data"
   ]
  },
  {
   "cell_type": "code",
   "execution_count": 21,
   "metadata": {},
   "outputs": [
    {
     "name": "stdout",
     "output_type": "stream",
     "text": [
      "FILTERED PRICE DATAFRAMES\n",
      "price_outliers\n",
      "price_good_data\n",
      "\n",
      "FILTERED AGE DATAFRAMES\n",
      "age_outliers\n",
      "age_good_data\n",
      "\n",
      "FILTERED ODOMETER DATAFRAMES\n",
      "odometer_outliers\n",
      "odometer_good_data\n",
      "\n"
     ]
    }
   ],
   "source": [
    "# create new 'outliers' & 'good_data' DataFrames for each column using the function\n",
    "\n",
    "columns = ['price', 'age', 'odometer']\n",
    "\n",
    "for column_name in columns:\n",
    "    exec(column_name + '_outliers' + ', ' + column_name + '_good_data' + ' = separate_outliers(data[column_name])')\n",
    "    \n",
    "    print('FILTERED ' + column_name.upper() + ' DATAFRAMES')\n",
    "    print(column_name + '_outliers\\n' + column_name + '_good_data\\n')"
   ]
  },
  {
   "cell_type": "code",
   "execution_count": 22,
   "metadata": {},
   "outputs": [
    {
     "name": "stdout",
     "output_type": "stream",
     "text": [
      "Price outliers are any value greater than 34598\n",
      "Age outliers are any value greater than 24\n",
      "Odometer outliers are any value greater than 268766\n"
     ]
    }
   ],
   "source": [
    "# describing outliers for these columns\n",
    "\n",
    "def desc_outliers(column):\n",
    "    Q1 = data[column].quantile(0.25)\n",
    "    Q3 = data[column].quantile(0.75)\n",
    "    IQR = Q3 - Q1\n",
    "    \n",
    "    print(column.capitalize() + ' outliers are any value greater than {:.0f}'.format(1.5 * IQR + Q3))\n",
    "\n",
    "for column in columns:\n",
    "    desc_outliers(column)"
   ]
  },
  {
   "cell_type": "markdown",
   "metadata": {},
   "source": [
    "#### Plot histograms with filtered data <a name=\"step_4_3\"></a>"
   ]
  },
  {
   "cell_type": "code",
   "execution_count": 23,
   "metadata": {},
   "outputs": [
    {
     "data": {
      "image/png": "[encoded data removed]",
      "text/plain": [
       "<Figure size 432x288 with 1 Axes>"
      ]
     },
     "metadata": {
      "needs_background": "light"
     },
     "output_type": "display_data"
    },
    {
     "data": {
      "image/png": "[encoded data removed]",
      "text/plain": [
       "<Figure size 432x288 with 1 Axes>"
      ]
     },
     "metadata": {
      "needs_background": "light"
     },
     "output_type": "display_data"
    },
    {
     "data": {
      "image/png": "[encoded data removed]",
      "text/plain": [
       "<Figure size 432x288 with 1 Axes>"
      ]
     },
     "metadata": {
      "needs_background": "light"
     },
     "output_type": "display_data"
    }
   ],
   "source": [
    "# plot 'price' data without outliers\n",
    "\n",
    "price_good_data.hist('price', bins=24)\n",
    "age_good_data.hist('age', bins=24)\n",
    "odometer_good_data.hist('odometer', bins=24)\n",
    "plt.show()"
   ]
  },
  {
   "cell_type": "markdown",
   "metadata": {},
   "source": [
    "##### Conclusion <a name=\"step_4_3_conclusion\"></a>\n",
    "\n",
    "These histograms look much better. Removing outlier really helped with visualizing this data by only focusing on the meaningful portion. Now we can make some conclusions about each histogram.\n",
    "\n",
    "Most car prices are beween 0 and 15,000. There is a long tail of data after the 15,000 mark. In general, more expensive cars are less common in this data set. The same can be said with age. Most cars are between 0 and 10 years old. Beyond 10 years, the number of cars begins to taper off. The mileage histogram has a different shape. Most cars have a moderate amount of mileage (75,000 to 175,000) with the rest falling into lower or higher mileage categories. Higher mileage vehicle counts taper off quickly, which is likely due to the failure rate of parts after a certain point in the vehicles life."
   ]
  },
  {
   "cell_type": "markdown",
   "metadata": {},
   "source": [
    "#### Correlations with number of days on market <a name=\"step_4_4\"></a>"
   ]
  },
  {
   "cell_type": "code",
   "execution_count": 24,
   "metadata": {},
   "outputs": [
    {
     "data": {
      "image/png": "[encoded data removed]",
      "text/plain": [
       "<Figure size 432x288 with 1 Axes>"
      ]
     },
     "metadata": {
      "needs_background": "light"
     },
     "output_type": "display_data"
    }
   ],
   "source": [
    "# plot a histogram of the 'days_listed' column\n",
    "\n",
    "data.hist('days_listed', bins=50)\n",
    "plt.show()"
   ]
  },
  {
   "cell_type": "code",
   "execution_count": 25,
   "metadata": {},
   "outputs": [
    {
     "name": "stdout",
     "output_type": "stream",
     "text": [
      "Median # of days listed: 39.6\n",
      "Mean # of days listed: 33.0\n",
      "Q1 for # of days listed: 19.0\n",
      "Q3 for # of days listed: 53.0\n"
     ]
    }
   ],
   "source": [
    "# finding mean, median, Q1, & Q3 for 'days_listed' column\n",
    "\n",
    "print('Median # of days listed: {:.1f}'.format(data['days_listed'].mean()))\n",
    "print('Mean # of days listed: {:.1f}'.format(data['days_listed'].median()))\n",
    "print('Q1 for # of days listed: {:.1f}'.format(data['days_listed'].quantile(0.25)))\n",
    "print('Q3 for # of days listed: {:.1f}'.format(data['days_listed'].quantile(0.75)))"
   ]
  },
  {
   "cell_type": "markdown",
   "metadata": {},
   "source": [
    "On average, cars in the data set sell within 30 to 40 days of the listing date. By looking at Q1 and Q3 for the **days_listed** column, we can conclude that ads listed for less than 19 days were removed quickly, and ads listed for over 53 days were listed for an abnormally long period of time. Let's see if there are any correlations between the time on market and things like the vehicle's price, mileage, age, and model."
   ]
  },
  {
   "cell_type": "code",
   "execution_count": 26,
   "metadata": {},
   "outputs": [
    {
     "data": {
      "text/html": [
       "<div>\n",
       "<style scoped>\n",
       "    .dataframe tbody tr th:only-of-type {\n",
       "        vertical-align: middle;\n",
       "    }\n",
       "\n",
       "    .dataframe tbody tr th {\n",
       "        vertical-align: top;\n",
       "    }\n",
       "\n",
       "    .dataframe thead th {\n",
       "        text-align: right;\n",
       "    }\n",
       "</style>\n",
       "<table border=\"1\" class=\"dataframe\">\n",
       "  <thead>\n",
       "    <tr style=\"text-align: right;\">\n",
       "      <th></th>\n",
       "      <th>price</th>\n",
       "      <th>model_year</th>\n",
       "      <th>condition</th>\n",
       "      <th>cylinders</th>\n",
       "      <th>odometer</th>\n",
       "      <th>is_4wd</th>\n",
       "      <th>days_listed</th>\n",
       "      <th>day_of_week_posted</th>\n",
       "      <th>month_posted</th>\n",
       "      <th>year_posted</th>\n",
       "      <th>age</th>\n",
       "      <th>mileage_per_year</th>\n",
       "    </tr>\n",
       "  </thead>\n",
       "  <tbody>\n",
       "    <tr>\n",
       "      <th>price</th>\n",
       "      <td>1.000000</td>\n",
       "      <td>0.409735</td>\n",
       "      <td>0.221518</td>\n",
       "      <td>0.300448</td>\n",
       "      <td>-0.422749</td>\n",
       "      <td>0.315145</td>\n",
       "      <td>-0.000682</td>\n",
       "      <td>-0.000343</td>\n",
       "      <td>-0.005653</td>\n",
       "      <td>0.004726</td>\n",
       "      <td>-0.405984</td>\n",
       "      <td>0.223029</td>\n",
       "    </tr>\n",
       "    <tr>\n",
       "      <th>model_year</th>\n",
       "      <td>0.409735</td>\n",
       "      <td>1.000000</td>\n",
       "      <td>0.266701</td>\n",
       "      <td>-0.145540</td>\n",
       "      <td>-0.482860</td>\n",
       "      <td>0.039662</td>\n",
       "      <td>-0.005221</td>\n",
       "      <td>-0.007184</td>\n",
       "      <td>-0.010216</td>\n",
       "      <td>0.008398</td>\n",
       "      <td>-0.997117</td>\n",
       "      <td>0.476531</td>\n",
       "    </tr>\n",
       "    <tr>\n",
       "      <th>condition</th>\n",
       "      <td>0.221518</td>\n",
       "      <td>0.266701</td>\n",
       "      <td>1.000000</td>\n",
       "      <td>-0.065569</td>\n",
       "      <td>-0.291300</td>\n",
       "      <td>0.012856</td>\n",
       "      <td>-0.002404</td>\n",
       "      <td>0.001152</td>\n",
       "      <td>-0.002355</td>\n",
       "      <td>0.003788</td>\n",
       "      <td>-0.265071</td>\n",
       "      <td>0.080923</td>\n",
       "    </tr>\n",
       "    <tr>\n",
       "      <th>cylinders</th>\n",
       "      <td>0.300448</td>\n",
       "      <td>-0.145540</td>\n",
       "      <td>-0.065569</td>\n",
       "      <td>1.000000</td>\n",
       "      <td>0.090773</td>\n",
       "      <td>0.407433</td>\n",
       "      <td>0.003176</td>\n",
       "      <td>-0.003558</td>\n",
       "      <td>0.001593</td>\n",
       "      <td>-0.000373</td>\n",
       "      <td>0.146114</td>\n",
       "      <td>-0.035082</td>\n",
       "    </tr>\n",
       "    <tr>\n",
       "      <th>odometer</th>\n",
       "      <td>-0.422749</td>\n",
       "      <td>-0.482860</td>\n",
       "      <td>-0.291300</td>\n",
       "      <td>0.090773</td>\n",
       "      <td>1.000000</td>\n",
       "      <td>0.031209</td>\n",
       "      <td>0.002462</td>\n",
       "      <td>0.000842</td>\n",
       "      <td>0.009876</td>\n",
       "      <td>-0.007016</td>\n",
       "      <td>0.478358</td>\n",
       "      <td>0.010778</td>\n",
       "    </tr>\n",
       "    <tr>\n",
       "      <th>is_4wd</th>\n",
       "      <td>0.315145</td>\n",
       "      <td>0.039662</td>\n",
       "      <td>0.012856</td>\n",
       "      <td>0.407433</td>\n",
       "      <td>0.031209</td>\n",
       "      <td>1.000000</td>\n",
       "      <td>0.002003</td>\n",
       "      <td>0.003207</td>\n",
       "      <td>0.003891</td>\n",
       "      <td>-0.002476</td>\n",
       "      <td>-0.039063</td>\n",
       "      <td>0.049791</td>\n",
       "    </tr>\n",
       "    <tr>\n",
       "      <th>days_listed</th>\n",
       "      <td>-0.000682</td>\n",
       "      <td>-0.005221</td>\n",
       "      <td>-0.002404</td>\n",
       "      <td>0.003176</td>\n",
       "      <td>0.002462</td>\n",
       "      <td>0.002003</td>\n",
       "      <td>1.000000</td>\n",
       "      <td>0.002734</td>\n",
       "      <td>-0.011519</td>\n",
       "      <td>0.011273</td>\n",
       "      <td>0.005966</td>\n",
       "      <td>-0.006357</td>\n",
       "    </tr>\n",
       "    <tr>\n",
       "      <th>day_of_week_posted</th>\n",
       "      <td>-0.000343</td>\n",
       "      <td>-0.007184</td>\n",
       "      <td>0.001152</td>\n",
       "      <td>-0.003558</td>\n",
       "      <td>0.000842</td>\n",
       "      <td>0.003207</td>\n",
       "      <td>0.002734</td>\n",
       "      <td>1.000000</td>\n",
       "      <td>0.006457</td>\n",
       "      <td>-0.007476</td>\n",
       "      <td>0.006778</td>\n",
       "      <td>-0.002750</td>\n",
       "    </tr>\n",
       "    <tr>\n",
       "      <th>month_posted</th>\n",
       "      <td>-0.005653</td>\n",
       "      <td>-0.010216</td>\n",
       "      <td>-0.002355</td>\n",
       "      <td>0.001593</td>\n",
       "      <td>0.009876</td>\n",
       "      <td>0.003891</td>\n",
       "      <td>-0.011519</td>\n",
       "      <td>0.006457</td>\n",
       "      <td>1.000000</td>\n",
       "      <td>-0.818207</td>\n",
       "      <td>-0.050555</td>\n",
       "      <td>0.106304</td>\n",
       "    </tr>\n",
       "    <tr>\n",
       "      <th>year_posted</th>\n",
       "      <td>0.004726</td>\n",
       "      <td>0.008398</td>\n",
       "      <td>0.003788</td>\n",
       "      <td>-0.000373</td>\n",
       "      <td>-0.007016</td>\n",
       "      <td>-0.002476</td>\n",
       "      <td>0.011273</td>\n",
       "      <td>-0.007476</td>\n",
       "      <td>-0.818207</td>\n",
       "      <td>1.000000</td>\n",
       "      <td>0.065857</td>\n",
       "      <td>-0.127899</td>\n",
       "    </tr>\n",
       "    <tr>\n",
       "      <th>age</th>\n",
       "      <td>-0.405984</td>\n",
       "      <td>-0.997117</td>\n",
       "      <td>-0.265071</td>\n",
       "      <td>0.146114</td>\n",
       "      <td>0.478358</td>\n",
       "      <td>-0.039063</td>\n",
       "      <td>0.005966</td>\n",
       "      <td>0.006778</td>\n",
       "      <td>-0.050555</td>\n",
       "      <td>0.065857</td>\n",
       "      <td>1.000000</td>\n",
       "      <td>-0.481493</td>\n",
       "    </tr>\n",
       "    <tr>\n",
       "      <th>mileage_per_year</th>\n",
       "      <td>0.223029</td>\n",
       "      <td>0.476531</td>\n",
       "      <td>0.080923</td>\n",
       "      <td>-0.035082</td>\n",
       "      <td>0.010778</td>\n",
       "      <td>0.049791</td>\n",
       "      <td>-0.006357</td>\n",
       "      <td>-0.002750</td>\n",
       "      <td>0.106304</td>\n",
       "      <td>-0.127899</td>\n",
       "      <td>-0.481493</td>\n",
       "      <td>1.000000</td>\n",
       "    </tr>\n",
       "  </tbody>\n",
       "</table>\n",
       "</div>"
      ],
      "text/plain": [
       "                       price  model_year  condition  cylinders  odometer  \\\n",
       "price               1.000000    0.409735   0.221518   0.300448 -0.422749   \n",
       "model_year          0.409735    1.000000   0.266701  -0.145540 -0.482860   \n",
       "condition           0.221518    0.266701   1.000000  -0.065569 -0.291300   \n",
       "cylinders           0.300448   -0.145540  -0.065569   1.000000  0.090773   \n",
       "odometer           -0.422749   -0.482860  -0.291300   0.090773  1.000000   \n",
       "is_4wd              0.315145    0.039662   0.012856   0.407433  0.031209   \n",
       "days_listed        -0.000682   -0.005221  -0.002404   0.003176  0.002462   \n",
       "day_of_week_posted -0.000343   -0.007184   0.001152  -0.003558  0.000842   \n",
       "month_posted       -0.005653   -0.010216  -0.002355   0.001593  0.009876   \n",
       "year_posted         0.004726    0.008398   0.003788  -0.000373 -0.007016   \n",
       "age                -0.405984   -0.997117  -0.265071   0.146114  0.478358   \n",
       "mileage_per_year    0.223029    0.476531   0.080923  -0.035082  0.010778   \n",
       "\n",
       "                      is_4wd  days_listed  day_of_week_posted  month_posted  \\\n",
       "price               0.315145    -0.000682           -0.000343     -0.005653   \n",
       "model_year          0.039662    -0.005221           -0.007184     -0.010216   \n",
       "condition           0.012856    -0.002404            0.001152     -0.002355   \n",
       "cylinders           0.407433     0.003176           -0.003558      0.001593   \n",
       "odometer            0.031209     0.002462            0.000842      0.009876   \n",
       "is_4wd              1.000000     0.002003            0.003207      0.003891   \n",
       "days_listed         0.002003     1.000000            0.002734     -0.011519   \n",
       "day_of_week_posted  0.003207     0.002734            1.000000      0.006457   \n",
       "month_posted        0.003891    -0.011519            0.006457      1.000000   \n",
       "year_posted        -0.002476     0.011273           -0.007476     -0.818207   \n",
       "age                -0.039063     0.005966            0.006778     -0.050555   \n",
       "mileage_per_year    0.049791    -0.006357           -0.002750      0.106304   \n",
       "\n",
       "                    year_posted       age  mileage_per_year  \n",
       "price                  0.004726 -0.405984          0.223029  \n",
       "model_year             0.008398 -0.997117          0.476531  \n",
       "condition              0.003788 -0.265071          0.080923  \n",
       "cylinders             -0.000373  0.146114         -0.035082  \n",
       "odometer              -0.007016  0.478358          0.010778  \n",
       "is_4wd                -0.002476 -0.039063          0.049791  \n",
       "days_listed            0.011273  0.005966         -0.006357  \n",
       "day_of_week_posted    -0.007476  0.006778         -0.002750  \n",
       "month_posted          -0.818207 -0.050555          0.106304  \n",
       "year_posted            1.000000  0.065857         -0.127899  \n",
       "age                    0.065857  1.000000         -0.481493  \n",
       "mileage_per_year      -0.127899 -0.481493          1.000000  "
      ]
     },
     "execution_count": 26,
     "metadata": {},
     "output_type": "execute_result"
    }
   ],
   "source": [
    "# print correlation coefficient matrix for numerical columns\n",
    "\n",
    "data.corr()"
   ]
  },
  {
   "cell_type": "markdown",
   "metadata": {},
   "source": [
    "##### Conclusion <a name=\"step_4_4_conclusion\"></a>\n",
    "\n",
    "From above, we can see there is extremely low correlation between how old the vehicle listing is and all other numberical parameters. All values are close to zeros, meaning low correlation overall. Since there is no correlation with any of these other values, it's impossible to say with any certainty why ads stay listed for abnormally long or short times."
   ]
  },
  {
   "cell_type": "markdown",
   "metadata": {},
   "source": [
    "#### Number of ads vs Vehicle type <a name=\"step_4_5\"></a>"
   ]
  },
  {
   "cell_type": "code",
   "execution_count": 27,
   "metadata": {},
   "outputs": [
    {
     "data": {
      "image/png": "[encoded data removed]",
      "text/plain": [
       "<Figure size 1080x360 with 2 Axes>"
      ]
     },
     "metadata": {
      "needs_background": "light"
     },
     "output_type": "display_data"
    }
   ],
   "source": [
    "# number of ads for each vehicle type\n",
    "\n",
    "fig, axes = plt.subplots(nrows=1, ncols=2, figsize=(15, 5))\n",
    "\n",
    "type_by_ads = data['type'].value_counts()\n",
    "type_by_ads.plot.bar(title='Type vs Number of Ads', xlabel='type', ylabel='ads', ax=axes[0])\n",
    "\n",
    "type_by_avg_price = data.groupby('type')['price'].mean().sort_values(ascending=False)\n",
    "type_by_avg_price.plot.bar(title='Type vs Avg Price', ylabel='avg price', ax=axes[1])\n",
    "plt.show()"
   ]
  },
  {
   "cell_type": "markdown",
   "metadata": {},
   "source": [
    "##### Conclusion <a name=\"step_4_5_conclusion\"></a>\n",
    "\n",
    "**SUVs** and **trucks** have the highest number of advertisements within this data set. **Buses** have the lowest number of ads. On average, **buses** fetch the highest price, followed by **trucks** and **convertibles**. If I were a salesman, I'd be focusing on selling trucks though. They have the highest number of ads and also fetch the highest price, and therefore a higher sales commission."
   ]
  },
  {
   "cell_type": "markdown",
   "metadata": {},
   "source": [
    "#### Factors that impact price <a name=\"step_4_6\"></a>"
   ]
  },
  {
   "cell_type": "code",
   "execution_count": 28,
   "metadata": {},
   "outputs": [
    {
     "data": {
      "image/png": "[encoded data removed]",
      "text/plain": [
       "<Figure size 1080x1080 with 6 Axes>"
      ]
     },
     "metadata": {
      "needs_background": "light"
     },
     "output_type": "display_data"
    }
   ],
   "source": [
    "# define fig, axes for subplot\n",
    "\n",
    "fig, axes = plt.subplots(nrows=3, ncols=2, figsize=(15, 15))\n",
    "plt.subplots_adjust(hspace=0.3)\n",
    "\n",
    "\n",
    "# correlation with price for trucks\n",
    "\n",
    "trucks = data.query('type == \"truck\" or type == \"pickup\"')\n",
    "\n",
    "trucks.plot(x='price', y='age', kind='scatter', alpha=0.2, title='Age vs Price, Trucks', ax=axes[0, 0])\n",
    "axes[0, 0].annotate(xy=(0.5, 0.9), text='Pearson correlation: {:.3f}'.format(trucks['price'].corr(trucks['age'])), xycoords='axes fraction')\n",
    "\n",
    "trucks.plot(x='price', y='odometer', kind='scatter', alpha=0.2, title='Mileage vs Price, Trucks', ax=axes[1, 0])\n",
    "axes[1, 0].annotate(xy=(0.5, 0.9), text='Pearson correlation: {:.3f}'.format(trucks['price'].corr(trucks['odometer'])), xycoords='axes fraction')\n",
    "\n",
    "trucks.plot(x='price', y='condition', kind='scatter', alpha=0.2, title='Condition vs Price, Trucks', ax=axes[2, 0])\n",
    "axes[2, 0].annotate(xy=(0.5, 0.9), text='Pearson correlation: {:.3f}'.format(trucks['price'].corr(trucks['condition'])), xycoords='axes fraction')\n",
    "\n",
    "\n",
    "# correlation with price for SUVs\n",
    "\n",
    "suvs = data.query('type == \"SUV\"')\n",
    "\n",
    "suvs.plot(x='price', y='age', kind='scatter', alpha=0.2, title='Age vs Price, SUVs', ax=axes[0, 1])\n",
    "axes[0, 1].annotate(xy=(0.5, 0.9), text='Pearson correlation: {:.3f}'.format(suvs['price'].corr(suvs['age'])), xycoords='axes fraction')\n",
    "\n",
    "trucks.plot(x='price', y='odometer', kind='scatter', alpha=0.2, title='Mileage vs Price, SUVs', ax=axes[1, 1])\n",
    "axes[1, 1].annotate(xy=(0.5, 0.9), text='Pearson correlation: {:.3f}'.format(suvs['price'].corr(suvs['odometer'])), xycoords='axes fraction')\n",
    "\n",
    "trucks.plot(x='price', y='condition', kind='scatter', alpha=0.2, title='Condition vs Price, SUVs', ax=axes[2, 1])\n",
    "axes[2, 1].annotate(xy=(0.5, 0.9), text='Pearson correlation: {:.3f}'.format(suvs['price'].corr(suvs['condition'])), xycoords='axes fraction')\n",
    "plt.show()"
   ]
  },
  {
   "cell_type": "markdown",
   "metadata": {},
   "source": [
    "It's clear from these scatter plots that the prices of SUVs and trucks are moderately correlated with the vehicle age, condition, and mileage. Age and mileage are negatively correlated, meaning that as age and mileage go up, price comes down. Vehicle condition is positively correlated, meaning as the condition of the vehicle improves, the price increases. Let's look at some of the categorical data."
   ]
  },
  {
   "cell_type": "code",
   "execution_count": 29,
   "metadata": {},
   "outputs": [
    {
     "data": {
      "text/plain": [
       "white     13835\n",
       "black      9897\n",
       "silver     7998\n",
       "grey       5843\n",
       "blue       4729\n",
       "red        4705\n",
       "green      1554\n",
       "brown      1223\n",
       "custom     1153\n",
       "yellow      255\n",
       "orange      231\n",
       "purple      102\n",
       "Name: paint_color, dtype: int64"
      ]
     },
     "execution_count": 29,
     "metadata": {},
     "output_type": "execute_result"
    }
   ],
   "source": [
    "# count number of cars for each color\n",
    "\n",
    "data.paint_color.value_counts()"
   ]
  },
  {
   "cell_type": "code",
   "execution_count": 30,
   "metadata": {},
   "outputs": [
    {
     "data": {
      "image/png": "[encoded data removed]",
      "text/plain": [
       "<Figure size 1080x648 with 1 Axes>"
      ]
     },
     "metadata": {
      "needs_background": "light"
     },
     "output_type": "display_data"
    }
   ],
   "source": [
    "# boxplots of vehicle price grouped by paint color\n",
    "\n",
    "data.boxplot(column='price', by='paint_color', figsize=(15, 9))\n",
    "plt.ylim(0, 75000)\n",
    "plt.show()"
   ]
  },
  {
   "cell_type": "markdown",
   "metadata": {},
   "source": [
    "Black, orange, red, white and yellow cars appear to sell for higher prices than other colors. Purple cars sell for the lowest prices. Orange, yellow, and purple cars are pretty rare, however. This may limit the buyer's choices if we were to target these colors for sales. White and black cars account for most of the listings, so maybe it's a good idea to target black and white cars since it gives buyers a bigger choice and a bigger hole in their wallet, which transaltes to higher profit."
   ]
  },
  {
   "cell_type": "code",
   "execution_count": 31,
   "metadata": {},
   "outputs": [
    {
     "data": {
      "text/plain": [
       "automatic    46902\n",
       "manual        2829\n",
       "other         1794\n",
       "Name: transmission, dtype: int64"
      ]
     },
     "execution_count": 31,
     "metadata": {},
     "output_type": "execute_result"
    }
   ],
   "source": [
    "# count number of cars for each transmission type\n",
    "\n",
    "data.transmission.value_counts()"
   ]
  },
  {
   "cell_type": "code",
   "execution_count": 32,
   "metadata": {
    "scrolled": false
   },
   "outputs": [
    {
     "data": {
      "image/png": "[encoded data removed]",
      "text/plain": [
       "<Figure size 1080x648 with 1 Axes>"
      ]
     },
     "metadata": {
      "needs_background": "light"
     },
     "output_type": "display_data"
    }
   ],
   "source": [
    "# boxplots of vehicle price grouped by transmission\n",
    "\n",
    "data.boxplot(column='price', by='transmission', figsize=(15, 9))\n",
    "plt.ylim(0, 75000)\n",
    "plt.show()"
   ]
  },
  {
   "cell_type": "markdown",
   "metadata": {},
   "source": [
    "Vehicle without automatic or manual transmissions sell for a higher price than either manual or automatic vehicles. Could these be all those fancy new electric vehicles? Automatics sell for slightly higher than manuals and in much larger quantities than the other two catgegories. It's probably more practical to target vehicles with automatic transmissions due to the sheer quantity of autos on the market. Unfortunately, manuals are a dying breed!"
   ]
  },
  {
   "cell_type": "markdown",
   "metadata": {},
   "source": [
    "##### Conclusion <a name=\"step_4_6_conclusion\"></a>\n",
    "\n",
    "The ideal vehicle to sell would be a new black or white SUV or truck in good condition, with low mileage, 4wd, and automatic transmission. These vehicles statistically sell for higher prices, which translates to higher commissions for salesmen and higher profits for dealers."
   ]
  },
  {
   "cell_type": "markdown",
   "metadata": {},
   "source": [
    "### Step 5: Overall conclusion <a name=\"step_5\"></a>"
   ]
  },
  {
   "cell_type": "markdown",
   "metadata": {},
   "source": [
    "#### Initial glance at data\n",
    "Upon opening the .csv file, we discovered there were 13 columns, each with 51,525 rows of data for a total of 669,825 cells. Columns initially consisted of string, integer, and float data types. Immediately we noticed missing values in a few columns which were later dealt with in the next step.\n",
    "\n",
    "#### Replace missing data\n",
    "We replaced missing values in the **model_year** and **paint_color** with the most comon values based on the vehicle model. **odometer** data was replaced with average mileage based on the model year. For the **cylinders** column, we used the number of cyliders for each vehicle as indicated by other rows. The **is_4wd** column had a simple error where missing values just needed to be changed to 0.\n",
    "\n",
    "#### Change data types\n",
    "We also changed data types from ***float*** to ***int*** and changed the **date_posted** column to the ***datetime*** data type for easier operations further into the project.\n",
    "\n",
    "#### Add new calculations to DataFrame\n",
    "Next, we made a few calculations to help analyze the data, and added them as new columns to the DataFrame. We replaced the 0 values from the new **age** column by 0.5 to prevent division by zero when creating the **mileage_per_year** column. We also replaced the **condition** column with values of a numerical scale from 0 to 5 so we could easily visualize and operate on this data.\n",
    "\n",
    "#### Filter outliers & analyze histograms\n",
    "Finally, we were able to carry out exploratory data analysis. First, we looked at some histograms for critical columns and discovered much of the data had outliers that needed to be accounted for. We created new DataFrames for the data, sorting into either outliers, or \"good data\" DataFrames. Then we plotted good data histograms and discovered some valuable insight once the ouliers were removed.\n",
    "\n",
    "#### Days listed correlation analysis\n",
    "We looked for any correlation between the number of days an ad stayed posted and any other data, but concluded that there were no significant factors that contributed to the length of time on the market.\n",
    "\n",
    "#### Price & number of ads by vehicle type\n",
    "Then we plotted bar charts showing number of ads by vehicle type and list price by vehicle type. We discovered that SUVs and trucks have both the most listings and sell for the highest prices. Building on that, we searched for any correlation between price and any other factors. Age and mileage are negatively correlated, while condition is positively correlated.\n",
    "\n",
    "#### Pricing boxplots\n",
    "As the final execise in EDA, we looked at boxplots of price grouped by paint color and price grouped by transmission. We discovered that black and white vehicles had higher number of listings and generally sold for more, and automatic transmissions were the most common and most practical to sell.\n",
    "\n",
    "#### Suggestions\n",
    "As a seller, marketer, or dealer, I would focus on the following segements of vehicles for sale as they command the highest price and also offer the customer the most choices and therefore are more likely to sell:\n",
    "\n",
    "- new or excellent condition\n",
    "- black or white paint\n",
    "- SUV or truck\n",
    "- low mileage\n",
    "- 4wd with automatic transmission\n",
    "\n"
   ]
  }
 ],
 "metadata": {
  "kernelspec": {
   "display_name": "Python 3",
   "language": "python",
   "name": "python3"
  },
  "language_info": {
   "codemirror_mode": {
    "name": "ipython",
    "version": 3
   },
   "file_extension": ".py",
   "mimetype": "text/x-python",
   "name": "python",
   "nbconvert_exporter": "python",
   "pygments_lexer": "ipython3",
   "version": "3.8.5"
  },
  "toc": {
   "base_numbering": 1,
   "nav_menu": {},
   "number_sections": true,
   "sideBar": true,
   "skip_h1_title": true,
   "title_cell": "Table of Contents",
   "title_sidebar": "Contents",
   "toc_cell": false,
   "toc_position": {},
   "toc_section_display": true,
   "toc_window_display": false
  }
 },
 "nbformat": 4,
 "nbformat_minor": 2
}
