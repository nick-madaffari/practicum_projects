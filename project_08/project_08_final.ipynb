{
 "cells": [
  {
   "cell_type": "markdown",
   "metadata": {},
   "source": [
    "# How to tell a story using data\n",
    "\n",
    "I’ve decided to open a small robot-run cafe in Los Ageles. The project is promising but expensive, so my partners and I decided to try to attract investors. They’re interested in the current market conditions — will we be able to maintain our success when the novelty of robot waiters wears off?\n",
    "\n",
    "I'm an analytics guru, so my partners have asked me to prepare some market research. I have open-source data on restaurants in LA.\n",
    "\n",
    "## Description of the data\n",
    "\n",
    "*/datasets/rest_data_us.csv*\n",
    "- **object_name** — establishment name\n",
    "- **chain** — chain establishment (True/False)\n",
    "- **object_type** — establishment type\n",
    "- **address** — physical address\n",
    "- **number** — number of seats\n",
    "\n"
   ]
  },
  {
   "cell_type": "markdown",
   "metadata": {},
   "source": [
    "### Step 1: Download the data & general overview"
   ]
  },
  {
   "cell_type": "markdown",
   "metadata": {},
   "source": [
    "#### Import libraries"
   ]
  },
  {
   "cell_type": "code",
   "execution_count": 1,
   "metadata": {},
   "outputs": [],
   "source": [
    "# import libraries\n",
    "\n",
    "import pandas as pd\n",
    "import matplotlib.pyplot as plt\n",
    "import seaborn as sns\n",
    "import plotly.express as px\n",
    "from plotly import graph_objects as go"
   ]
  },
  {
   "cell_type": "markdown",
   "metadata": {},
   "source": [
    "#### General info & descriptive stats"
   ]
  },
  {
   "cell_type": "code",
   "execution_count": 2,
   "metadata": {},
   "outputs": [
    {
     "name": "stdout",
     "output_type": "stream",
     "text": [
      "<class 'pandas.core.frame.DataFrame'>\n",
      "RangeIndex: 9651 entries, 0 to 9650\n",
      "Data columns (total 6 columns):\n",
      "id             9651 non-null int64\n",
      "object_name    9651 non-null object\n",
      "address        9651 non-null object\n",
      "chain          9648 non-null object\n",
      "object_type    9651 non-null object\n",
      "number         9651 non-null int64\n",
      "dtypes: int64(2), object(4)\n",
      "memory usage: 452.5+ KB\n"
     ]
    },
    {
     "data": {
      "text/plain": [
       "None"
      ]
     },
     "metadata": {},
     "output_type": "display_data"
    },
    {
     "data": {
      "text/html": [
       "<div>\n",
       "<style scoped>\n",
       "    .dataframe tbody tr th:only-of-type {\n",
       "        vertical-align: middle;\n",
       "    }\n",
       "\n",
       "    .dataframe tbody tr th {\n",
       "        vertical-align: top;\n",
       "    }\n",
       "\n",
       "    .dataframe thead th {\n",
       "        text-align: right;\n",
       "    }\n",
       "</style>\n",
       "<table border=\"1\" class=\"dataframe\">\n",
       "  <thead>\n",
       "    <tr style=\"text-align: right;\">\n",
       "      <th></th>\n",
       "      <th>id</th>\n",
       "      <th>object_name</th>\n",
       "      <th>address</th>\n",
       "      <th>chain</th>\n",
       "      <th>object_type</th>\n",
       "      <th>number</th>\n",
       "    </tr>\n",
       "  </thead>\n",
       "  <tbody>\n",
       "    <tr>\n",
       "      <td>0</td>\n",
       "      <td>11786</td>\n",
       "      <td>HABITAT COFFEE SHOP</td>\n",
       "      <td>3708 N EAGLE ROCK BLVD</td>\n",
       "      <td>False</td>\n",
       "      <td>Cafe</td>\n",
       "      <td>26</td>\n",
       "    </tr>\n",
       "    <tr>\n",
       "      <td>1</td>\n",
       "      <td>11787</td>\n",
       "      <td>REILLY'S</td>\n",
       "      <td>100 WORLD WAY # 120</td>\n",
       "      <td>False</td>\n",
       "      <td>Restaurant</td>\n",
       "      <td>9</td>\n",
       "    </tr>\n",
       "    <tr>\n",
       "      <td>2</td>\n",
       "      <td>11788</td>\n",
       "      <td>STREET CHURROS</td>\n",
       "      <td>6801 HOLLYWOOD BLVD # 253</td>\n",
       "      <td>False</td>\n",
       "      <td>Fast Food</td>\n",
       "      <td>20</td>\n",
       "    </tr>\n",
       "    <tr>\n",
       "      <td>3</td>\n",
       "      <td>11789</td>\n",
       "      <td>TRINITI ECHO PARK</td>\n",
       "      <td>1814 W SUNSET BLVD</td>\n",
       "      <td>False</td>\n",
       "      <td>Restaurant</td>\n",
       "      <td>22</td>\n",
       "    </tr>\n",
       "    <tr>\n",
       "      <td>4</td>\n",
       "      <td>11790</td>\n",
       "      <td>POLLEN</td>\n",
       "      <td>2100 ECHO PARK AVE</td>\n",
       "      <td>False</td>\n",
       "      <td>Restaurant</td>\n",
       "      <td>20</td>\n",
       "    </tr>\n",
       "  </tbody>\n",
       "</table>\n",
       "</div>"
      ],
      "text/plain": [
       "      id          object_name                    address  chain object_type  \\\n",
       "0  11786  HABITAT COFFEE SHOP     3708 N EAGLE ROCK BLVD  False        Cafe   \n",
       "1  11787             REILLY'S        100 WORLD WAY # 120  False  Restaurant   \n",
       "2  11788       STREET CHURROS  6801 HOLLYWOOD BLVD # 253  False   Fast Food   \n",
       "3  11789    TRINITI ECHO PARK         1814 W SUNSET BLVD  False  Restaurant   \n",
       "4  11790               POLLEN         2100 ECHO PARK AVE  False  Restaurant   \n",
       "\n",
       "   number  \n",
       "0      26  \n",
       "1       9  \n",
       "2      20  \n",
       "3      22  \n",
       "4      20  "
      ]
     },
     "metadata": {},
     "output_type": "display_data"
    }
   ],
   "source": [
    "# read .csv file & look at general info\n",
    "\n",
    "est_data = pd.read_csv('/datasets/rest_data_us.csv')\n",
    "\n",
    "display(est_data.info())\n",
    "display(est_data.head())"
   ]
  },
  {
   "cell_type": "code",
   "execution_count": 3,
   "metadata": {},
   "outputs": [
    {
     "data": {
      "text/html": [
       "<div>\n",
       "<style scoped>\n",
       "    .dataframe tbody tr th:only-of-type {\n",
       "        vertical-align: middle;\n",
       "    }\n",
       "\n",
       "    .dataframe tbody tr th {\n",
       "        vertical-align: top;\n",
       "    }\n",
       "\n",
       "    .dataframe thead th {\n",
       "        text-align: right;\n",
       "    }\n",
       "</style>\n",
       "<table border=\"1\" class=\"dataframe\">\n",
       "  <thead>\n",
       "    <tr style=\"text-align: right;\">\n",
       "      <th></th>\n",
       "      <th>id</th>\n",
       "      <th>number</th>\n",
       "    </tr>\n",
       "  </thead>\n",
       "  <tbody>\n",
       "    <tr>\n",
       "      <td>count</td>\n",
       "      <td>9651.000000</td>\n",
       "      <td>9651.000000</td>\n",
       "    </tr>\n",
       "    <tr>\n",
       "      <td>mean</td>\n",
       "      <td>16611.000000</td>\n",
       "      <td>43.695161</td>\n",
       "    </tr>\n",
       "    <tr>\n",
       "      <td>std</td>\n",
       "      <td>2786.148058</td>\n",
       "      <td>47.622874</td>\n",
       "    </tr>\n",
       "    <tr>\n",
       "      <td>min</td>\n",
       "      <td>11786.000000</td>\n",
       "      <td>1.000000</td>\n",
       "    </tr>\n",
       "    <tr>\n",
       "      <td>25%</td>\n",
       "      <td>14198.500000</td>\n",
       "      <td>14.000000</td>\n",
       "    </tr>\n",
       "    <tr>\n",
       "      <td>50%</td>\n",
       "      <td>16611.000000</td>\n",
       "      <td>27.000000</td>\n",
       "    </tr>\n",
       "    <tr>\n",
       "      <td>75%</td>\n",
       "      <td>19023.500000</td>\n",
       "      <td>46.000000</td>\n",
       "    </tr>\n",
       "    <tr>\n",
       "      <td>max</td>\n",
       "      <td>21436.000000</td>\n",
       "      <td>229.000000</td>\n",
       "    </tr>\n",
       "  </tbody>\n",
       "</table>\n",
       "</div>"
      ],
      "text/plain": [
       "                 id       number\n",
       "count   9651.000000  9651.000000\n",
       "mean   16611.000000    43.695161\n",
       "std     2786.148058    47.622874\n",
       "min    11786.000000     1.000000\n",
       "25%    14198.500000    14.000000\n",
       "50%    16611.000000    27.000000\n",
       "75%    19023.500000    46.000000\n",
       "max    21436.000000   229.000000"
      ]
     },
     "metadata": {},
     "output_type": "display_data"
    }
   ],
   "source": [
    "# look at descriptive stats\n",
    "\n",
    "display(est_data.describe())"
   ]
  },
  {
   "cell_type": "markdown",
   "metadata": {},
   "source": [
    "#### Check for duplicates"
   ]
  },
  {
   "cell_type": "code",
   "execution_count": 4,
   "metadata": {},
   "outputs": [
    {
     "name": "stdout",
     "output_type": "stream",
     "text": [
      "Number of duplicates in 'est_data': 0\n"
     ]
    }
   ],
   "source": [
    "# checking for duplicates\n",
    "\n",
    "print(\"Number of duplicates in 'est_data':\", est_data.duplicated().sum())"
   ]
  },
  {
   "cell_type": "markdown",
   "metadata": {},
   "source": [
    "#### Conclusion\n",
    "There are a few issues we can immediately see from our initial overview. We'll need to address these in the next step.\n",
    " - We should change the column names to more descriptive labels\n",
    " - There are 3 missing values in the **'chain'** column\n",
    " - We should make all *object* dtype values lowercase\n",
    " - The **'id'** column dtype should be changed to *object*\n",
    " - The **'chain'** column dtype should be changed to *bool*"
   ]
  },
  {
   "cell_type": "markdown",
   "metadata": {},
   "source": [
    "### Step 2: Data preprocessing"
   ]
  },
  {
   "cell_type": "markdown",
   "metadata": {},
   "source": [
    "#### Change column names"
   ]
  },
  {
   "cell_type": "code",
   "execution_count": 5,
   "metadata": {},
   "outputs": [
    {
     "data": {
      "text/html": [
       "<div>\n",
       "<style scoped>\n",
       "    .dataframe tbody tr th:only-of-type {\n",
       "        vertical-align: middle;\n",
       "    }\n",
       "\n",
       "    .dataframe tbody tr th {\n",
       "        vertical-align: top;\n",
       "    }\n",
       "\n",
       "    .dataframe thead th {\n",
       "        text-align: right;\n",
       "    }\n",
       "</style>\n",
       "<table border=\"1\" class=\"dataframe\">\n",
       "  <thead>\n",
       "    <tr style=\"text-align: right;\">\n",
       "      <th></th>\n",
       "      <th>id</th>\n",
       "      <th>est_name</th>\n",
       "      <th>address</th>\n",
       "      <th>is_chain</th>\n",
       "      <th>est_type</th>\n",
       "      <th>n_seats</th>\n",
       "    </tr>\n",
       "  </thead>\n",
       "  <tbody>\n",
       "    <tr>\n",
       "      <td>0</td>\n",
       "      <td>11786</td>\n",
       "      <td>HABITAT COFFEE SHOP</td>\n",
       "      <td>3708 N EAGLE ROCK BLVD</td>\n",
       "      <td>False</td>\n",
       "      <td>Cafe</td>\n",
       "      <td>26</td>\n",
       "    </tr>\n",
       "    <tr>\n",
       "      <td>1</td>\n",
       "      <td>11787</td>\n",
       "      <td>REILLY'S</td>\n",
       "      <td>100 WORLD WAY # 120</td>\n",
       "      <td>False</td>\n",
       "      <td>Restaurant</td>\n",
       "      <td>9</td>\n",
       "    </tr>\n",
       "    <tr>\n",
       "      <td>2</td>\n",
       "      <td>11788</td>\n",
       "      <td>STREET CHURROS</td>\n",
       "      <td>6801 HOLLYWOOD BLVD # 253</td>\n",
       "      <td>False</td>\n",
       "      <td>Fast Food</td>\n",
       "      <td>20</td>\n",
       "    </tr>\n",
       "    <tr>\n",
       "      <td>3</td>\n",
       "      <td>11789</td>\n",
       "      <td>TRINITI ECHO PARK</td>\n",
       "      <td>1814 W SUNSET BLVD</td>\n",
       "      <td>False</td>\n",
       "      <td>Restaurant</td>\n",
       "      <td>22</td>\n",
       "    </tr>\n",
       "    <tr>\n",
       "      <td>4</td>\n",
       "      <td>11790</td>\n",
       "      <td>POLLEN</td>\n",
       "      <td>2100 ECHO PARK AVE</td>\n",
       "      <td>False</td>\n",
       "      <td>Restaurant</td>\n",
       "      <td>20</td>\n",
       "    </tr>\n",
       "  </tbody>\n",
       "</table>\n",
       "</div>"
      ],
      "text/plain": [
       "      id             est_name                    address is_chain    est_type  \\\n",
       "0  11786  HABITAT COFFEE SHOP     3708 N EAGLE ROCK BLVD    False        Cafe   \n",
       "1  11787             REILLY'S        100 WORLD WAY # 120    False  Restaurant   \n",
       "2  11788       STREET CHURROS  6801 HOLLYWOOD BLVD # 253    False   Fast Food   \n",
       "3  11789    TRINITI ECHO PARK         1814 W SUNSET BLVD    False  Restaurant   \n",
       "4  11790               POLLEN         2100 ECHO PARK AVE    False  Restaurant   \n",
       "\n",
       "   n_seats  \n",
       "0       26  \n",
       "1        9  \n",
       "2       20  \n",
       "3       22  \n",
       "4       20  "
      ]
     },
     "execution_count": 5,
     "metadata": {},
     "output_type": "execute_result"
    }
   ],
   "source": [
    "# change column names\n",
    "\n",
    "est_data.columns = ['id', 'est_name', 'address', 'is_chain', 'est_type', 'n_seats']\n",
    "est_data.head()"
   ]
  },
  {
   "cell_type": "markdown",
   "metadata": {},
   "source": [
    "#### Delete missing values"
   ]
  },
  {
   "cell_type": "code",
   "execution_count": 6,
   "metadata": {},
   "outputs": [
    {
     "name": "stdout",
     "output_type": "stream",
     "text": [
      "<class 'pandas.core.frame.DataFrame'>\n",
      "Int64Index: 9648 entries, 0 to 9650\n",
      "Data columns (total 6 columns):\n",
      "id          9648 non-null int64\n",
      "est_name    9648 non-null object\n",
      "address     9648 non-null object\n",
      "is_chain    9648 non-null object\n",
      "est_type    9648 non-null object\n",
      "n_seats     9648 non-null int64\n",
      "dtypes: int64(2), object(4)\n",
      "memory usage: 527.6+ KB\n"
     ]
    }
   ],
   "source": [
    "# drop missing values\n",
    "\n",
    "est_data.dropna(inplace=True)\n",
    "est_data.info()"
   ]
  },
  {
   "cell_type": "markdown",
   "metadata": {},
   "source": [
    "#### Lowercase values for *object* columns"
   ]
  },
  {
   "cell_type": "code",
   "execution_count": 7,
   "metadata": {},
   "outputs": [
    {
     "data": {
      "text/html": [
       "<div>\n",
       "<style scoped>\n",
       "    .dataframe tbody tr th:only-of-type {\n",
       "        vertical-align: middle;\n",
       "    }\n",
       "\n",
       "    .dataframe tbody tr th {\n",
       "        vertical-align: top;\n",
       "    }\n",
       "\n",
       "    .dataframe thead th {\n",
       "        text-align: right;\n",
       "    }\n",
       "</style>\n",
       "<table border=\"1\" class=\"dataframe\">\n",
       "  <thead>\n",
       "    <tr style=\"text-align: right;\">\n",
       "      <th></th>\n",
       "      <th>id</th>\n",
       "      <th>est_name</th>\n",
       "      <th>address</th>\n",
       "      <th>is_chain</th>\n",
       "      <th>est_type</th>\n",
       "      <th>n_seats</th>\n",
       "    </tr>\n",
       "  </thead>\n",
       "  <tbody>\n",
       "    <tr>\n",
       "      <td>0</td>\n",
       "      <td>11786</td>\n",
       "      <td>habitat coffee shop</td>\n",
       "      <td>3708 n eagle rock blvd</td>\n",
       "      <td>False</td>\n",
       "      <td>cafe</td>\n",
       "      <td>26</td>\n",
       "    </tr>\n",
       "    <tr>\n",
       "      <td>1</td>\n",
       "      <td>11787</td>\n",
       "      <td>reilly's</td>\n",
       "      <td>100 world way # 120</td>\n",
       "      <td>False</td>\n",
       "      <td>restaurant</td>\n",
       "      <td>9</td>\n",
       "    </tr>\n",
       "    <tr>\n",
       "      <td>2</td>\n",
       "      <td>11788</td>\n",
       "      <td>street churros</td>\n",
       "      <td>6801 hollywood blvd # 253</td>\n",
       "      <td>False</td>\n",
       "      <td>fast food</td>\n",
       "      <td>20</td>\n",
       "    </tr>\n",
       "    <tr>\n",
       "      <td>3</td>\n",
       "      <td>11789</td>\n",
       "      <td>triniti echo park</td>\n",
       "      <td>1814 w sunset blvd</td>\n",
       "      <td>False</td>\n",
       "      <td>restaurant</td>\n",
       "      <td>22</td>\n",
       "    </tr>\n",
       "    <tr>\n",
       "      <td>4</td>\n",
       "      <td>11790</td>\n",
       "      <td>pollen</td>\n",
       "      <td>2100 echo park ave</td>\n",
       "      <td>False</td>\n",
       "      <td>restaurant</td>\n",
       "      <td>20</td>\n",
       "    </tr>\n",
       "  </tbody>\n",
       "</table>\n",
       "</div>"
      ],
      "text/plain": [
       "      id             est_name                    address is_chain    est_type  \\\n",
       "0  11786  habitat coffee shop     3708 n eagle rock blvd    False        cafe   \n",
       "1  11787             reilly's        100 world way # 120    False  restaurant   \n",
       "2  11788       street churros  6801 hollywood blvd # 253    False   fast food   \n",
       "3  11789    triniti echo park         1814 w sunset blvd    False  restaurant   \n",
       "4  11790               pollen         2100 echo park ave    False  restaurant   \n",
       "\n",
       "   n_seats  \n",
       "0       26  \n",
       "1        9  \n",
       "2       20  \n",
       "3       22  \n",
       "4       20  "
      ]
     },
     "execution_count": 7,
     "metadata": {},
     "output_type": "execute_result"
    }
   ],
   "source": [
    "# make column values lowercase\n",
    "\n",
    "lower_cols = ['est_name', 'address', 'est_type']\n",
    "\n",
    "est_data[lower_cols] = est_data[lower_cols].apply(lambda x: x.astype(str).str.lower())\n",
    "est_data.head()"
   ]
  },
  {
   "cell_type": "markdown",
   "metadata": {},
   "source": [
    "#### Change data types"
   ]
  },
  {
   "cell_type": "code",
   "execution_count": 8,
   "metadata": {},
   "outputs": [
    {
     "name": "stdout",
     "output_type": "stream",
     "text": [
      "<class 'pandas.core.frame.DataFrame'>\n",
      "Int64Index: 9648 entries, 0 to 9650\n",
      "Data columns (total 6 columns):\n",
      "id          9648 non-null object\n",
      "est_name    9648 non-null object\n",
      "address     9648 non-null object\n",
      "is_chain    9648 non-null bool\n",
      "est_type    9648 non-null object\n",
      "n_seats     9648 non-null int64\n",
      "dtypes: bool(1), int64(1), object(4)\n",
      "memory usage: 461.7+ KB\n"
     ]
    }
   ],
   "source": [
    "# change 'id' to object dtype with .astype() method\n",
    "\n",
    "est_data['id'] = est_data['id'].astype(str)\n",
    "est_data['is_chain'] = est_data['is_chain'].astype(bool)\n",
    "\n",
    "est_data.info()"
   ]
  },
  {
   "cell_type": "markdown",
   "metadata": {},
   "source": [
    "### Step 2: Data analysis"
   ]
  },
  {
   "cell_type": "markdown",
   "metadata": {},
   "source": [
    "#### Proportions of different restaurant types"
   ]
  },
  {
   "cell_type": "code",
   "execution_count": 9,
   "metadata": {},
   "outputs": [
    {
     "data": {
      "image/png": "[encoded data removed]",
      "text/plain": [
       "<Figure size 432x288 with 1 Axes>"
      ]
     },
     "metadata": {
      "needs_background": "light"
     },
     "output_type": "display_data"
    }
   ],
   "source": [
    "# bar graph of restaurant types\n",
    "\n",
    "est_type_proportions = est_data.groupby('est_type')['id'].count().reset_index()\n",
    "\n",
    "ax = sns.barplot(x='est_type', y='id', data=est_type_proportions)\n",
    "ax.set_title('No. of establishments by type')\n",
    "ax.set_xlabel('Establishment type')\n",
    "ax.set_ylabel('No. of Establishments')\n",
    "plt.show()"
   ]
  },
  {
   "cell_type": "markdown",
   "metadata": {},
   "source": [
    "##### Conclusion\n",
    "Restaurants are the most common establishment type by a long shot, with over 7000 establishments. The next most common is fast food. The remaining establishment types have relatively similar proportions in relation to the total number of establishments."
   ]
  },
  {
   "cell_type": "markdown",
   "metadata": {},
   "source": [
    "#### Proportions of chain & non-chain restaurants"
   ]
  },
  {
   "cell_type": "code",
   "execution_count": 10,
   "metadata": {},
   "outputs": [
    {
     "data": {
      "image/png": "[encoded data removed]",
      "text/plain": [
       "<Figure size 432x288 with 1 Axes>"
      ]
     },
     "metadata": {
      "needs_background": "light"
     },
     "output_type": "display_data"
    }
   ],
   "source": [
    "# pie chart of chain type\n",
    "\n",
    "chain_type_proportions = est_data.groupby('is_chain')['id'].count().reset_index()\n",
    "\n",
    "ax = sns.barplot(x='is_chain', y='id', data=chain_type_proportions)\n",
    "ax.set_title('Establishments by chain type')\n",
    "ax.set_xlabel('Chain type')\n",
    "ax.set_ylabel('No. of Establishments')\n",
    "plt.show()"
   ]
  },
  {
   "cell_type": "markdown",
   "metadata": {},
   "source": [
    "##### Conclusion\n",
    "The majority of establishments are not chains. There are roughly 6000 establishments that are not chains and just under 4000 that are part of a chain. This is approximately a 60-40 percentage breakdown."
   ]
  },
  {
   "cell_type": "markdown",
   "metadata": {},
   "source": [
    "#### Establishments that are typically chains"
   ]
  },
  {
   "cell_type": "code",
   "execution_count": 11,
   "metadata": {},
   "outputs": [
    {
     "data": {
      "image/png": "[encoded data removed]",
      "text/plain": [
       "<Figure size 432x288 with 1 Axes>"
      ]
     },
     "metadata": {
      "needs_background": "light"
     },
     "output_type": "display_data"
    }
   ],
   "source": [
    "# group & plot by restaurant type & chain type\n",
    "\n",
    "typ_chains = est_data.groupby(['est_type', 'is_chain'])['id'].count().reset_index()\n",
    "\n",
    "ax = sns.barplot(x='est_type', y='id', hue='is_chain', data=typ_chains)\n",
    "ax.set_title('No. of Establishments by type & chain type')\n",
    "ax.set_xlabel('Establishment type')\n",
    "ax.set_ylabel('No. of Establishments')\n",
    "plt.show()"
   ]
  },
  {
   "cell_type": "code",
   "execution_count": 12,
   "metadata": {},
   "outputs": [
    {
     "data": {
      "image/png": "[encoded data removed]",
      "text/plain": [
       "<Figure size 432x288 with 1 Axes>"
      ]
     },
     "metadata": {
      "needs_background": "light"
     },
     "output_type": "display_data"
    }
   ],
   "source": [
    "# cafe chains vs non-chains\n",
    "\n",
    "ax = sns.barplot(x='is_chain', y='id', data=typ_chains.query('est_type == \"cafe\"'))\n",
    "ax.set_title('No. of Cafes by chain type')\n",
    "ax.set_xlabel('Chain type')\n",
    "ax.set_ylabel('No. of Establishments')\n",
    "plt.show()"
   ]
  },
  {
   "cell_type": "markdown",
   "metadata": {},
   "source": [
    "##### Conclusion\n",
    "Bakeries are most likely to be chains. In fact, there are no bakeries that are not part of a chain! On the contrary, most restaurants are not part of chains. As far as cafes go, most are chain cafes. Maybe it's worth analyzing data before and after the COVID-19 pandemic, because many small, family-owned restaurants have gone out of business!"
   ]
  },
  {
   "cell_type": "markdown",
   "metadata": {},
   "source": [
    "#### Chain establishment characteristics"
   ]
  },
  {
   "cell_type": "code",
   "execution_count": 13,
   "metadata": {},
   "outputs": [
    {
     "data": {
      "image/png": "[encoded data removed]",
      "text/plain": [
       "<Figure size 432x288 with 1 Axes>"
      ]
     },
     "metadata": {
      "needs_background": "light"
     },
     "output_type": "display_data"
    }
   ],
   "source": [
    "# filter & plot histogram of seat count\n",
    "\n",
    "chains_only = est_data.query('is_chain == True')\n",
    "\n",
    "ax = sns.distplot(chains_only['n_seats'], bins=20)\n",
    "ax.set_title('Number of seats for chain establishments')\n",
    "ax.set_xlabel('No. of seats')\n",
    "ax.set_ylabel('Frequency (normalized)')\n",
    "plt.show()"
   ]
  },
  {
   "cell_type": "markdown",
   "metadata": {},
   "source": [
    "##### Conclusion\n",
    "The majority of chain establishments have less than 50 seats. It seems like their strategy is to have a high number of smaller locations as opposed to a small number of large locations."
   ]
  },
  {
   "cell_type": "markdown",
   "metadata": {},
   "source": [
    "#### Avg number of seats per establishment type\n"
   ]
  },
  {
   "cell_type": "code",
   "execution_count": 14,
   "metadata": {},
   "outputs": [
    {
     "data": {
      "image/png": "[encoded data removed]",
      "text/plain": [
       "<Figure size 432x288 with 1 Axes>"
      ]
     },
     "metadata": {
      "needs_background": "light"
     },
     "output_type": "display_data"
    }
   ],
   "source": [
    "# plot & lable chart\n",
    "\n",
    "ax = sns.barplot(x='n_seats', y='est_type', data=est_data)\n",
    "ax.set_title('Average no. of seats per establishment type')\n",
    "ax.set_xlabel('Avg no. of seats')\n",
    "ax.set_ylabel('Establishment type')\n",
    "plt.show()"
   ]
  },
  {
   "cell_type": "markdown",
   "metadata": {},
   "source": [
    "##### Conclusion\n",
    "Bars and restaurants generally have the highest number of seats. Bakeries and cafes usually have less seating available to customers. This makes sense since cafes and bakeries are usually smaller establishments that cater to a niche audience, while bars and restaurants are attempting to draw large crowds of people."
   ]
  },
  {
   "cell_type": "code",
   "execution_count": 15,
   "metadata": {},
   "outputs": [
    {
     "data": {
      "text/html": [
       "<div>\n",
       "<style scoped>\n",
       "    .dataframe tbody tr th:only-of-type {\n",
       "        vertical-align: middle;\n",
       "    }\n",
       "\n",
       "    .dataframe tbody tr th {\n",
       "        vertical-align: top;\n",
       "    }\n",
       "\n",
       "    .dataframe thead th {\n",
       "        text-align: right;\n",
       "    }\n",
       "</style>\n",
       "<table border=\"1\" class=\"dataframe\">\n",
       "  <thead>\n",
       "    <tr style=\"text-align: right;\">\n",
       "      <th></th>\n",
       "      <th>id</th>\n",
       "      <th>est_name</th>\n",
       "      <th>address</th>\n",
       "      <th>is_chain</th>\n",
       "      <th>est_type</th>\n",
       "      <th>n_seats</th>\n",
       "    </tr>\n",
       "  </thead>\n",
       "  <tbody>\n",
       "    <tr>\n",
       "      <td>0</td>\n",
       "      <td>11786</td>\n",
       "      <td>habitat coffee shop</td>\n",
       "      <td>3708 n eagle rock blvd</td>\n",
       "      <td>False</td>\n",
       "      <td>cafe</td>\n",
       "      <td>26</td>\n",
       "    </tr>\n",
       "    <tr>\n",
       "      <td>1</td>\n",
       "      <td>11787</td>\n",
       "      <td>reilly's</td>\n",
       "      <td>100 world way # 120</td>\n",
       "      <td>False</td>\n",
       "      <td>restaurant</td>\n",
       "      <td>9</td>\n",
       "    </tr>\n",
       "    <tr>\n",
       "      <td>2</td>\n",
       "      <td>11788</td>\n",
       "      <td>street churros</td>\n",
       "      <td>6801 hollywood blvd # 253</td>\n",
       "      <td>False</td>\n",
       "      <td>fast food</td>\n",
       "      <td>20</td>\n",
       "    </tr>\n",
       "    <tr>\n",
       "      <td>3</td>\n",
       "      <td>11789</td>\n",
       "      <td>triniti echo park</td>\n",
       "      <td>1814 w sunset blvd</td>\n",
       "      <td>False</td>\n",
       "      <td>restaurant</td>\n",
       "      <td>22</td>\n",
       "    </tr>\n",
       "    <tr>\n",
       "      <td>4</td>\n",
       "      <td>11790</td>\n",
       "      <td>pollen</td>\n",
       "      <td>2100 echo park ave</td>\n",
       "      <td>False</td>\n",
       "      <td>restaurant</td>\n",
       "      <td>20</td>\n",
       "    </tr>\n",
       "    <tr>\n",
       "      <td>...</td>\n",
       "      <td>...</td>\n",
       "      <td>...</td>\n",
       "      <td>...</td>\n",
       "      <td>...</td>\n",
       "      <td>...</td>\n",
       "      <td>...</td>\n",
       "    </tr>\n",
       "    <tr>\n",
       "      <td>9646</td>\n",
       "      <td>21432</td>\n",
       "      <td>hall of justice</td>\n",
       "      <td>217 w temple ave</td>\n",
       "      <td>False</td>\n",
       "      <td>restaurant</td>\n",
       "      <td>122</td>\n",
       "    </tr>\n",
       "    <tr>\n",
       "      <td>9647</td>\n",
       "      <td>21433</td>\n",
       "      <td>fin-melrose</td>\n",
       "      <td>5750 melrose ave</td>\n",
       "      <td>False</td>\n",
       "      <td>restaurant</td>\n",
       "      <td>93</td>\n",
       "    </tr>\n",
       "    <tr>\n",
       "      <td>9648</td>\n",
       "      <td>21434</td>\n",
       "      <td>juicy wingz</td>\n",
       "      <td>6741 hollywood blvd</td>\n",
       "      <td>True</td>\n",
       "      <td>fast food</td>\n",
       "      <td>15</td>\n",
       "    </tr>\n",
       "    <tr>\n",
       "      <td>9649</td>\n",
       "      <td>21435</td>\n",
       "      <td>medidate coffee</td>\n",
       "      <td>548 s spring st ste 100</td>\n",
       "      <td>False</td>\n",
       "      <td>cafe</td>\n",
       "      <td>6</td>\n",
       "    </tr>\n",
       "    <tr>\n",
       "      <td>9650</td>\n",
       "      <td>21436</td>\n",
       "      <td>cafe sprouts</td>\n",
       "      <td>1300 s san pedro st ste 111</td>\n",
       "      <td>True</td>\n",
       "      <td>restaurant</td>\n",
       "      <td>19</td>\n",
       "    </tr>\n",
       "  </tbody>\n",
       "</table>\n",
       "<p>9648 rows × 6 columns</p>\n",
       "</div>"
      ],
      "text/plain": [
       "         id             est_name                      address  is_chain  \\\n",
       "0     11786  habitat coffee shop       3708 n eagle rock blvd     False   \n",
       "1     11787             reilly's          100 world way # 120     False   \n",
       "2     11788       street churros    6801 hollywood blvd # 253     False   \n",
       "3     11789    triniti echo park           1814 w sunset blvd     False   \n",
       "4     11790               pollen           2100 echo park ave     False   \n",
       "...     ...                  ...                          ...       ...   \n",
       "9646  21432      hall of justice             217 w temple ave     False   \n",
       "9647  21433          fin-melrose             5750 melrose ave     False   \n",
       "9648  21434          juicy wingz          6741 hollywood blvd      True   \n",
       "9649  21435      medidate coffee      548 s spring st ste 100     False   \n",
       "9650  21436         cafe sprouts  1300 s san pedro st ste 111      True   \n",
       "\n",
       "        est_type  n_seats  \n",
       "0           cafe       26  \n",
       "1     restaurant        9  \n",
       "2      fast food       20  \n",
       "3     restaurant       22  \n",
       "4     restaurant       20  \n",
       "...          ...      ...  \n",
       "9646  restaurant      122  \n",
       "9647  restaurant       93  \n",
       "9648   fast food       15  \n",
       "9649        cafe        6  \n",
       "9650  restaurant       19  \n",
       "\n",
       "[9648 rows x 6 columns]"
      ]
     },
     "execution_count": 15,
     "metadata": {},
     "output_type": "execute_result"
    }
   ],
   "source": [
    "est_data"
   ]
  },
  {
   "cell_type": "markdown",
   "metadata": {},
   "source": [
    "#### Extract street names"
   ]
  },
  {
   "cell_type": "code",
   "execution_count": 16,
   "metadata": {
    "scrolled": false
   },
   "outputs": [
    {
     "data": {
      "text/html": [
       "<div>\n",
       "<style scoped>\n",
       "    .dataframe tbody tr th:only-of-type {\n",
       "        vertical-align: middle;\n",
       "    }\n",
       "\n",
       "    .dataframe tbody tr th {\n",
       "        vertical-align: top;\n",
       "    }\n",
       "\n",
       "    .dataframe thead th {\n",
       "        text-align: right;\n",
       "    }\n",
       "</style>\n",
       "<table border=\"1\" class=\"dataframe\">\n",
       "  <thead>\n",
       "    <tr style=\"text-align: right;\">\n",
       "      <th></th>\n",
       "      <th>id</th>\n",
       "      <th>est_name</th>\n",
       "      <th>address</th>\n",
       "      <th>is_chain</th>\n",
       "      <th>est_type</th>\n",
       "      <th>n_seats</th>\n",
       "      <th>street_name</th>\n",
       "    </tr>\n",
       "  </thead>\n",
       "  <tbody>\n",
       "    <tr>\n",
       "      <td>0</td>\n",
       "      <td>11786</td>\n",
       "      <td>habitat coffee shop</td>\n",
       "      <td>3708 n eagle rock blvd</td>\n",
       "      <td>False</td>\n",
       "      <td>cafe</td>\n",
       "      <td>26</td>\n",
       "      <td>n eagle rock blvd</td>\n",
       "    </tr>\n",
       "    <tr>\n",
       "      <td>1</td>\n",
       "      <td>11787</td>\n",
       "      <td>reilly's</td>\n",
       "      <td>100 world way # 120</td>\n",
       "      <td>False</td>\n",
       "      <td>restaurant</td>\n",
       "      <td>9</td>\n",
       "      <td>world way</td>\n",
       "    </tr>\n",
       "    <tr>\n",
       "      <td>2</td>\n",
       "      <td>11788</td>\n",
       "      <td>street churros</td>\n",
       "      <td>6801 hollywood blvd # 253</td>\n",
       "      <td>False</td>\n",
       "      <td>fast food</td>\n",
       "      <td>20</td>\n",
       "      <td>hollywood blvd</td>\n",
       "    </tr>\n",
       "    <tr>\n",
       "      <td>3</td>\n",
       "      <td>11789</td>\n",
       "      <td>triniti echo park</td>\n",
       "      <td>1814 w sunset blvd</td>\n",
       "      <td>False</td>\n",
       "      <td>restaurant</td>\n",
       "      <td>22</td>\n",
       "      <td>w sunset blvd</td>\n",
       "    </tr>\n",
       "    <tr>\n",
       "      <td>4</td>\n",
       "      <td>11790</td>\n",
       "      <td>pollen</td>\n",
       "      <td>2100 echo park ave</td>\n",
       "      <td>False</td>\n",
       "      <td>restaurant</td>\n",
       "      <td>20</td>\n",
       "      <td>echo park ave</td>\n",
       "    </tr>\n",
       "  </tbody>\n",
       "</table>\n",
       "</div>"
      ],
      "text/plain": [
       "      id             est_name                    address  is_chain  \\\n",
       "0  11786  habitat coffee shop     3708 n eagle rock blvd     False   \n",
       "1  11787             reilly's        100 world way # 120     False   \n",
       "2  11788       street churros  6801 hollywood blvd # 253     False   \n",
       "3  11789    triniti echo park         1814 w sunset blvd     False   \n",
       "4  11790               pollen         2100 echo park ave     False   \n",
       "\n",
       "     est_type  n_seats        street_name  \n",
       "0        cafe       26  n eagle rock blvd  \n",
       "1  restaurant        9         world way   \n",
       "2   fast food       20    hollywood blvd   \n",
       "3  restaurant       22      w sunset blvd  \n",
       "4  restaurant       20      echo park ave  "
      ]
     },
     "execution_count": 16,
     "metadata": {},
     "output_type": "execute_result"
    }
   ],
   "source": [
    "# extract street names from 'address' column using regex\n",
    "\n",
    "est_data['street_name'] = est_data['address'].str.extract(r'(((?<= )[\\w]+) [a-z0-9 ]+)+').reset_index(drop=True)[0]\n",
    "est_data.head()"
   ]
  },
  {
   "cell_type": "markdown",
   "metadata": {},
   "source": [
    "#### Top 10 steets by no. of restaurants"
   ]
  },
  {
   "cell_type": "code",
   "execution_count": 17,
   "metadata": {},
   "outputs": [
    {
     "data": {
      "image/png": "[encoded data removed]",
      "text/plain": [
       "<Figure size 432x288 with 1 Axes>"
      ]
     },
     "metadata": {
      "needs_background": "light"
     },
     "output_type": "display_data"
    }
   ],
   "source": [
    "# sort top 10 & plot\n",
    "\n",
    "rest_only = est_data.query('est_type == \"restaurant\"')\n",
    "n_rest_by_street = rest_only.groupby('street_name')['id'].count().reset_index()\n",
    "\n",
    "top_10_streets = n_rest_by_street.sort_values(by='id', ascending=False)[:10]\n",
    "\n",
    "ax = sns.barplot(x='street_name', y='id', data=top_10_streets)\n",
    "ax.set_title('Top 10 Streets by No. of Restaurants')\n",
    "ax.set_xlabel('Street name')\n",
    "ax.set_ylabel('No. of Restaurants')\n",
    "plt.xticks(rotation=90)\n",
    "plt.show()"
   ]
  },
  {
   "cell_type": "markdown",
   "metadata": {},
   "source": [
    "##### Conclusion\n",
    "Pico Blvd and Sunset Blvd have the highest number of restaurants. Some other popular streets are Hollywood Blvd, Wilshire Blvd, and W. 3rd St. Pico and Sunset are by far the leaders in this metric."
   ]
  },
  {
   "cell_type": "markdown",
   "metadata": {},
   "source": [
    "#### Streets with only one restaurant"
   ]
  },
  {
   "cell_type": "code",
   "execution_count": 18,
   "metadata": {},
   "outputs": [
    {
     "name": "stdout",
     "output_type": "stream",
     "text": [
      "Streets with only one restaurant: 1107\n"
     ]
    }
   ],
   "source": [
    "# print # of streets with only one restaurant\n",
    "\n",
    "print('Streets with only one restaurant:', n_rest_by_street.query('id == 1')['id'].count())"
   ]
  },
  {
   "cell_type": "markdown",
   "metadata": {},
   "source": [
    "#### Number of seats for restaurants on popular streets"
   ]
  },
  {
   "cell_type": "code",
   "execution_count": 19,
   "metadata": {},
   "outputs": [
    {
     "data": {
      "image/png": "[encoded data removed]",
      "text/plain": [
       "<Figure size 432x288 with 1 Axes>"
      ]
     },
     "metadata": {
      "needs_background": "light"
     },
     "output_type": "display_data"
    }
   ],
   "source": [
    "# filter for only top 10 street names\n",
    "\n",
    "ax = sns.distplot(rest_only[rest_only['street_name'].isin(top_10_streets['street_name'])]['n_seats'], bins=20)\n",
    "ax.set_title('Number of seats for restaurants on popular streets')\n",
    "ax.set_xlabel('No. of seats')\n",
    "ax.set_ylabel('Frequency (normalized)')\n",
    "plt.show()"
   ]
  },
  {
   "cell_type": "markdown",
   "metadata": {},
   "source": [
    "##### Conclusion\n",
    "This distribution closely mirrors the one above for chain restaurants. It's likely that most of the restaurants on the most popular streets in LA are chain restaurants. Their strategy is to have a high number of establishments with less than 50-60 seats in each establishment."
   ]
  },
  {
   "cell_type": "markdown",
   "metadata": {},
   "source": [
    "### Step 3: Preparing a presentation"
   ]
  },
  {
   "cell_type": "markdown",
   "metadata": {},
   "source": [
    "Presentation: https://drive.google.com/file/d/1l6TH9eXIfXRJJysAyS9a5zgzCPgSRbPZ/view?usp=sharing"
   ]
  }
 ],
 "metadata": {
  "ExecuteTimeLog": [
   {
    "duration": 36203,
    "start_time": "2021-06-09T09:54:47.112Z"
   },
   {
    "duration": 61,
    "start_time": "2021-06-09T09:55:23.318Z"
   },
   {
    "duration": 25,
    "start_time": "2021-06-09T09:55:23.383Z"
   },
   {
    "duration": 16,
    "start_time": "2021-06-09T09:55:23.411Z"
   },
   {
    "duration": 17,
    "start_time": "2021-06-09T09:55:23.463Z"
   },
   {
    "duration": 20,
    "start_time": "2021-06-09T09:55:23.483Z"
   },
   {
    "duration": 80,
    "start_time": "2021-06-09T09:55:23.506Z"
   },
   {
    "duration": 24,
    "start_time": "2021-06-09T09:55:23.591Z"
   },
   {
    "duration": 326,
    "start_time": "2021-06-09T09:55:23.619Z"
   },
   {
    "duration": 251,
    "start_time": "2021-06-09T09:55:23.947Z"
   },
   {
    "duration": 369,
    "start_time": "2021-06-09T09:55:24.200Z"
   },
   {
    "duration": 235,
    "start_time": "2021-06-09T09:55:24.572Z"
   },
   {
    "duration": 362,
    "start_time": "2021-06-09T09:55:24.809Z"
   },
   {
    "duration": 730,
    "start_time": "2021-06-09T09:55:25.174Z"
   },
   {
    "duration": 9299,
    "start_time": "2021-06-09T09:55:25.907Z"
   },
   {
    "duration": -17,
    "start_time": "2021-06-09T09:55:35.227Z"
   },
   {
    "duration": -17,
    "start_time": "2021-06-09T09:55:35.229Z"
   },
   {
    "duration": -17,
    "start_time": "2021-06-09T09:55:35.231Z"
   },
   {
    "duration": 376,
    "start_time": "2021-06-09T14:09:54.040Z"
   },
   {
    "duration": 2053,
    "start_time": "2021-06-09T14:10:03.116Z"
   },
   {
    "duration": 71,
    "start_time": "2021-06-09T14:10:05.172Z"
   },
   {
    "duration": 23,
    "start_time": "2021-06-09T14:10:05.246Z"
   },
   {
    "duration": 37,
    "start_time": "2021-06-09T14:10:05.272Z"
   },
   {
    "duration": 14,
    "start_time": "2021-06-09T14:10:05.311Z"
   },
   {
    "duration": 22,
    "start_time": "2021-06-09T14:10:05.327Z"
   },
   {
    "duration": 80,
    "start_time": "2021-06-09T14:10:05.352Z"
   },
   {
    "duration": 23,
    "start_time": "2021-06-09T14:10:05.437Z"
   },
   {
    "duration": 299,
    "start_time": "2021-06-09T14:10:05.462Z"
   },
   {
    "duration": 235,
    "start_time": "2021-06-09T14:10:05.763Z"
   },
   {
    "duration": 368,
    "start_time": "2021-06-09T14:10:06.000Z"
   },
   {
    "duration": 218,
    "start_time": "2021-06-09T14:10:06.371Z"
   },
   {
    "duration": 400,
    "start_time": "2021-06-09T14:10:06.592Z"
   },
   {
    "duration": 788,
    "start_time": "2021-06-09T14:10:06.995Z"
   },
   {
    "duration": 9183,
    "start_time": "2021-06-09T14:10:07.786Z"
   },
   {
    "duration": 1567,
    "start_time": "2021-06-09T14:10:15.404Z"
   },
   {
    "duration": 1567,
    "start_time": "2021-06-09T14:10:15.406Z"
   },
   {
    "duration": 1566,
    "start_time": "2021-06-09T14:10:15.408Z"
   },
   {
    "duration": 20,
    "start_time": "2021-06-09T14:11:46.177Z"
   },
   {
    "duration": 8576,
    "start_time": "2021-06-09T14:12:16.659Z"
   },
   {
    "duration": 1321,
    "start_time": "2021-06-09T14:14:23.208Z"
   },
   {
    "duration": 1321,
    "start_time": "2021-06-09T14:14:35.901Z"
   },
   {
    "duration": 69,
    "start_time": "2021-06-09T14:15:08.854Z"
   },
   {
    "duration": 38,
    "start_time": "2021-06-09T14:15:25.832Z"
   },
   {
    "duration": 1397,
    "start_time": "2021-06-09T14:15:47.455Z"
   },
   {
    "duration": 35,
    "start_time": "2021-06-09T14:16:19.065Z"
   },
   {
    "duration": 33,
    "start_time": "2021-06-09T14:16:40.749Z"
   },
   {
    "duration": 1377,
    "start_time": "2021-06-09T14:16:42.983Z"
   },
   {
    "duration": 15764,
    "start_time": "2021-06-09T14:17:02.737Z"
   },
   {
    "duration": 40,
    "start_time": "2021-06-09T14:17:37.124Z"
   },
   {
    "duration": 127,
    "start_time": "2021-06-09T14:17:56.203Z"
   },
   {
    "duration": 35,
    "start_time": "2021-06-09T14:18:07.578Z"
   },
   {
    "duration": 348,
    "start_time": "2021-06-09T14:18:45.412Z"
   },
   {
    "duration": 38,
    "start_time": "2021-06-09T14:18:51.506Z"
   },
   {
    "duration": 46,
    "start_time": "2021-06-09T14:19:01.615Z"
   },
   {
    "duration": 1917,
    "start_time": "2021-06-09T14:19:20.541Z"
   },
   {
    "duration": 55,
    "start_time": "2021-06-09T14:19:22.461Z"
   },
   {
    "duration": 24,
    "start_time": "2021-06-09T14:19:22.520Z"
   },
   {
    "duration": 14,
    "start_time": "2021-06-09T14:19:22.548Z"
   },
   {
    "duration": 46,
    "start_time": "2021-06-09T14:19:22.564Z"
   },
   {
    "duration": 23,
    "start_time": "2021-06-09T14:19:22.613Z"
   },
   {
    "duration": 46,
    "start_time": "2021-06-09T14:19:22.638Z"
   },
   {
    "duration": 24,
    "start_time": "2021-06-09T14:19:22.708Z"
   },
   {
    "duration": 303,
    "start_time": "2021-06-09T14:19:22.737Z"
   },
   {
    "duration": 238,
    "start_time": "2021-06-09T14:19:23.044Z"
   },
   {
    "duration": 381,
    "start_time": "2021-06-09T14:19:23.285Z"
   },
   {
    "duration": 225,
    "start_time": "2021-06-09T14:19:23.669Z"
   },
   {
    "duration": 384,
    "start_time": "2021-06-09T14:19:23.896Z"
   },
   {
    "duration": 729,
    "start_time": "2021-06-09T14:19:24.282Z"
   },
   {
    "duration": 19,
    "start_time": "2021-06-09T14:19:25.014Z"
   },
   {
    "duration": 155,
    "start_time": "2021-06-09T14:19:25.035Z"
   },
   {
    "duration": 349,
    "start_time": "2021-06-09T14:19:25.192Z"
   },
   {
    "duration": 9,
    "start_time": "2021-06-09T14:19:25.543Z"
   },
   {
    "duration": 470,
    "start_time": "2021-06-09T14:19:25.555Z"
   },
   {
    "duration": 118,
    "start_time": "2021-06-09T14:21:01.160Z"
   },
   {
    "duration": 128,
    "start_time": "2021-06-09T14:21:12.650Z"
   },
   {
    "duration": 1996,
    "start_time": "2021-06-09T14:22:12.478Z"
   },
   {
    "duration": 56,
    "start_time": "2021-06-09T14:22:14.477Z"
   },
   {
    "duration": 29,
    "start_time": "2021-06-09T14:22:14.537Z"
   },
   {
    "duration": 42,
    "start_time": "2021-06-09T14:22:14.569Z"
   },
   {
    "duration": 15,
    "start_time": "2021-06-09T14:22:14.614Z"
   },
   {
    "duration": 32,
    "start_time": "2021-06-09T14:22:14.632Z"
   },
   {
    "duration": 69,
    "start_time": "2021-06-09T14:22:14.666Z"
   },
   {
    "duration": 23,
    "start_time": "2021-06-09T14:22:14.737Z"
   },
   {
    "duration": 307,
    "start_time": "2021-06-09T14:22:14.764Z"
   },
   {
    "duration": 241,
    "start_time": "2021-06-09T14:22:15.074Z"
   },
   {
    "duration": 592,
    "start_time": "2021-06-09T14:22:15.319Z"
   },
   {
    "duration": 222,
    "start_time": "2021-06-09T14:22:15.913Z"
   },
   {
    "duration": 361,
    "start_time": "2021-06-09T14:22:16.137Z"
   },
   {
    "duration": 712,
    "start_time": "2021-06-09T14:22:16.500Z"
   },
   {
    "duration": 21,
    "start_time": "2021-06-09T14:22:17.214Z"
   },
   {
    "duration": 202,
    "start_time": "2021-06-09T14:22:17.238Z"
   },
   {
    "duration": 358,
    "start_time": "2021-06-09T14:22:17.443Z"
   },
   {
    "duration": 11,
    "start_time": "2021-06-09T14:22:17.804Z"
   },
   {
    "duration": 381,
    "start_time": "2021-06-09T14:22:17.819Z"
   }
  ],
  "kernelspec": {
   "display_name": "Python 3",
   "language": "python",
   "name": "python3"
  },
  "language_info": {
   "codemirror_mode": {
    "name": "ipython",
    "version": 3
   },
   "file_extension": ".py",
   "mimetype": "text/x-python",
   "name": "python",
   "nbconvert_exporter": "python",
   "pygments_lexer": "ipython3",
   "version": "3.8.5"
  },
  "toc": {
   "base_numbering": 1,
   "nav_menu": {},
   "number_sections": true,
   "sideBar": true,
   "skip_h1_title": true,
   "title_cell": "Table of Contents",
   "title_sidebar": "Contents",
   "toc_cell": false,
   "toc_position": {},
   "toc_section_display": true,
   "toc_window_display": false
  }
 },
 "nbformat": 4,
 "nbformat_minor": 2
}
