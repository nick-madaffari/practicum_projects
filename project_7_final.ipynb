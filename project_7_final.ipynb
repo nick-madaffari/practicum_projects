{
 "cells": [
  {
   "cell_type": "markdown",
   "metadata": {},
   "source": [
    "# Making business decisions based on data <a name=\"introduction\"></a>\n",
    "\n",
    "I'm an analyst at a big online store. Together with the marketing department, I've compiled a list of hypotheses that may help boost revenue.\n",
    "I need to prioritize these hypotheses, launch an A/B test, and analyze the results.\n",
    "\n",
    "## Description of the data\n",
    "\n",
    "**Data used in the first part of the project**\n",
    "\n",
    "*/datasets/hypotheses_us.csv*\n",
    "- Hypotheses — brief descriptions of the hypotheses\n",
    "- Reach — user reach, on a scale of one to ten\n",
    "- Impact — impact on users, on a scale of one to ten\n",
    "- Confidence — confidence in the hypothesis, on a scale of one to ten\n",
    "- Effort — the resources required to test a hypothesis, on a scale of one to ten. The higher the Effort value, the more resource-intensive the test.\n",
    "\n",
    "**Data used in the second part of the project**\n",
    "\n",
    "*/datasets/orders_us.csv*\n",
    "- transactionId — order identifier\n",
    "- visitorId — identifier of the user who placed the order\n",
    "- date — of the order\n",
    "- revenue — from the order\n",
    "- group — the A/B test group that the user belongs to\n",
    "\n",
    "*/datasets/visits_us.csv*\n",
    "- date — date\n",
    "- group — A/B test group\n",
    "- visits — the number of visits on the date specified in the A/B test group specified\n",
    "\n"
   ]
  },
  {
   "cell_type": "markdown",
   "metadata": {},
   "source": [
    "## Part 1: Prioritizing Hypotheses"
   ]
  },
  {
   "cell_type": "code",
   "execution_count": 1,
   "metadata": {},
   "outputs": [],
   "source": [
    "# import libraries\n",
    "\n",
    "import pandas as pd\n",
    "import numpy as np\n",
    "import matplotlib.pyplot as plt\n",
    "import scipy.stats as stats\n",
    "\n",
    "pd.set_option('max_colwidth', 400)"
   ]
  },
  {
   "cell_type": "code",
   "execution_count": 2,
   "metadata": {},
   "outputs": [],
   "source": [
    "# try-except blocks handle errors that occur from changing file directories\n",
    "\n",
    "try:\n",
    "    hypotheses = pd.read_csv('hypotheses_us.csv', sep=';')\n",
    "except:\n",
    "    hypotheses = pd.read_csv('/datasets/hypotheses_us.csv', sep=';')"
   ]
  },
  {
   "cell_type": "code",
   "execution_count": 3,
   "metadata": {},
   "outputs": [
    {
     "data": {
      "text/html": [
       "<div>\n",
       "<style scoped>\n",
       "    .dataframe tbody tr th:only-of-type {\n",
       "        vertical-align: middle;\n",
       "    }\n",
       "\n",
       "    .dataframe tbody tr th {\n",
       "        vertical-align: top;\n",
       "    }\n",
       "\n",
       "    .dataframe thead th {\n",
       "        text-align: right;\n",
       "    }\n",
       "</style>\n",
       "<table border=\"1\" class=\"dataframe\">\n",
       "  <thead>\n",
       "    <tr style=\"text-align: right;\">\n",
       "      <th></th>\n",
       "      <th>Hypothesis</th>\n",
       "      <th>Reach</th>\n",
       "      <th>Impact</th>\n",
       "      <th>Confidence</th>\n",
       "      <th>Effort</th>\n",
       "    </tr>\n",
       "  </thead>\n",
       "  <tbody>\n",
       "    <tr>\n",
       "      <th>0</th>\n",
       "      <td>Add two new channels for attracting traffic. This will bring 30% more users</td>\n",
       "      <td>3</td>\n",
       "      <td>10</td>\n",
       "      <td>8</td>\n",
       "      <td>6</td>\n",
       "    </tr>\n",
       "    <tr>\n",
       "      <th>1</th>\n",
       "      <td>Launch your own delivery service. This will shorten delivery time</td>\n",
       "      <td>2</td>\n",
       "      <td>5</td>\n",
       "      <td>4</td>\n",
       "      <td>10</td>\n",
       "    </tr>\n",
       "    <tr>\n",
       "      <th>2</th>\n",
       "      <td>Add product recommendation blocks to the store's site. This will increase conversion and average purchase size</td>\n",
       "      <td>8</td>\n",
       "      <td>3</td>\n",
       "      <td>7</td>\n",
       "      <td>3</td>\n",
       "    </tr>\n",
       "    <tr>\n",
       "      <th>3</th>\n",
       "      <td>Change the category structure. This will increase conversion since users will find the products they want more quickly</td>\n",
       "      <td>8</td>\n",
       "      <td>3</td>\n",
       "      <td>3</td>\n",
       "      <td>8</td>\n",
       "    </tr>\n",
       "    <tr>\n",
       "      <th>4</th>\n",
       "      <td>Change the background color on the main page. This will increase user engagement</td>\n",
       "      <td>3</td>\n",
       "      <td>1</td>\n",
       "      <td>1</td>\n",
       "      <td>1</td>\n",
       "    </tr>\n",
       "  </tbody>\n",
       "</table>\n",
       "</div>"
      ],
      "text/plain": [
       "                                                                                                               Hypothesis  \\\n",
       "0                                             Add two new channels for attracting traffic. This will bring 30% more users   \n",
       "1                                                       Launch your own delivery service. This will shorten delivery time   \n",
       "2          Add product recommendation blocks to the store's site. This will increase conversion and average purchase size   \n",
       "3  Change the category structure. This will increase conversion since users will find the products they want more quickly   \n",
       "4                                        Change the background color on the main page. This will increase user engagement   \n",
       "\n",
       "   Reach  Impact  Confidence  Effort  \n",
       "0      3      10           8       6  \n",
       "1      2       5           4      10  \n",
       "2      8       3           7       3  \n",
       "3      8       3           3       8  \n",
       "4      3       1           1       1  "
      ]
     },
     "execution_count": 3,
     "metadata": {},
     "output_type": "execute_result"
    }
   ],
   "source": [
    "# print head for 'hypotheses_us' DataFrame\n",
    "\n",
    "hypotheses.head()"
   ]
  },
  {
   "cell_type": "markdown",
   "metadata": {},
   "source": [
    "Immediately we can see there is a problem with the column names. They should be all lowercase characters. We can quickly fix it with a list comprehension for the *columns* attribute of our DataFrame."
   ]
  },
  {
   "cell_type": "code",
   "execution_count": 4,
   "metadata": {},
   "outputs": [
    {
     "data": {
      "text/plain": [
       "Index(['hypothesis', 'reach', 'impact', 'confidence', 'effort'], dtype='object')"
      ]
     },
     "execution_count": 4,
     "metadata": {},
     "output_type": "execute_result"
    }
   ],
   "source": [
    "# make all column names lowercase\n",
    "\n",
    "hypotheses.columns = [col.lower() for col in hypotheses.columns]\n",
    "hypotheses.columns"
   ]
  },
  {
   "cell_type": "markdown",
   "metadata": {},
   "source": [
    "### Hypothesis prioritization using ICE\n",
    "ICE stands for Impact, Confidence, and Effort. It's a formula that allows us to prioritize hypotheses based on these values. Higher ICE scores mean a higher priority. Here is the formula for ICE:\n",
    "\n",
    ">\\begin{align}\n",
    "ICE & = \\frac{Impact \\times Confidence}{Effort} \\\\\n",
    "\\end{align}"
   ]
  },
  {
   "cell_type": "code",
   "execution_count": 5,
   "metadata": {},
   "outputs": [
    {
     "data": {
      "text/html": [
       "<div>\n",
       "<style scoped>\n",
       "    .dataframe tbody tr th:only-of-type {\n",
       "        vertical-align: middle;\n",
       "    }\n",
       "\n",
       "    .dataframe tbody tr th {\n",
       "        vertical-align: top;\n",
       "    }\n",
       "\n",
       "    .dataframe thead th {\n",
       "        text-align: right;\n",
       "    }\n",
       "</style>\n",
       "<table border=\"1\" class=\"dataframe\">\n",
       "  <thead>\n",
       "    <tr style=\"text-align: right;\">\n",
       "      <th></th>\n",
       "      <th>hypothesis</th>\n",
       "      <th>reach</th>\n",
       "      <th>impact</th>\n",
       "      <th>confidence</th>\n",
       "      <th>effort</th>\n",
       "      <th>ice</th>\n",
       "    </tr>\n",
       "  </thead>\n",
       "  <tbody>\n",
       "    <tr>\n",
       "      <th>8</th>\n",
       "      <td>Launch a promotion that gives users discounts on their birthdays</td>\n",
       "      <td>1</td>\n",
       "      <td>9</td>\n",
       "      <td>9</td>\n",
       "      <td>5</td>\n",
       "      <td>16.200000</td>\n",
       "    </tr>\n",
       "    <tr>\n",
       "      <th>0</th>\n",
       "      <td>Add two new channels for attracting traffic. This will bring 30% more users</td>\n",
       "      <td>3</td>\n",
       "      <td>10</td>\n",
       "      <td>8</td>\n",
       "      <td>6</td>\n",
       "      <td>13.333333</td>\n",
       "    </tr>\n",
       "    <tr>\n",
       "      <th>7</th>\n",
       "      <td>Add a subscription form to all the main pages. This will help you compile a mailing list</td>\n",
       "      <td>10</td>\n",
       "      <td>7</td>\n",
       "      <td>8</td>\n",
       "      <td>5</td>\n",
       "      <td>11.200000</td>\n",
       "    </tr>\n",
       "    <tr>\n",
       "      <th>6</th>\n",
       "      <td>Show banners with current offers and sales on the main page. This will boost conversion</td>\n",
       "      <td>5</td>\n",
       "      <td>3</td>\n",
       "      <td>8</td>\n",
       "      <td>3</td>\n",
       "      <td>8.000000</td>\n",
       "    </tr>\n",
       "    <tr>\n",
       "      <th>2</th>\n",
       "      <td>Add product recommendation blocks to the store's site. This will increase conversion and average purchase size</td>\n",
       "      <td>8</td>\n",
       "      <td>3</td>\n",
       "      <td>7</td>\n",
       "      <td>3</td>\n",
       "      <td>7.000000</td>\n",
       "    </tr>\n",
       "    <tr>\n",
       "      <th>1</th>\n",
       "      <td>Launch your own delivery service. This will shorten delivery time</td>\n",
       "      <td>2</td>\n",
       "      <td>5</td>\n",
       "      <td>4</td>\n",
       "      <td>10</td>\n",
       "      <td>2.000000</td>\n",
       "    </tr>\n",
       "    <tr>\n",
       "      <th>5</th>\n",
       "      <td>Add a customer review page. This will increase the number of orders</td>\n",
       "      <td>3</td>\n",
       "      <td>2</td>\n",
       "      <td>2</td>\n",
       "      <td>3</td>\n",
       "      <td>1.333333</td>\n",
       "    </tr>\n",
       "    <tr>\n",
       "      <th>3</th>\n",
       "      <td>Change the category structure. This will increase conversion since users will find the products they want more quickly</td>\n",
       "      <td>8</td>\n",
       "      <td>3</td>\n",
       "      <td>3</td>\n",
       "      <td>8</td>\n",
       "      <td>1.125000</td>\n",
       "    </tr>\n",
       "    <tr>\n",
       "      <th>4</th>\n",
       "      <td>Change the background color on the main page. This will increase user engagement</td>\n",
       "      <td>3</td>\n",
       "      <td>1</td>\n",
       "      <td>1</td>\n",
       "      <td>1</td>\n",
       "      <td>1.000000</td>\n",
       "    </tr>\n",
       "  </tbody>\n",
       "</table>\n",
       "</div>"
      ],
      "text/plain": [
       "                                                                                                               hypothesis  \\\n",
       "8                                                        Launch a promotion that gives users discounts on their birthdays   \n",
       "0                                             Add two new channels for attracting traffic. This will bring 30% more users   \n",
       "7                                Add a subscription form to all the main pages. This will help you compile a mailing list   \n",
       "6                                 Show banners with current offers and sales on the main page. This will boost conversion   \n",
       "2          Add product recommendation blocks to the store's site. This will increase conversion and average purchase size   \n",
       "1                                                       Launch your own delivery service. This will shorten delivery time   \n",
       "5                                                     Add a customer review page. This will increase the number of orders   \n",
       "3  Change the category structure. This will increase conversion since users will find the products they want more quickly   \n",
       "4                                        Change the background color on the main page. This will increase user engagement   \n",
       "\n",
       "   reach  impact  confidence  effort        ice  \n",
       "8      1       9           9       5  16.200000  \n",
       "0      3      10           8       6  13.333333  \n",
       "7     10       7           8       5  11.200000  \n",
       "6      5       3           8       3   8.000000  \n",
       "2      8       3           7       3   7.000000  \n",
       "1      2       5           4      10   2.000000  \n",
       "5      3       2           2       3   1.333333  \n",
       "3      8       3           3       8   1.125000  \n",
       "4      3       1           1       1   1.000000  "
      ]
     },
     "execution_count": 5,
     "metadata": {},
     "output_type": "execute_result"
    }
   ],
   "source": [
    "# calculate ICE for each hypothesis & sort in descending order\n",
    "\n",
    "hypotheses['ice'] = (hypotheses['impact'] * hypotheses['confidence']) / hypotheses['effort']\n",
    "hypotheses.sort_values(by='ice', ascending=False)"
   ]
  },
  {
   "cell_type": "markdown",
   "metadata": {},
   "source": [
    "### Hypothesis prioritization using the RICE\n",
    "\n",
    "RICE stands for Reach, Impact, Confidence, and Effort. It's a modified version of ICE, and also uses a formula that allows us to prioritize hypotheses. Higher RICE scores also mean a higher priority. Here is the formula for RICE:\n",
    "\n",
    ">\\begin{align}\n",
    "RICE & = \\frac{Reach \\times Impact \\times Confidence}{Effort} \\\\\n",
    "\\end{align}"
   ]
  },
  {
   "cell_type": "code",
   "execution_count": 6,
   "metadata": {},
   "outputs": [
    {
     "data": {
      "text/html": [
       "<div>\n",
       "<style scoped>\n",
       "    .dataframe tbody tr th:only-of-type {\n",
       "        vertical-align: middle;\n",
       "    }\n",
       "\n",
       "    .dataframe tbody tr th {\n",
       "        vertical-align: top;\n",
       "    }\n",
       "\n",
       "    .dataframe thead th {\n",
       "        text-align: right;\n",
       "    }\n",
       "</style>\n",
       "<table border=\"1\" class=\"dataframe\">\n",
       "  <thead>\n",
       "    <tr style=\"text-align: right;\">\n",
       "      <th></th>\n",
       "      <th>hypothesis</th>\n",
       "      <th>reach</th>\n",
       "      <th>impact</th>\n",
       "      <th>confidence</th>\n",
       "      <th>effort</th>\n",
       "      <th>ice</th>\n",
       "      <th>rice</th>\n",
       "    </tr>\n",
       "  </thead>\n",
       "  <tbody>\n",
       "    <tr>\n",
       "      <th>7</th>\n",
       "      <td>Add a subscription form to all the main pages. This will help you compile a mailing list</td>\n",
       "      <td>10</td>\n",
       "      <td>7</td>\n",
       "      <td>8</td>\n",
       "      <td>5</td>\n",
       "      <td>11.200000</td>\n",
       "      <td>112.0</td>\n",
       "    </tr>\n",
       "    <tr>\n",
       "      <th>2</th>\n",
       "      <td>Add product recommendation blocks to the store's site. This will increase conversion and average purchase size</td>\n",
       "      <td>8</td>\n",
       "      <td>3</td>\n",
       "      <td>7</td>\n",
       "      <td>3</td>\n",
       "      <td>7.000000</td>\n",
       "      <td>56.0</td>\n",
       "    </tr>\n",
       "    <tr>\n",
       "      <th>0</th>\n",
       "      <td>Add two new channels for attracting traffic. This will bring 30% more users</td>\n",
       "      <td>3</td>\n",
       "      <td>10</td>\n",
       "      <td>8</td>\n",
       "      <td>6</td>\n",
       "      <td>13.333333</td>\n",
       "      <td>40.0</td>\n",
       "    </tr>\n",
       "    <tr>\n",
       "      <th>6</th>\n",
       "      <td>Show banners with current offers and sales on the main page. This will boost conversion</td>\n",
       "      <td>5</td>\n",
       "      <td>3</td>\n",
       "      <td>8</td>\n",
       "      <td>3</td>\n",
       "      <td>8.000000</td>\n",
       "      <td>40.0</td>\n",
       "    </tr>\n",
       "    <tr>\n",
       "      <th>8</th>\n",
       "      <td>Launch a promotion that gives users discounts on their birthdays</td>\n",
       "      <td>1</td>\n",
       "      <td>9</td>\n",
       "      <td>9</td>\n",
       "      <td>5</td>\n",
       "      <td>16.200000</td>\n",
       "      <td>16.2</td>\n",
       "    </tr>\n",
       "    <tr>\n",
       "      <th>3</th>\n",
       "      <td>Change the category structure. This will increase conversion since users will find the products they want more quickly</td>\n",
       "      <td>8</td>\n",
       "      <td>3</td>\n",
       "      <td>3</td>\n",
       "      <td>8</td>\n",
       "      <td>1.125000</td>\n",
       "      <td>9.0</td>\n",
       "    </tr>\n",
       "    <tr>\n",
       "      <th>1</th>\n",
       "      <td>Launch your own delivery service. This will shorten delivery time</td>\n",
       "      <td>2</td>\n",
       "      <td>5</td>\n",
       "      <td>4</td>\n",
       "      <td>10</td>\n",
       "      <td>2.000000</td>\n",
       "      <td>4.0</td>\n",
       "    </tr>\n",
       "    <tr>\n",
       "      <th>5</th>\n",
       "      <td>Add a customer review page. This will increase the number of orders</td>\n",
       "      <td>3</td>\n",
       "      <td>2</td>\n",
       "      <td>2</td>\n",
       "      <td>3</td>\n",
       "      <td>1.333333</td>\n",
       "      <td>4.0</td>\n",
       "    </tr>\n",
       "    <tr>\n",
       "      <th>4</th>\n",
       "      <td>Change the background color on the main page. This will increase user engagement</td>\n",
       "      <td>3</td>\n",
       "      <td>1</td>\n",
       "      <td>1</td>\n",
       "      <td>1</td>\n",
       "      <td>1.000000</td>\n",
       "      <td>3.0</td>\n",
       "    </tr>\n",
       "  </tbody>\n",
       "</table>\n",
       "</div>"
      ],
      "text/plain": [
       "                                                                                                               hypothesis  \\\n",
       "7                                Add a subscription form to all the main pages. This will help you compile a mailing list   \n",
       "2          Add product recommendation blocks to the store's site. This will increase conversion and average purchase size   \n",
       "0                                             Add two new channels for attracting traffic. This will bring 30% more users   \n",
       "6                                 Show banners with current offers and sales on the main page. This will boost conversion   \n",
       "8                                                        Launch a promotion that gives users discounts on their birthdays   \n",
       "3  Change the category structure. This will increase conversion since users will find the products they want more quickly   \n",
       "1                                                       Launch your own delivery service. This will shorten delivery time   \n",
       "5                                                     Add a customer review page. This will increase the number of orders   \n",
       "4                                        Change the background color on the main page. This will increase user engagement   \n",
       "\n",
       "   reach  impact  confidence  effort        ice   rice  \n",
       "7     10       7           8       5  11.200000  112.0  \n",
       "2      8       3           7       3   7.000000   56.0  \n",
       "0      3      10           8       6  13.333333   40.0  \n",
       "6      5       3           8       3   8.000000   40.0  \n",
       "8      1       9           9       5  16.200000   16.2  \n",
       "3      8       3           3       8   1.125000    9.0  \n",
       "1      2       5           4      10   2.000000    4.0  \n",
       "5      3       2           2       3   1.333333    4.0  \n",
       "4      3       1           1       1   1.000000    3.0  "
      ]
     },
     "execution_count": 6,
     "metadata": {},
     "output_type": "execute_result"
    }
   ],
   "source": [
    "# calculate RICE for each hypothesis & sort in descending order\n",
    "\n",
    "hypotheses['rice'] = (hypotheses['reach'] * hypotheses['impact'] * hypotheses['confidence']) / hypotheses['effort']\n",
    "hypotheses.sort_values(by='rice', ascending=False)"
   ]
  },
  {
   "cell_type": "markdown",
   "metadata": {},
   "source": [
    "#### Conclusion"
   ]
  },
  {
   "cell_type": "markdown",
   "metadata": {},
   "source": [
    "The Reach rating of each hypothesis made a difference in the rankings. With ICE, hypothesis 8 is our top priority. With RICE, it's hypothesis 7. The Reach of hypothesis 8 is only 1, which is why it dropped significantly down the list when we used RICE. Hypothesis 7 has a reach of 10 (everyone will be effected) and this is why it has such a high RICE score. Hypotheses with a higher reach will have a higher priority. Hypothesis 7 will be to be our number one priority here since it has a RICE score that is more than twice the runner-up on our list."
   ]
  },
  {
   "cell_type": "markdown",
   "metadata": {},
   "source": [
    "## Part 2: A/B Test Analysis"
   ]
  },
  {
   "cell_type": "markdown",
   "metadata": {},
   "source": [
    "### Step 1: Import data"
   ]
  },
  {
   "cell_type": "code",
   "execution_count": 7,
   "metadata": {},
   "outputs": [],
   "source": [
    "# try-except blocks handle errors that occur from changing file directories\n",
    "\n",
    "try:\n",
    "    orders = pd.read_csv('orders_us.csv')\n",
    "except:\n",
    "    orders = pd.read_csv('/datasets/orders_us.csv')\n",
    "    \n",
    "try:\n",
    "    visits = pd.read_csv('visits_us.csv')\n",
    "except:\n",
    "    visits = pd.read_csv('/datasets/visits_us.csv')"
   ]
  },
  {
   "cell_type": "markdown",
   "metadata": {},
   "source": [
    "### Step 2: Data preprocessing"
   ]
  },
  {
   "cell_type": "markdown",
   "metadata": {},
   "source": [
    "#### General information on data"
   ]
  },
  {
   "cell_type": "code",
   "execution_count": 8,
   "metadata": {},
   "outputs": [
    {
     "data": {
      "text/html": [
       "<div>\n",
       "<style scoped>\n",
       "    .dataframe tbody tr th:only-of-type {\n",
       "        vertical-align: middle;\n",
       "    }\n",
       "\n",
       "    .dataframe tbody tr th {\n",
       "        vertical-align: top;\n",
       "    }\n",
       "\n",
       "    .dataframe thead th {\n",
       "        text-align: right;\n",
       "    }\n",
       "</style>\n",
       "<table border=\"1\" class=\"dataframe\">\n",
       "  <thead>\n",
       "    <tr style=\"text-align: right;\">\n",
       "      <th></th>\n",
       "      <th>transactionId</th>\n",
       "      <th>visitorId</th>\n",
       "      <th>date</th>\n",
       "      <th>revenue</th>\n",
       "      <th>group</th>\n",
       "    </tr>\n",
       "  </thead>\n",
       "  <tbody>\n",
       "    <tr>\n",
       "      <th>0</th>\n",
       "      <td>3667963787</td>\n",
       "      <td>3312258926</td>\n",
       "      <td>2019-08-15</td>\n",
       "      <td>30.4</td>\n",
       "      <td>B</td>\n",
       "    </tr>\n",
       "    <tr>\n",
       "      <th>1</th>\n",
       "      <td>2804400009</td>\n",
       "      <td>3642806036</td>\n",
       "      <td>2019-08-15</td>\n",
       "      <td>15.2</td>\n",
       "      <td>B</td>\n",
       "    </tr>\n",
       "    <tr>\n",
       "      <th>2</th>\n",
       "      <td>2961555356</td>\n",
       "      <td>4069496402</td>\n",
       "      <td>2019-08-15</td>\n",
       "      <td>10.2</td>\n",
       "      <td>A</td>\n",
       "    </tr>\n",
       "    <tr>\n",
       "      <th>3</th>\n",
       "      <td>3797467345</td>\n",
       "      <td>1196621759</td>\n",
       "      <td>2019-08-15</td>\n",
       "      <td>155.1</td>\n",
       "      <td>B</td>\n",
       "    </tr>\n",
       "    <tr>\n",
       "      <th>4</th>\n",
       "      <td>2282983706</td>\n",
       "      <td>2322279887</td>\n",
       "      <td>2019-08-15</td>\n",
       "      <td>40.5</td>\n",
       "      <td>B</td>\n",
       "    </tr>\n",
       "  </tbody>\n",
       "</table>\n",
       "</div>"
      ],
      "text/plain": [
       "   transactionId   visitorId        date  revenue group\n",
       "0     3667963787  3312258926  2019-08-15     30.4     B\n",
       "1     2804400009  3642806036  2019-08-15     15.2     B\n",
       "2     2961555356  4069496402  2019-08-15     10.2     A\n",
       "3     3797467345  1196621759  2019-08-15    155.1     B\n",
       "4     2282983706  2322279887  2019-08-15     40.5     B"
      ]
     },
     "metadata": {},
     "output_type": "display_data"
    },
    {
     "data": {
      "text/html": [
       "<div>\n",
       "<style scoped>\n",
       "    .dataframe tbody tr th:only-of-type {\n",
       "        vertical-align: middle;\n",
       "    }\n",
       "\n",
       "    .dataframe tbody tr th {\n",
       "        vertical-align: top;\n",
       "    }\n",
       "\n",
       "    .dataframe thead th {\n",
       "        text-align: right;\n",
       "    }\n",
       "</style>\n",
       "<table border=\"1\" class=\"dataframe\">\n",
       "  <thead>\n",
       "    <tr style=\"text-align: right;\">\n",
       "      <th></th>\n",
       "      <th>date</th>\n",
       "      <th>group</th>\n",
       "      <th>visits</th>\n",
       "    </tr>\n",
       "  </thead>\n",
       "  <tbody>\n",
       "    <tr>\n",
       "      <th>0</th>\n",
       "      <td>2019-08-01</td>\n",
       "      <td>A</td>\n",
       "      <td>719</td>\n",
       "    </tr>\n",
       "    <tr>\n",
       "      <th>1</th>\n",
       "      <td>2019-08-02</td>\n",
       "      <td>A</td>\n",
       "      <td>619</td>\n",
       "    </tr>\n",
       "    <tr>\n",
       "      <th>2</th>\n",
       "      <td>2019-08-03</td>\n",
       "      <td>A</td>\n",
       "      <td>507</td>\n",
       "    </tr>\n",
       "    <tr>\n",
       "      <th>3</th>\n",
       "      <td>2019-08-04</td>\n",
       "      <td>A</td>\n",
       "      <td>717</td>\n",
       "    </tr>\n",
       "    <tr>\n",
       "      <th>4</th>\n",
       "      <td>2019-08-05</td>\n",
       "      <td>A</td>\n",
       "      <td>756</td>\n",
       "    </tr>\n",
       "  </tbody>\n",
       "</table>\n",
       "</div>"
      ],
      "text/plain": [
       "         date group  visits\n",
       "0  2019-08-01     A     719\n",
       "1  2019-08-02     A     619\n",
       "2  2019-08-03     A     507\n",
       "3  2019-08-04     A     717\n",
       "4  2019-08-05     A     756"
      ]
     },
     "metadata": {},
     "output_type": "display_data"
    }
   ],
   "source": [
    "# first 5 rows of 'orders' & 'visits'\n",
    "\n",
    "display(orders.head())\n",
    "display(visits.head())"
   ]
  },
  {
   "cell_type": "code",
   "execution_count": 9,
   "metadata": {},
   "outputs": [
    {
     "name": "stdout",
     "output_type": "stream",
     "text": [
      "<class 'pandas.core.frame.DataFrame'>\n",
      "RangeIndex: 1197 entries, 0 to 1196\n",
      "Data columns (total 5 columns):\n",
      " #   Column         Non-Null Count  Dtype  \n",
      "---  ------         --------------  -----  \n",
      " 0   transactionId  1197 non-null   int64  \n",
      " 1   visitorId      1197 non-null   int64  \n",
      " 2   date           1197 non-null   object \n",
      " 3   revenue        1197 non-null   float64\n",
      " 4   group          1197 non-null   object \n",
      "dtypes: float64(1), int64(2), object(2)\n",
      "memory usage: 46.9+ KB\n"
     ]
    },
    {
     "data": {
      "text/plain": [
       "None"
      ]
     },
     "metadata": {},
     "output_type": "display_data"
    },
    {
     "name": "stdout",
     "output_type": "stream",
     "text": [
      "<class 'pandas.core.frame.DataFrame'>\n",
      "RangeIndex: 62 entries, 0 to 61\n",
      "Data columns (total 3 columns):\n",
      " #   Column  Non-Null Count  Dtype \n",
      "---  ------  --------------  ----- \n",
      " 0   date    62 non-null     object\n",
      " 1   group   62 non-null     object\n",
      " 2   visits  62 non-null     int64 \n",
      "dtypes: int64(1), object(2)\n",
      "memory usage: 1.6+ KB\n"
     ]
    },
    {
     "data": {
      "text/plain": [
       "None"
      ]
     },
     "metadata": {},
     "output_type": "display_data"
    }
   ],
   "source": [
    "# read general info for 'orders' & 'visits'\n",
    "\n",
    "display(orders.info())\n",
    "display(visits.info())"
   ]
  },
  {
   "cell_type": "code",
   "execution_count": 10,
   "metadata": {},
   "outputs": [
    {
     "data": {
      "text/html": [
       "<div>\n",
       "<style scoped>\n",
       "    .dataframe tbody tr th:only-of-type {\n",
       "        vertical-align: middle;\n",
       "    }\n",
       "\n",
       "    .dataframe tbody tr th {\n",
       "        vertical-align: top;\n",
       "    }\n",
       "\n",
       "    .dataframe thead th {\n",
       "        text-align: right;\n",
       "    }\n",
       "</style>\n",
       "<table border=\"1\" class=\"dataframe\">\n",
       "  <thead>\n",
       "    <tr style=\"text-align: right;\">\n",
       "      <th></th>\n",
       "      <th>transactionId</th>\n",
       "      <th>visitorId</th>\n",
       "      <th>revenue</th>\n",
       "    </tr>\n",
       "  </thead>\n",
       "  <tbody>\n",
       "    <tr>\n",
       "      <th>count</th>\n",
       "      <td>1.197000e+03</td>\n",
       "      <td>1.197000e+03</td>\n",
       "      <td>1197.000000</td>\n",
       "    </tr>\n",
       "    <tr>\n",
       "      <th>mean</th>\n",
       "      <td>2.155621e+09</td>\n",
       "      <td>2.165960e+09</td>\n",
       "      <td>131.491646</td>\n",
       "    </tr>\n",
       "    <tr>\n",
       "      <th>std</th>\n",
       "      <td>1.229085e+09</td>\n",
       "      <td>1.236014e+09</td>\n",
       "      <td>603.004729</td>\n",
       "    </tr>\n",
       "    <tr>\n",
       "      <th>min</th>\n",
       "      <td>1.062393e+06</td>\n",
       "      <td>5.114589e+06</td>\n",
       "      <td>5.000000</td>\n",
       "    </tr>\n",
       "    <tr>\n",
       "      <th>25%</th>\n",
       "      <td>1.166776e+09</td>\n",
       "      <td>1.111826e+09</td>\n",
       "      <td>20.800000</td>\n",
       "    </tr>\n",
       "    <tr>\n",
       "      <th>50%</th>\n",
       "      <td>2.145194e+09</td>\n",
       "      <td>2.217985e+09</td>\n",
       "      <td>50.200000</td>\n",
       "    </tr>\n",
       "    <tr>\n",
       "      <th>75%</th>\n",
       "      <td>3.237740e+09</td>\n",
       "      <td>3.177606e+09</td>\n",
       "      <td>130.400000</td>\n",
       "    </tr>\n",
       "    <tr>\n",
       "      <th>max</th>\n",
       "      <td>4.293856e+09</td>\n",
       "      <td>4.283872e+09</td>\n",
       "      <td>19920.400000</td>\n",
       "    </tr>\n",
       "  </tbody>\n",
       "</table>\n",
       "</div>"
      ],
      "text/plain": [
       "       transactionId     visitorId       revenue\n",
       "count   1.197000e+03  1.197000e+03   1197.000000\n",
       "mean    2.155621e+09  2.165960e+09    131.491646\n",
       "std     1.229085e+09  1.236014e+09    603.004729\n",
       "min     1.062393e+06  5.114589e+06      5.000000\n",
       "25%     1.166776e+09  1.111826e+09     20.800000\n",
       "50%     2.145194e+09  2.217985e+09     50.200000\n",
       "75%     3.237740e+09  3.177606e+09    130.400000\n",
       "max     4.293856e+09  4.283872e+09  19920.400000"
      ]
     },
     "metadata": {},
     "output_type": "display_data"
    },
    {
     "data": {
      "text/html": [
       "<div>\n",
       "<style scoped>\n",
       "    .dataframe tbody tr th:only-of-type {\n",
       "        vertical-align: middle;\n",
       "    }\n",
       "\n",
       "    .dataframe tbody tr th {\n",
       "        vertical-align: top;\n",
       "    }\n",
       "\n",
       "    .dataframe thead th {\n",
       "        text-align: right;\n",
       "    }\n",
       "</style>\n",
       "<table border=\"1\" class=\"dataframe\">\n",
       "  <thead>\n",
       "    <tr style=\"text-align: right;\">\n",
       "      <th></th>\n",
       "      <th>visits</th>\n",
       "    </tr>\n",
       "  </thead>\n",
       "  <tbody>\n",
       "    <tr>\n",
       "      <th>count</th>\n",
       "      <td>62.000000</td>\n",
       "    </tr>\n",
       "    <tr>\n",
       "      <th>mean</th>\n",
       "      <td>607.290323</td>\n",
       "    </tr>\n",
       "    <tr>\n",
       "      <th>std</th>\n",
       "      <td>114.400560</td>\n",
       "    </tr>\n",
       "    <tr>\n",
       "      <th>min</th>\n",
       "      <td>361.000000</td>\n",
       "    </tr>\n",
       "    <tr>\n",
       "      <th>25%</th>\n",
       "      <td>534.000000</td>\n",
       "    </tr>\n",
       "    <tr>\n",
       "      <th>50%</th>\n",
       "      <td>624.500000</td>\n",
       "    </tr>\n",
       "    <tr>\n",
       "      <th>75%</th>\n",
       "      <td>710.500000</td>\n",
       "    </tr>\n",
       "    <tr>\n",
       "      <th>max</th>\n",
       "      <td>770.000000</td>\n",
       "    </tr>\n",
       "  </tbody>\n",
       "</table>\n",
       "</div>"
      ],
      "text/plain": [
       "           visits\n",
       "count   62.000000\n",
       "mean   607.290323\n",
       "std    114.400560\n",
       "min    361.000000\n",
       "25%    534.000000\n",
       "50%    624.500000\n",
       "75%    710.500000\n",
       "max    770.000000"
      ]
     },
     "metadata": {},
     "output_type": "display_data"
    }
   ],
   "source": [
    "# descriptive statistics for 'orders'\n",
    "\n",
    "display(orders.describe())\n",
    "display(visits.describe())"
   ]
  },
  {
   "cell_type": "code",
   "execution_count": 11,
   "metadata": {
    "scrolled": true
   },
   "outputs": [
    {
     "name": "stdout",
     "output_type": "stream",
     "text": [
      "Number of duplicates in 'orders': 0\n",
      "Number of duplicates in 'visits': 0\n"
     ]
    }
   ],
   "source": [
    "# check for 'orders' & 'visits' for duplicates\n",
    "\n",
    "print(\"Number of duplicates in 'orders':\", orders.duplicated().sum())\n",
    "print(\"Number of duplicates in 'visits':\", visits.duplicated().sum())"
   ]
  },
  {
   "cell_type": "code",
   "execution_count": 12,
   "metadata": {},
   "outputs": [
    {
     "data": {
      "text/html": [
       "<div>\n",
       "<style scoped>\n",
       "    .dataframe tbody tr th:only-of-type {\n",
       "        vertical-align: middle;\n",
       "    }\n",
       "\n",
       "    .dataframe tbody tr th {\n",
       "        vertical-align: top;\n",
       "    }\n",
       "\n",
       "    .dataframe thead th {\n",
       "        text-align: right;\n",
       "    }\n",
       "</style>\n",
       "<table border=\"1\" class=\"dataframe\">\n",
       "  <thead>\n",
       "    <tr style=\"text-align: right;\">\n",
       "      <th></th>\n",
       "      <th>visitorId</th>\n",
       "      <th>group</th>\n",
       "    </tr>\n",
       "  </thead>\n",
       "  <tbody>\n",
       "    <tr>\n",
       "      <th>0</th>\n",
       "      <td>5114589</td>\n",
       "      <td>[B]</td>\n",
       "    </tr>\n",
       "    <tr>\n",
       "      <th>1</th>\n",
       "      <td>6958315</td>\n",
       "      <td>[B]</td>\n",
       "    </tr>\n",
       "    <tr>\n",
       "      <th>2</th>\n",
       "      <td>8300375</td>\n",
       "      <td>[B, A]</td>\n",
       "    </tr>\n",
       "    <tr>\n",
       "      <th>3</th>\n",
       "      <td>11685486</td>\n",
       "      <td>[A]</td>\n",
       "    </tr>\n",
       "    <tr>\n",
       "      <th>4</th>\n",
       "      <td>39475350</td>\n",
       "      <td>[B]</td>\n",
       "    </tr>\n",
       "  </tbody>\n",
       "</table>\n",
       "</div>"
      ],
      "text/plain": [
       "   visitorId   group\n",
       "0    5114589     [B]\n",
       "1    6958315     [B]\n",
       "2    8300375  [B, A]\n",
       "3   11685486     [A]\n",
       "4   39475350     [B]"
      ]
     },
     "execution_count": 12,
     "metadata": {},
     "output_type": "execute_result"
    }
   ],
   "source": [
    "# check if all visitors are in 1 group only\n",
    "\n",
    "orders.groupby('visitorId')['group'].unique().reset_index().head()"
   ]
  },
  {
   "cell_type": "markdown",
   "metadata": {},
   "source": [
    "##### Conclusion\n",
    "\n",
    "After our intial overview, we have a few action items and changes that we need to be make before we proceed with our analysis.\n",
    "- Change the names of the **'transactionId'** and **'visitorId'** columns in the **'orders'** DataFrame to something more readable\n",
    "- Change the dtypes for the **'date'** columns in the **'orders'** and **'visits'** DataFrame to *datetime*\n",
    "- Some visitors are in both groups in the 'orders' DataFrame. We need to remove them.\n",
    "- No missing values or duplicates (no action needed)"
   ]
  },
  {
   "cell_type": "markdown",
   "metadata": {},
   "source": [
    "#### Changing column names"
   ]
  },
  {
   "cell_type": "code",
   "execution_count": 13,
   "metadata": {},
   "outputs": [],
   "source": [
    "# change names of transacionID & visitorID columns in 'orders'\n",
    "\n",
    "orders.columns = ['transaction_id', 'visitor_id', 'date', 'revenue', 'group']"
   ]
  },
  {
   "cell_type": "markdown",
   "metadata": {},
   "source": [
    "#### Changing data types"
   ]
  },
  {
   "cell_type": "code",
   "execution_count": 14,
   "metadata": {},
   "outputs": [],
   "source": [
    "# change data types for 'date' in 'orders' & 'visits'\n",
    "\n",
    "orders['date'] = orders['date'].astype('datetime64[D]')\n",
    "visits['date'] = visits['date'].astype('datetime64[D]')"
   ]
  },
  {
   "cell_type": "code",
   "execution_count": 15,
   "metadata": {},
   "outputs": [
    {
     "name": "stdout",
     "output_type": "stream",
     "text": [
      "<class 'pandas.core.frame.DataFrame'>\n",
      "RangeIndex: 1197 entries, 0 to 1196\n",
      "Data columns (total 5 columns):\n",
      " #   Column          Non-Null Count  Dtype         \n",
      "---  ------          --------------  -----         \n",
      " 0   transaction_id  1197 non-null   int64         \n",
      " 1   visitor_id      1197 non-null   int64         \n",
      " 2   date            1197 non-null   datetime64[ns]\n",
      " 3   revenue         1197 non-null   float64       \n",
      " 4   group           1197 non-null   object        \n",
      "dtypes: datetime64[ns](1), float64(1), int64(2), object(1)\n",
      "memory usage: 46.9+ KB\n"
     ]
    },
    {
     "data": {
      "text/plain": [
       "None"
      ]
     },
     "metadata": {},
     "output_type": "display_data"
    },
    {
     "name": "stdout",
     "output_type": "stream",
     "text": [
      "<class 'pandas.core.frame.DataFrame'>\n",
      "RangeIndex: 62 entries, 0 to 61\n",
      "Data columns (total 3 columns):\n",
      " #   Column  Non-Null Count  Dtype         \n",
      "---  ------  --------------  -----         \n",
      " 0   date    62 non-null     datetime64[ns]\n",
      " 1   group   62 non-null     object        \n",
      " 2   visits  62 non-null     int64         \n",
      "dtypes: datetime64[ns](1), int64(1), object(1)\n",
      "memory usage: 1.6+ KB\n"
     ]
    },
    {
     "data": {
      "text/plain": [
       "None"
      ]
     },
     "metadata": {},
     "output_type": "display_data"
    }
   ],
   "source": [
    "# check that dtypes are correct\n",
    "\n",
    "display(orders.info())\n",
    "display(visits.info())"
   ]
  },
  {
   "cell_type": "markdown",
   "metadata": {},
   "source": [
    "#### Removing visitors in both groups"
   ]
  },
  {
   "cell_type": "code",
   "execution_count": 16,
   "metadata": {
    "scrolled": false
   },
   "outputs": [],
   "source": [
    "# find visitors in both groups\n",
    "\n",
    "visitors_by_group = orders.groupby('visitor_id')['group'].unique().reset_index()\n",
    "two_groups = visitors_by_group[visitors_by_group['group'].map(len) == 2].reset_index(drop=True)"
   ]
  },
  {
   "cell_type": "code",
   "execution_count": 17,
   "metadata": {},
   "outputs": [
    {
     "name": "stdout",
     "output_type": "stream",
     "text": [
      "<class 'pandas.core.frame.DataFrame'>\n",
      "RangeIndex: 1016 entries, 0 to 1015\n",
      "Data columns (total 5 columns):\n",
      " #   Column          Non-Null Count  Dtype         \n",
      "---  ------          --------------  -----         \n",
      " 0   transaction_id  1016 non-null   int64         \n",
      " 1   visitor_id      1016 non-null   int64         \n",
      " 2   date            1016 non-null   datetime64[ns]\n",
      " 3   revenue         1016 non-null   float64       \n",
      " 4   group           1016 non-null   object        \n",
      "dtypes: datetime64[ns](1), float64(1), int64(2), object(1)\n",
      "memory usage: 39.8+ KB\n"
     ]
    }
   ],
   "source": [
    "# drop visitors from both groups from 'orders'\n",
    "\n",
    "orders = orders[~orders.visitor_id.isin(two_groups.visitor_id)].reset_index(drop=True)\n",
    "orders.info()"
   ]
  },
  {
   "cell_type": "markdown",
   "metadata": {},
   "source": [
    "### Step 3: Analysis"
   ]
  },
  {
   "cell_type": "markdown",
   "metadata": {},
   "source": [
    "#### Graph cumulative revenue by group"
   ]
  },
  {
   "cell_type": "code",
   "execution_count": 18,
   "metadata": {},
   "outputs": [
    {
     "data": {
      "text/html": [
       "<div>\n",
       "<style scoped>\n",
       "    .dataframe tbody tr th:only-of-type {\n",
       "        vertical-align: middle;\n",
       "    }\n",
       "\n",
       "    .dataframe tbody tr th {\n",
       "        vertical-align: top;\n",
       "    }\n",
       "\n",
       "    .dataframe thead th {\n",
       "        text-align: right;\n",
       "    }\n",
       "</style>\n",
       "<table border=\"1\" class=\"dataframe\">\n",
       "  <thead>\n",
       "    <tr style=\"text-align: right;\">\n",
       "      <th></th>\n",
       "      <th>date</th>\n",
       "      <th>group</th>\n",
       "      <th>revenue</th>\n",
       "    </tr>\n",
       "  </thead>\n",
       "  <tbody>\n",
       "    <tr>\n",
       "      <th>0</th>\n",
       "      <td>2019-08-01</td>\n",
       "      <td>A</td>\n",
       "      <td>2266.6</td>\n",
       "    </tr>\n",
       "    <tr>\n",
       "      <th>1</th>\n",
       "      <td>2019-08-01</td>\n",
       "      <td>B</td>\n",
       "      <td>967.2</td>\n",
       "    </tr>\n",
       "    <tr>\n",
       "      <th>2</th>\n",
       "      <td>2019-08-02</td>\n",
       "      <td>A</td>\n",
       "      <td>1468.3</td>\n",
       "    </tr>\n",
       "    <tr>\n",
       "      <th>3</th>\n",
       "      <td>2019-08-02</td>\n",
       "      <td>B</td>\n",
       "      <td>2568.1</td>\n",
       "    </tr>\n",
       "    <tr>\n",
       "      <th>4</th>\n",
       "      <td>2019-08-03</td>\n",
       "      <td>A</td>\n",
       "      <td>1815.2</td>\n",
       "    </tr>\n",
       "  </tbody>\n",
       "</table>\n",
       "</div>"
      ],
      "text/plain": [
       "        date group  revenue\n",
       "0 2019-08-01     A   2266.6\n",
       "1 2019-08-01     B    967.2\n",
       "2 2019-08-02     A   1468.3\n",
       "3 2019-08-02     B   2568.1\n",
       "4 2019-08-03     A   1815.2"
      ]
     },
     "execution_count": 18,
     "metadata": {},
     "output_type": "execute_result"
    }
   ],
   "source": [
    "# group daily revenue sums by date & group\n",
    "\n",
    "orders_groups = orders.groupby(['date', 'group'])['revenue'].sum().reset_index()\n",
    "orders_groups.head()"
   ]
  },
  {
   "cell_type": "code",
   "execution_count": 19,
   "metadata": {},
   "outputs": [
    {
     "data": {
      "text/html": [
       "<div>\n",
       "<style scoped>\n",
       "    .dataframe tbody tr th:only-of-type {\n",
       "        vertical-align: middle;\n",
       "    }\n",
       "\n",
       "    .dataframe tbody tr th {\n",
       "        vertical-align: top;\n",
       "    }\n",
       "\n",
       "    .dataframe thead th {\n",
       "        text-align: right;\n",
       "    }\n",
       "</style>\n",
       "<table border=\"1\" class=\"dataframe\">\n",
       "  <thead>\n",
       "    <tr style=\"text-align: right;\">\n",
       "      <th></th>\n",
       "      <th>cum_rev_group_a</th>\n",
       "      <th>cum_rev_group_b</th>\n",
       "    </tr>\n",
       "    <tr>\n",
       "      <th>date</th>\n",
       "      <th></th>\n",
       "      <th></th>\n",
       "    </tr>\n",
       "  </thead>\n",
       "  <tbody>\n",
       "    <tr>\n",
       "      <th>2019-08-01</th>\n",
       "      <td>2266.6</td>\n",
       "      <td>967.2</td>\n",
       "    </tr>\n",
       "    <tr>\n",
       "      <th>2019-08-02</th>\n",
       "      <td>3734.9</td>\n",
       "      <td>3535.3</td>\n",
       "    </tr>\n",
       "    <tr>\n",
       "      <th>2019-08-03</th>\n",
       "      <td>5550.1</td>\n",
       "      <td>4606.9</td>\n",
       "    </tr>\n",
       "    <tr>\n",
       "      <th>2019-08-04</th>\n",
       "      <td>6225.6</td>\n",
       "      <td>6138.5</td>\n",
       "    </tr>\n",
       "    <tr>\n",
       "      <th>2019-08-05</th>\n",
       "      <td>7623.6</td>\n",
       "      <td>7587.8</td>\n",
       "    </tr>\n",
       "  </tbody>\n",
       "</table>\n",
       "</div>"
      ],
      "text/plain": [
       "            cum_rev_group_a  cum_rev_group_b\n",
       "date                                        \n",
       "2019-08-01           2266.6            967.2\n",
       "2019-08-02           3734.9           3535.3\n",
       "2019-08-03           5550.1           4606.9\n",
       "2019-08-04           6225.6           6138.5\n",
       "2019-08-05           7623.6           7587.8"
      ]
     },
     "execution_count": 19,
     "metadata": {},
     "output_type": "execute_result"
    }
   ],
   "source": [
    "# finding cumulative revenues for group A & B\n",
    "\n",
    "cum_rev_A = orders_groups.query('group == \"A\"').drop('group', axis=1)\n",
    "cum_rev_A['cum_rev_group_a'] = cum_rev_A['revenue'].cumsum()\n",
    "cum_rev_A.drop('revenue', axis=1, inplace=True)\n",
    "\n",
    "cum_rev_B = orders_groups.query('group == \"B\"').drop('group', axis=1)\n",
    "cum_rev_B['cum_rev_group_b'] = cum_rev_B['revenue'].cumsum()\n",
    "cum_rev_B.drop('revenue', axis=1, inplace=True)\n",
    "\n",
    "cum_rev = pd.merge(cum_rev_A, cum_rev_B, on='date').set_index('date')\n",
    "cum_rev.head()"
   ]
  },
  {
   "cell_type": "code",
   "execution_count": 20,
   "metadata": {
    "scrolled": false
   },
   "outputs": [
    {
     "data": {
      "image/png": "[encoded data removed]",
      "text/plain": [
       "<Figure size 1080x432 with 1 Axes>"
      ]
     },
     "metadata": {
      "needs_background": "light"
     },
     "output_type": "display_data"
    }
   ],
   "source": [
    "# plotting cumulative revenues for group A & B\n",
    "\n",
    "plt.rcParams.update({'font.size': 14})\n",
    "\n",
    "ax = cum_rev.plot(title='Cumulative Revenues', figsize=(15, 6))\n",
    "\n",
    "ax.set_xlabel('Date')\n",
    "ax.set_ylabel('Revenue') \n",
    "\n",
    "plt.xticks(cum_rev.index, cum_rev.index.date, rotation=80, fontsize=12)\n",
    "plt.yticks(range(0, 110000, 10000), fontsize=12)\n",
    "plt.legend(['Group A', 'Group B'], fontsize=12)\n",
    "plt.grid(True)\n",
    "\n",
    "plt.show()"
   ]
  },
  {
   "cell_type": "markdown",
   "metadata": {},
   "source": [
    "##### Conclusion\n",
    "\n",
    "Group A and Group B were pretty evenly matched in terms of revenues up until the middle of the month. On the 19th, there was a massive spike in cumulative revenue for Group B. This could be due to an unusually large order, or some other difference between groups that we're not seeing."
   ]
  },
  {
   "cell_type": "markdown",
   "metadata": {},
   "source": [
    "#### Graph cumulative average order size by group"
   ]
  },
  {
   "cell_type": "code",
   "execution_count": 21,
   "metadata": {},
   "outputs": [
    {
     "data": {
      "text/html": [
       "<div>\n",
       "<style scoped>\n",
       "    .dataframe tbody tr th:only-of-type {\n",
       "        vertical-align: middle;\n",
       "    }\n",
       "\n",
       "    .dataframe tbody tr th {\n",
       "        vertical-align: top;\n",
       "    }\n",
       "\n",
       "    .dataframe thead th {\n",
       "        text-align: right;\n",
       "    }\n",
       "</style>\n",
       "<table border=\"1\" class=\"dataframe\">\n",
       "  <thead>\n",
       "    <tr style=\"text-align: right;\">\n",
       "      <th></th>\n",
       "      <th></th>\n",
       "      <th>revenue</th>\n",
       "      <th>transaction_id</th>\n",
       "    </tr>\n",
       "    <tr>\n",
       "      <th>date</th>\n",
       "      <th>group</th>\n",
       "      <th></th>\n",
       "      <th></th>\n",
       "    </tr>\n",
       "  </thead>\n",
       "  <tbody>\n",
       "    <tr>\n",
       "      <th rowspan=\"2\" valign=\"top\">2019-08-01</th>\n",
       "      <th>A</th>\n",
       "      <td>2266.6</td>\n",
       "      <td>23</td>\n",
       "    </tr>\n",
       "    <tr>\n",
       "      <th>B</th>\n",
       "      <td>967.2</td>\n",
       "      <td>17</td>\n",
       "    </tr>\n",
       "    <tr>\n",
       "      <th rowspan=\"2\" valign=\"top\">2019-08-02</th>\n",
       "      <th>A</th>\n",
       "      <td>1468.3</td>\n",
       "      <td>19</td>\n",
       "    </tr>\n",
       "    <tr>\n",
       "      <th>B</th>\n",
       "      <td>2568.1</td>\n",
       "      <td>23</td>\n",
       "    </tr>\n",
       "    <tr>\n",
       "      <th>2019-08-03</th>\n",
       "      <th>A</th>\n",
       "      <td>1815.2</td>\n",
       "      <td>24</td>\n",
       "    </tr>\n",
       "  </tbody>\n",
       "</table>\n",
       "</div>"
      ],
      "text/plain": [
       "                  revenue  transaction_id\n",
       "date       group                         \n",
       "2019-08-01 A       2266.6              23\n",
       "           B        967.2              17\n",
       "2019-08-02 A       1468.3              19\n",
       "           B       2568.1              23\n",
       "2019-08-03 A       1815.2              24"
      ]
     },
     "execution_count": 21,
     "metadata": {},
     "output_type": "execute_result"
    }
   ],
   "source": [
    "# find cumulative daily orders per group\n",
    "\n",
    "means_groups = orders.groupby(['date', 'group']).agg({'revenue': 'sum', 'transaction_id': 'count'})\n",
    "means_groups.head()"
   ]
  },
  {
   "cell_type": "code",
   "execution_count": 22,
   "metadata": {},
   "outputs": [],
   "source": [
    "# separate groups\n",
    "\n",
    "means_groups_A = means_groups.query('group == \"A\"')\n",
    "means_groups_B = means_groups.query('group == \"B\"')"
   ]
  },
  {
   "cell_type": "code",
   "execution_count": 23,
   "metadata": {},
   "outputs": [
    {
     "data": {
      "text/html": [
       "<div>\n",
       "<style scoped>\n",
       "    .dataframe tbody tr th:only-of-type {\n",
       "        vertical-align: middle;\n",
       "    }\n",
       "\n",
       "    .dataframe tbody tr th {\n",
       "        vertical-align: top;\n",
       "    }\n",
       "\n",
       "    .dataframe thead th {\n",
       "        text-align: right;\n",
       "    }\n",
       "</style>\n",
       "<table border=\"1\" class=\"dataframe\">\n",
       "  <thead>\n",
       "    <tr style=\"text-align: right;\">\n",
       "      <th></th>\n",
       "      <th></th>\n",
       "      <th>revenue</th>\n",
       "      <th>transaction_id</th>\n",
       "      <th>cum_rev</th>\n",
       "      <th>cum_orders</th>\n",
       "    </tr>\n",
       "    <tr>\n",
       "      <th>date</th>\n",
       "      <th>group</th>\n",
       "      <th></th>\n",
       "      <th></th>\n",
       "      <th></th>\n",
       "      <th></th>\n",
       "    </tr>\n",
       "  </thead>\n",
       "  <tbody>\n",
       "    <tr>\n",
       "      <th>2019-08-01</th>\n",
       "      <th>B</th>\n",
       "      <td>967.2</td>\n",
       "      <td>17</td>\n",
       "      <td>967.2</td>\n",
       "      <td>17</td>\n",
       "    </tr>\n",
       "    <tr>\n",
       "      <th>2019-08-02</th>\n",
       "      <th>B</th>\n",
       "      <td>2568.1</td>\n",
       "      <td>23</td>\n",
       "      <td>3535.3</td>\n",
       "      <td>40</td>\n",
       "    </tr>\n",
       "    <tr>\n",
       "      <th>2019-08-03</th>\n",
       "      <th>B</th>\n",
       "      <td>1071.6</td>\n",
       "      <td>14</td>\n",
       "      <td>4606.9</td>\n",
       "      <td>54</td>\n",
       "    </tr>\n",
       "    <tr>\n",
       "      <th>2019-08-04</th>\n",
       "      <th>B</th>\n",
       "      <td>1531.6</td>\n",
       "      <td>14</td>\n",
       "      <td>6138.5</td>\n",
       "      <td>68</td>\n",
       "    </tr>\n",
       "    <tr>\n",
       "      <th>2019-08-05</th>\n",
       "      <th>B</th>\n",
       "      <td>1449.3</td>\n",
       "      <td>21</td>\n",
       "      <td>7587.8</td>\n",
       "      <td>89</td>\n",
       "    </tr>\n",
       "  </tbody>\n",
       "</table>\n",
       "</div>"
      ],
      "text/plain": [
       "                  revenue  transaction_id  cum_rev  cum_orders\n",
       "date       group                                              \n",
       "2019-08-01 B        967.2              17    967.2          17\n",
       "2019-08-02 B       2568.1              23   3535.3          40\n",
       "2019-08-03 B       1071.6              14   4606.9          54\n",
       "2019-08-04 B       1531.6              14   6138.5          68\n",
       "2019-08-05 B       1449.3              21   7587.8          89"
      ]
     },
     "execution_count": 23,
     "metadata": {},
     "output_type": "execute_result"
    }
   ],
   "source": [
    "# find cumulative daily revenue & orders for each group\n",
    "\n",
    "pd.options.mode.chained_assignment = None  # default='warn'\n",
    "\n",
    "means_groups_A['cum_rev'] = means_groups_A['revenue'].cumsum()\n",
    "means_groups_A['cum_orders'] = means_groups_A['transaction_id'].cumsum()\n",
    "\n",
    "means_groups_B['cum_rev'] = means_groups_B['revenue'].cumsum()\n",
    "means_groups_B['cum_orders'] = means_groups_B['transaction_id'].cumsum()\n",
    "\n",
    "means_groups_B.head()"
   ]
  },
  {
   "cell_type": "code",
   "execution_count": 24,
   "metadata": {},
   "outputs": [
    {
     "data": {
      "text/html": [
       "<div>\n",
       "<style scoped>\n",
       "    .dataframe tbody tr th:only-of-type {\n",
       "        vertical-align: middle;\n",
       "    }\n",
       "\n",
       "    .dataframe tbody tr th {\n",
       "        vertical-align: top;\n",
       "    }\n",
       "\n",
       "    .dataframe thead th {\n",
       "        text-align: right;\n",
       "    }\n",
       "</style>\n",
       "<table border=\"1\" class=\"dataframe\">\n",
       "  <thead>\n",
       "    <tr style=\"text-align: right;\">\n",
       "      <th></th>\n",
       "      <th>cum_rev</th>\n",
       "      <th>cum_orders</th>\n",
       "      <th>cum_mean_rev</th>\n",
       "    </tr>\n",
       "    <tr>\n",
       "      <th>date</th>\n",
       "      <th></th>\n",
       "      <th></th>\n",
       "      <th></th>\n",
       "    </tr>\n",
       "  </thead>\n",
       "  <tbody>\n",
       "    <tr>\n",
       "      <th>2019-08-01</th>\n",
       "      <td>967.2</td>\n",
       "      <td>17</td>\n",
       "      <td>56.894118</td>\n",
       "    </tr>\n",
       "    <tr>\n",
       "      <th>2019-08-02</th>\n",
       "      <td>3535.3</td>\n",
       "      <td>40</td>\n",
       "      <td>88.382500</td>\n",
       "    </tr>\n",
       "    <tr>\n",
       "      <th>2019-08-03</th>\n",
       "      <td>4606.9</td>\n",
       "      <td>54</td>\n",
       "      <td>85.312963</td>\n",
       "    </tr>\n",
       "    <tr>\n",
       "      <th>2019-08-04</th>\n",
       "      <td>6138.5</td>\n",
       "      <td>68</td>\n",
       "      <td>90.272059</td>\n",
       "    </tr>\n",
       "    <tr>\n",
       "      <th>2019-08-05</th>\n",
       "      <td>7587.8</td>\n",
       "      <td>89</td>\n",
       "      <td>85.256180</td>\n",
       "    </tr>\n",
       "  </tbody>\n",
       "</table>\n",
       "</div>"
      ],
      "text/plain": [
       "            cum_rev  cum_orders  cum_mean_rev\n",
       "date                                         \n",
       "2019-08-01    967.2          17     56.894118\n",
       "2019-08-02   3535.3          40     88.382500\n",
       "2019-08-03   4606.9          54     85.312963\n",
       "2019-08-04   6138.5          68     90.272059\n",
       "2019-08-05   7587.8          89     85.256180"
      ]
     },
     "execution_count": 24,
     "metadata": {},
     "output_type": "execute_result"
    }
   ],
   "source": [
    "# find cumulative mean revenues\n",
    "\n",
    "means_groups_A['cum_mean_rev'] = means_groups_A['cum_rev'] / means_groups_A['cum_orders']\n",
    "means_groups_A = means_groups_A.reset_index().drop(['group', 'revenue', 'transaction_id'], axis=1)\n",
    "means_groups_A.set_index('date', inplace=True)\n",
    "\n",
    "means_groups_B['cum_mean_rev'] = means_groups_B['cum_rev'] / means_groups_B['cum_orders']\n",
    "means_groups_B = means_groups_B.reset_index().drop(['group', 'revenue', 'transaction_id'], axis=1)\n",
    "means_groups_B.set_index('date', inplace=True)\n",
    "\n",
    "means_groups_B.head()"
   ]
  },
  {
   "cell_type": "code",
   "execution_count": 25,
   "metadata": {
    "scrolled": false
   },
   "outputs": [
    {
     "data": {
      "image/png": "[encoded data removed]",
      "text/plain": [
       "<Figure size 1080x432 with 1 Axes>"
      ]
     },
     "metadata": {
      "needs_background": "light"
     },
     "output_type": "display_data"
    }
   ],
   "source": [
    "# plotting cumulative means for group A & B\n",
    "\n",
    "plt.rcParams.update({'font.size': 14})\n",
    "\n",
    "ax = means_groups_A['cum_mean_rev'].plot(title='Cumulative Daily Mean Revenues',\n",
    "                                         figsize=(15, 6))\n",
    "\n",
    "ax.set_xlabel('Date')\n",
    "ax.set_ylabel('Mean revenue')\n",
    "\n",
    "means_groups_B['cum_mean_rev'].plot()\n",
    "\n",
    "plt.xticks(means_groups_A.index, means_groups_A.index.date, rotation=80, fontsize=12)\n",
    "plt.yticks(range(50, 200, 10), fontsize=12)\n",
    "plt.legend(['Group A', 'Group B'], fontsize=12)\n",
    "plt.grid(True)\n",
    "\n",
    "plt.show()"
   ]
  },
  {
   "cell_type": "markdown",
   "metadata": {},
   "source": [
    "##### Conclusion\n",
    "\n",
    "Again, we can see a massive spike in cumulative daily mean for group B. Since the number of orders did not go up proportionally with the revenue for that day, we can conclude that there was probably one unusually large order on that day. "
   ]
  },
  {
   "cell_type": "markdown",
   "metadata": {},
   "source": [
    "#### Graph relative difference in cumulative average order size"
   ]
  },
  {
   "cell_type": "code",
   "execution_count": 26,
   "metadata": {},
   "outputs": [
    {
     "data": {
      "text/plain": [
       "date\n",
       "2019-08-01   -41.653708\n",
       "2019-08-02    -0.543690\n",
       "2019-08-03     1.220539\n",
       "2019-08-04     9.420111\n",
       "2019-08-05     8.250119\n",
       "Name: cum_mean_rev, dtype: float64"
      ]
     },
     "execution_count": 26,
     "metadata": {},
     "output_type": "execute_result"
    }
   ],
   "source": [
    "# find relative difference in cumulative average order size between groups\n",
    "\n",
    "cum_mean_order_diff = pd.Series(means_groups_B['cum_mean_rev'] - means_groups_A['cum_mean_rev'])\n",
    "cum_mean_order_diff.head()"
   ]
  },
  {
   "cell_type": "code",
   "execution_count": 27,
   "metadata": {},
   "outputs": [
    {
     "data": {
      "image/png": "[encoded data removed]",
      "text/plain": [
       "<Figure size 1080x432 with 1 Axes>"
      ]
     },
     "metadata": {
      "needs_background": "light"
     },
     "output_type": "display_data"
    }
   ],
   "source": [
    "# plotting difference in cumulative means between group B & group A\n",
    "\n",
    "plt.rcParams.update({'font.size': 14})\n",
    "\n",
    "ax = cum_mean_order_diff.plot(title='Cumulative Difference in Daily Mean Revenues',\n",
    "                              figsize=(15, 6))\n",
    "\n",
    "ax.set_xlabel('Date')\n",
    "ax.set_ylabel('Difference')\n",
    "\n",
    "plt.xticks(cum_mean_order_diff.index, cum_mean_order_diff.index.date, rotation=80, fontsize=12)\n",
    "plt.axhline(y=0, color='black', linestyle='--') \n",
    "plt.grid(True)\n",
    "\n",
    "plt.show()"
   ]
  },
  {
   "cell_type": "markdown",
   "metadata": {},
   "source": [
    "##### Conclusion\n",
    "\n",
    "Initially, the mean difference favored group B (difference > 0). We saw a small dip where group A had a higher mean revenue and then the massive spike in revenue for group B on the 19th increased the mean revenue for group B for the rest of the test."
   ]
  },
  {
   "cell_type": "markdown",
   "metadata": {},
   "source": [
    "#### Graph cumulative daily conversion rates by group"
   ]
  },
  {
   "cell_type": "code",
   "execution_count": 28,
   "metadata": {},
   "outputs": [
    {
     "data": {
      "text/html": [
       "<div>\n",
       "<style scoped>\n",
       "    .dataframe tbody tr th:only-of-type {\n",
       "        vertical-align: middle;\n",
       "    }\n",
       "\n",
       "    .dataframe tbody tr th {\n",
       "        vertical-align: top;\n",
       "    }\n",
       "\n",
       "    .dataframe thead th {\n",
       "        text-align: right;\n",
       "    }\n",
       "</style>\n",
       "<table border=\"1\" class=\"dataframe\">\n",
       "  <thead>\n",
       "    <tr style=\"text-align: right;\">\n",
       "      <th></th>\n",
       "      <th>date</th>\n",
       "      <th>group</th>\n",
       "      <th>n_orders</th>\n",
       "    </tr>\n",
       "  </thead>\n",
       "  <tbody>\n",
       "    <tr>\n",
       "      <th>0</th>\n",
       "      <td>2019-08-01</td>\n",
       "      <td>A</td>\n",
       "      <td>23</td>\n",
       "    </tr>\n",
       "    <tr>\n",
       "      <th>1</th>\n",
       "      <td>2019-08-01</td>\n",
       "      <td>B</td>\n",
       "      <td>17</td>\n",
       "    </tr>\n",
       "    <tr>\n",
       "      <th>2</th>\n",
       "      <td>2019-08-02</td>\n",
       "      <td>A</td>\n",
       "      <td>19</td>\n",
       "    </tr>\n",
       "    <tr>\n",
       "      <th>3</th>\n",
       "      <td>2019-08-02</td>\n",
       "      <td>B</td>\n",
       "      <td>23</td>\n",
       "    </tr>\n",
       "    <tr>\n",
       "      <th>4</th>\n",
       "      <td>2019-08-03</td>\n",
       "      <td>A</td>\n",
       "      <td>24</td>\n",
       "    </tr>\n",
       "  </tbody>\n",
       "</table>\n",
       "</div>"
      ],
      "text/plain": [
       "        date group  n_orders\n",
       "0 2019-08-01     A        23\n",
       "1 2019-08-01     B        17\n",
       "2 2019-08-02     A        19\n",
       "3 2019-08-02     B        23\n",
       "4 2019-08-03     A        24"
      ]
     },
     "execution_count": 28,
     "metadata": {},
     "output_type": "execute_result"
    }
   ],
   "source": [
    "# find number of unique buyers per day by group\n",
    "\n",
    "group_conversion = orders.groupby(['date', 'group']).agg({'transaction_id': 'nunique'}).reset_index()\n",
    "group_conversion.columns = ['date', 'group', 'n_orders']\n",
    "group_conversion.head()"
   ]
  },
  {
   "cell_type": "code",
   "execution_count": 29,
   "metadata": {},
   "outputs": [
    {
     "data": {
      "text/html": [
       "<div>\n",
       "<style scoped>\n",
       "    .dataframe tbody tr th:only-of-type {\n",
       "        vertical-align: middle;\n",
       "    }\n",
       "\n",
       "    .dataframe tbody tr th {\n",
       "        vertical-align: top;\n",
       "    }\n",
       "\n",
       "    .dataframe thead th {\n",
       "        text-align: right;\n",
       "    }\n",
       "</style>\n",
       "<table border=\"1\" class=\"dataframe\">\n",
       "  <thead>\n",
       "    <tr style=\"text-align: right;\">\n",
       "      <th></th>\n",
       "      <th>date</th>\n",
       "      <th>group</th>\n",
       "      <th>n_orders</th>\n",
       "      <th>visits</th>\n",
       "    </tr>\n",
       "  </thead>\n",
       "  <tbody>\n",
       "    <tr>\n",
       "      <th>0</th>\n",
       "      <td>2019-08-01</td>\n",
       "      <td>A</td>\n",
       "      <td>23</td>\n",
       "      <td>719</td>\n",
       "    </tr>\n",
       "    <tr>\n",
       "      <th>1</th>\n",
       "      <td>2019-08-01</td>\n",
       "      <td>B</td>\n",
       "      <td>17</td>\n",
       "      <td>713</td>\n",
       "    </tr>\n",
       "    <tr>\n",
       "      <th>2</th>\n",
       "      <td>2019-08-02</td>\n",
       "      <td>A</td>\n",
       "      <td>19</td>\n",
       "      <td>619</td>\n",
       "    </tr>\n",
       "    <tr>\n",
       "      <th>3</th>\n",
       "      <td>2019-08-02</td>\n",
       "      <td>B</td>\n",
       "      <td>23</td>\n",
       "      <td>581</td>\n",
       "    </tr>\n",
       "    <tr>\n",
       "      <th>4</th>\n",
       "      <td>2019-08-03</td>\n",
       "      <td>A</td>\n",
       "      <td>24</td>\n",
       "      <td>507</td>\n",
       "    </tr>\n",
       "  </tbody>\n",
       "</table>\n",
       "</div>"
      ],
      "text/plain": [
       "        date group  n_orders  visits\n",
       "0 2019-08-01     A        23     719\n",
       "1 2019-08-01     B        17     713\n",
       "2 2019-08-02     A        19     619\n",
       "3 2019-08-02     B        23     581\n",
       "4 2019-08-03     A        24     507"
      ]
     },
     "execution_count": 29,
     "metadata": {},
     "output_type": "execute_result"
    }
   ],
   "source": [
    "# merge with visits per day by group\n",
    "\n",
    "group_conversion = group_conversion.merge(visits, on=['date', 'group'])\n",
    "group_conversion.head()"
   ]
  },
  {
   "cell_type": "code",
   "execution_count": 30,
   "metadata": {},
   "outputs": [
    {
     "data": {
      "text/html": [
       "<div>\n",
       "<style scoped>\n",
       "    .dataframe tbody tr th:only-of-type {\n",
       "        vertical-align: middle;\n",
       "    }\n",
       "\n",
       "    .dataframe tbody tr th {\n",
       "        vertical-align: top;\n",
       "    }\n",
       "\n",
       "    .dataframe thead th {\n",
       "        text-align: right;\n",
       "    }\n",
       "</style>\n",
       "<table border=\"1\" class=\"dataframe\">\n",
       "  <thead>\n",
       "    <tr style=\"text-align: right;\">\n",
       "      <th></th>\n",
       "      <th>date</th>\n",
       "      <th>n_orders</th>\n",
       "      <th>visits</th>\n",
       "    </tr>\n",
       "  </thead>\n",
       "  <tbody>\n",
       "    <tr>\n",
       "      <th>1</th>\n",
       "      <td>2019-08-01</td>\n",
       "      <td>17</td>\n",
       "      <td>713</td>\n",
       "    </tr>\n",
       "    <tr>\n",
       "      <th>3</th>\n",
       "      <td>2019-08-02</td>\n",
       "      <td>23</td>\n",
       "      <td>581</td>\n",
       "    </tr>\n",
       "    <tr>\n",
       "      <th>5</th>\n",
       "      <td>2019-08-03</td>\n",
       "      <td>14</td>\n",
       "      <td>509</td>\n",
       "    </tr>\n",
       "    <tr>\n",
       "      <th>7</th>\n",
       "      <td>2019-08-04</td>\n",
       "      <td>14</td>\n",
       "      <td>770</td>\n",
       "    </tr>\n",
       "    <tr>\n",
       "      <th>9</th>\n",
       "      <td>2019-08-05</td>\n",
       "      <td>21</td>\n",
       "      <td>707</td>\n",
       "    </tr>\n",
       "  </tbody>\n",
       "</table>\n",
       "</div>"
      ],
      "text/plain": [
       "        date  n_orders  visits\n",
       "1 2019-08-01        17     713\n",
       "3 2019-08-02        23     581\n",
       "5 2019-08-03        14     509\n",
       "7 2019-08-04        14     770\n",
       "9 2019-08-05        21     707"
      ]
     },
     "execution_count": 30,
     "metadata": {},
     "output_type": "execute_result"
    }
   ],
   "source": [
    "# split groups into two DataFrames\n",
    "\n",
    "group_conversion_A = group_conversion.query('group == \"A\"').drop('group', axis=1)\n",
    "group_conversion_B = group_conversion.query('group == \"B\"').drop('group', axis=1)\n",
    "\n",
    "group_conversion_B.head()"
   ]
  },
  {
   "cell_type": "code",
   "execution_count": 31,
   "metadata": {},
   "outputs": [
    {
     "data": {
      "text/html": [
       "<div>\n",
       "<style scoped>\n",
       "    .dataframe tbody tr th:only-of-type {\n",
       "        vertical-align: middle;\n",
       "    }\n",
       "\n",
       "    .dataframe tbody tr th {\n",
       "        vertical-align: top;\n",
       "    }\n",
       "\n",
       "    .dataframe thead th {\n",
       "        text-align: right;\n",
       "    }\n",
       "</style>\n",
       "<table border=\"1\" class=\"dataframe\">\n",
       "  <thead>\n",
       "    <tr style=\"text-align: right;\">\n",
       "      <th></th>\n",
       "      <th>n_orders</th>\n",
       "      <th>visits</th>\n",
       "      <th>cum_n_orders</th>\n",
       "      <th>cum_visits</th>\n",
       "    </tr>\n",
       "    <tr>\n",
       "      <th>date</th>\n",
       "      <th></th>\n",
       "      <th></th>\n",
       "      <th></th>\n",
       "      <th></th>\n",
       "    </tr>\n",
       "  </thead>\n",
       "  <tbody>\n",
       "    <tr>\n",
       "      <th>2019-08-01</th>\n",
       "      <td>17</td>\n",
       "      <td>713</td>\n",
       "      <td>17</td>\n",
       "      <td>713</td>\n",
       "    </tr>\n",
       "    <tr>\n",
       "      <th>2019-08-02</th>\n",
       "      <td>23</td>\n",
       "      <td>581</td>\n",
       "      <td>40</td>\n",
       "      <td>1294</td>\n",
       "    </tr>\n",
       "    <tr>\n",
       "      <th>2019-08-03</th>\n",
       "      <td>14</td>\n",
       "      <td>509</td>\n",
       "      <td>54</td>\n",
       "      <td>1803</td>\n",
       "    </tr>\n",
       "    <tr>\n",
       "      <th>2019-08-04</th>\n",
       "      <td>14</td>\n",
       "      <td>770</td>\n",
       "      <td>68</td>\n",
       "      <td>2573</td>\n",
       "    </tr>\n",
       "    <tr>\n",
       "      <th>2019-08-05</th>\n",
       "      <td>21</td>\n",
       "      <td>707</td>\n",
       "      <td>89</td>\n",
       "      <td>3280</td>\n",
       "    </tr>\n",
       "  </tbody>\n",
       "</table>\n",
       "</div>"
      ],
      "text/plain": [
       "            n_orders  visits  cum_n_orders  cum_visits\n",
       "date                                                  \n",
       "2019-08-01        17     713            17         713\n",
       "2019-08-02        23     581            40        1294\n",
       "2019-08-03        14     509            54        1803\n",
       "2019-08-04        14     770            68        2573\n",
       "2019-08-05        21     707            89        3280"
      ]
     },
     "execution_count": 31,
     "metadata": {},
     "output_type": "execute_result"
    }
   ],
   "source": [
    "# add cumulative buyers & cumulative visits columns\n",
    "\n",
    "group_conversion_A['cum_n_orders'] = group_conversion_A['n_orders'].cumsum()\n",
    "group_conversion_A['cum_visits'] = group_conversion_A['visits'].cumsum()\n",
    "group_conversion_A.set_index('date', inplace=True)\n",
    "\n",
    "group_conversion_B['cum_n_orders'] = group_conversion_B['n_orders'].cumsum()\n",
    "group_conversion_B['cum_visits'] = group_conversion_B['visits'].cumsum()\n",
    "group_conversion_B.set_index('date', inplace=True)\n",
    "\n",
    "group_conversion_B.head()"
   ]
  },
  {
   "cell_type": "code",
   "execution_count": 32,
   "metadata": {
    "scrolled": true
   },
   "outputs": [
    {
     "data": {
      "text/html": [
       "<div>\n",
       "<style scoped>\n",
       "    .dataframe tbody tr th:only-of-type {\n",
       "        vertical-align: middle;\n",
       "    }\n",
       "\n",
       "    .dataframe tbody tr th {\n",
       "        vertical-align: top;\n",
       "    }\n",
       "\n",
       "    .dataframe thead th {\n",
       "        text-align: right;\n",
       "    }\n",
       "</style>\n",
       "<table border=\"1\" class=\"dataframe\">\n",
       "  <thead>\n",
       "    <tr style=\"text-align: right;\">\n",
       "      <th></th>\n",
       "      <th>n_orders</th>\n",
       "      <th>visits</th>\n",
       "      <th>cum_n_orders</th>\n",
       "      <th>cum_visits</th>\n",
       "      <th>cum_conv_rate</th>\n",
       "    </tr>\n",
       "    <tr>\n",
       "      <th>date</th>\n",
       "      <th></th>\n",
       "      <th></th>\n",
       "      <th></th>\n",
       "      <th></th>\n",
       "      <th></th>\n",
       "    </tr>\n",
       "  </thead>\n",
       "  <tbody>\n",
       "    <tr>\n",
       "      <th>2019-08-01</th>\n",
       "      <td>17</td>\n",
       "      <td>713</td>\n",
       "      <td>17</td>\n",
       "      <td>713</td>\n",
       "      <td>0.023843</td>\n",
       "    </tr>\n",
       "    <tr>\n",
       "      <th>2019-08-02</th>\n",
       "      <td>23</td>\n",
       "      <td>581</td>\n",
       "      <td>40</td>\n",
       "      <td>1294</td>\n",
       "      <td>0.030912</td>\n",
       "    </tr>\n",
       "    <tr>\n",
       "      <th>2019-08-03</th>\n",
       "      <td>14</td>\n",
       "      <td>509</td>\n",
       "      <td>54</td>\n",
       "      <td>1803</td>\n",
       "      <td>0.029950</td>\n",
       "    </tr>\n",
       "    <tr>\n",
       "      <th>2019-08-04</th>\n",
       "      <td>14</td>\n",
       "      <td>770</td>\n",
       "      <td>68</td>\n",
       "      <td>2573</td>\n",
       "      <td>0.026428</td>\n",
       "    </tr>\n",
       "    <tr>\n",
       "      <th>2019-08-05</th>\n",
       "      <td>21</td>\n",
       "      <td>707</td>\n",
       "      <td>89</td>\n",
       "      <td>3280</td>\n",
       "      <td>0.027134</td>\n",
       "    </tr>\n",
       "  </tbody>\n",
       "</table>\n",
       "</div>"
      ],
      "text/plain": [
       "            n_orders  visits  cum_n_orders  cum_visits  cum_conv_rate\n",
       "date                                                                 \n",
       "2019-08-01        17     713            17         713       0.023843\n",
       "2019-08-02        23     581            40        1294       0.030912\n",
       "2019-08-03        14     509            54        1803       0.029950\n",
       "2019-08-04        14     770            68        2573       0.026428\n",
       "2019-08-05        21     707            89        3280       0.027134"
      ]
     },
     "execution_count": 32,
     "metadata": {},
     "output_type": "execute_result"
    }
   ],
   "source": [
    "# calculate conversion rates per group per day\n",
    "\n",
    "group_conversion_A['cum_conv_rate'] = group_conversion_A['cum_n_orders'] / group_conversion_A['cum_visits']\n",
    "group_conversion_B['cum_conv_rate'] = group_conversion_B['cum_n_orders'] / group_conversion_B['cum_visits']\n",
    "\n",
    "group_conversion_B.head()"
   ]
  },
  {
   "cell_type": "code",
   "execution_count": 33,
   "metadata": {
    "scrolled": false
   },
   "outputs": [
    {
     "data": {
      "image/png": "[encoded data removed]",
      "text/plain": [
       "<Figure size 1080x432 with 1 Axes>"
      ]
     },
     "metadata": {
      "needs_background": "light"
     },
     "output_type": "display_data"
    }
   ],
   "source": [
    "# plotting daily conversion rates for group B & group A\n",
    "\n",
    "plt.rcParams.update({'font.size': 14})\n",
    "\n",
    "ax_A = group_conversion_A['cum_conv_rate'].plot(title='Cumulative daily conversion rates by group',\n",
    "                                                figsize=(15, 6))\n",
    "\n",
    "ax_B = group_conversion_B['cum_conv_rate'].plot()\n",
    "\n",
    "ax_B.set_xlabel('Date')\n",
    "ax_B.set_ylabel('Cumulative conversion rate')\n",
    "\n",
    "plt.xticks(group_conversion_A.index, group_conversion_A.index.date, rotation=80, fontsize=12)\n",
    "plt.legend(['Group A', 'Group B'], fontsize=12)\n",
    "plt.grid(True)\n",
    "\n",
    "plt.show()"
   ]
  },
  {
   "cell_type": "markdown",
   "metadata": {},
   "source": [
    "##### Conclusion\n",
    "\n",
    "Conversion rate seems to be very unstable in the beginning. Initially, Group A is in the lead. But as time progresses and the results stabilize, we can see that B takes the lead bu quite a bit. Later, we'll determine if this difference in conversion rates is statistically significant."
   ]
  },
  {
   "cell_type": "markdown",
   "metadata": {},
   "source": [
    "#### Scatter plot of orders per user"
   ]
  },
  {
   "cell_type": "code",
   "execution_count": 34,
   "metadata": {},
   "outputs": [
    {
     "data": {
      "text/html": [
       "<div>\n",
       "<style scoped>\n",
       "    .dataframe tbody tr th:only-of-type {\n",
       "        vertical-align: middle;\n",
       "    }\n",
       "\n",
       "    .dataframe tbody tr th {\n",
       "        vertical-align: top;\n",
       "    }\n",
       "\n",
       "    .dataframe thead th {\n",
       "        text-align: right;\n",
       "    }\n",
       "</style>\n",
       "<table border=\"1\" class=\"dataframe\">\n",
       "  <thead>\n",
       "    <tr style=\"text-align: right;\">\n",
       "      <th></th>\n",
       "      <th>visitor_id</th>\n",
       "      <th>orders</th>\n",
       "    </tr>\n",
       "  </thead>\n",
       "  <tbody>\n",
       "    <tr>\n",
       "      <th>0</th>\n",
       "      <td>5114589</td>\n",
       "      <td>1</td>\n",
       "    </tr>\n",
       "    <tr>\n",
       "      <th>1</th>\n",
       "      <td>6958315</td>\n",
       "      <td>1</td>\n",
       "    </tr>\n",
       "    <tr>\n",
       "      <th>2</th>\n",
       "      <td>11685486</td>\n",
       "      <td>1</td>\n",
       "    </tr>\n",
       "    <tr>\n",
       "      <th>3</th>\n",
       "      <td>39475350</td>\n",
       "      <td>1</td>\n",
       "    </tr>\n",
       "    <tr>\n",
       "      <th>4</th>\n",
       "      <td>47206413</td>\n",
       "      <td>1</td>\n",
       "    </tr>\n",
       "  </tbody>\n",
       "</table>\n",
       "</div>"
      ],
      "text/plain": [
       "   visitor_id  orders\n",
       "0     5114589       1\n",
       "1     6958315       1\n",
       "2    11685486       1\n",
       "3    39475350       1\n",
       "4    47206413       1"
      ]
     },
     "execution_count": 34,
     "metadata": {},
     "output_type": "execute_result"
    }
   ],
   "source": [
    "# calculate orders per unique user\n",
    "\n",
    "orders_per_user = orders.groupby('visitor_id')['transaction_id'].count().reset_index()\n",
    "orders_per_user.columns = ['visitor_id', 'orders']\n",
    "orders_per_user.head()"
   ]
  },
  {
   "cell_type": "code",
   "execution_count": 35,
   "metadata": {},
   "outputs": [
    {
     "data": {
      "image/png": "[encoded data removed]",
      "text/plain": [
       "<Figure size 432x288 with 1 Axes>"
      ]
     },
     "metadata": {
      "needs_background": "light"
     },
     "output_type": "display_data"
    }
   ],
   "source": [
    "# scatter plot of orders per user\n",
    "\n",
    "plt.rcParams.update({'font.size': 12})\n",
    "\n",
    "ax = orders_per_user.plot('visitor_id',\n",
    "                          'orders',\n",
    "                          kind='scatter',\n",
    "                          title='Orders per user',\n",
    "                          alpha=0.5)\n",
    "\n",
    "ax.set_xlabel('Visitor ID')\n",
    "ax.set_ylabel('Number of Orders')\n",
    "\n",
    "plt.yticks(range(1, 4))\n",
    "plt.grid(True, axis='y')\n",
    "\n",
    "plt.show()"
   ]
  },
  {
   "cell_type": "markdown",
   "metadata": {},
   "source": [
    "##### Conclusion\n",
    "\n",
    "The vast majority of users place only one order. A significant amount place two orders, and the number of users who place more than two orders is very low. In the next step, we'll define hard cutoffs between anomalies and normal data."
   ]
  },
  {
   "cell_type": "markdown",
   "metadata": {},
   "source": [
    "#### 95th & 99th percentiles for orders per user"
   ]
  },
  {
   "cell_type": "code",
   "execution_count": 36,
   "metadata": {},
   "outputs": [
    {
     "name": "stdout",
     "output_type": "stream",
     "text": [
      "95% of users make 1 orders or less\n",
      "99% of users make 2 orders or less\n"
     ]
    }
   ],
   "source": [
    "# find 95th & 99th percentile of orders per user\n",
    "\n",
    "opu_95, opu_99 = np.percentile(orders_per_user['orders'], [95, 99])\n",
    "\n",
    "print(f'95% of users make {int(opu_95)} orders or less')\n",
    "print(f'99% of users make {int(opu_99)} orders or less')"
   ]
  },
  {
   "cell_type": "markdown",
   "metadata": {},
   "source": [
    "Users that make greater than 2 orders can be considered an anomaly, since 99% of all users in this dataset make 2 orders or less."
   ]
  },
  {
   "cell_type": "markdown",
   "metadata": {},
   "source": [
    "#### Scatter plot of order prices"
   ]
  },
  {
   "cell_type": "code",
   "execution_count": 37,
   "metadata": {},
   "outputs": [
    {
     "data": {
      "image/png": "[encoded data removed]",
      "text/plain": [
       "<Figure size 432x288 with 1 Axes>"
      ]
     },
     "metadata": {
      "needs_background": "light"
     },
     "output_type": "display_data"
    }
   ],
   "source": [
    "# scatter plot of orders per user\n",
    "\n",
    "plt.rcParams.update({'font.size': 12})\n",
    "\n",
    "ax = orders.plot('transaction_id',\n",
    "                 'revenue',\n",
    "                 kind='scatter',\n",
    "                 title='Order Sizes',\n",
    "                 alpha=0.5)\n",
    "\n",
    "ax.set_xlabel('Transaction ID')\n",
    "ax.set_ylabel('Order Size')\n",
    "\n",
    "plt.grid(True, axis='y')\n",
    "\n",
    "plt.show()"
   ]
  },
  {
   "cell_type": "markdown",
   "metadata": {},
   "source": [
    "##### Conclusion\n",
    "\n",
    "The majority of order revenues fall under 2,500. But there is one massive order of 20,000! Maybe this is the order that skewed our test results in the previous sections... this is definitely an anomaly. Again, we can calculate exact cutoffs between anomalies and normal data by caluculating percentiles in the next step."
   ]
  },
  {
   "cell_type": "markdown",
   "metadata": {},
   "source": [
    "#### 95th & 99th percentiles of order sizes"
   ]
  },
  {
   "cell_type": "code",
   "execution_count": 38,
   "metadata": {},
   "outputs": [
    {
     "name": "stdout",
     "output_type": "stream",
     "text": [
      "95% of orders bring in 414.28 or less in revenue\n",
      "99% of orders bring in 830.3 or less in revenue\n"
     ]
    }
   ],
   "source": [
    "# find 95th & 99th percentile of order sizes\n",
    "\n",
    "sizes_95, sizes_99 = np.percentile(orders['revenue'], [95, 99])\n",
    "\n",
    "print(f'95% of orders bring in {sizes_95.round(2)} or less in revenue')\n",
    "print(f'99% of orders bring in {sizes_99.round(2)} or less in revenue')"
   ]
  },
  {
   "cell_type": "markdown",
   "metadata": {},
   "source": [
    "Orders that bring in greater than 830.30 in revenue be considered an anomaly, since 99% of all orders in this dataset cost 830.30 or less."
   ]
  },
  {
   "cell_type": "markdown",
   "metadata": {},
   "source": [
    "#### Statistical significance of differences in conversion rate"
   ]
  },
  {
   "cell_type": "code",
   "execution_count": 39,
   "metadata": {},
   "outputs": [],
   "source": [
    "# get all visits for each group\n",
    "\n",
    "all_visits_A = visits.query('group == \"A\"')['visits'].sum()\n",
    "all_visits_B = visits.query('group == \"B\"')['visits'].sum()"
   ]
  },
  {
   "cell_type": "code",
   "execution_count": 40,
   "metadata": {},
   "outputs": [],
   "source": [
    "# create samples of number of orders for each group\n",
    "\n",
    "sample_A = orders.query('group == \"A\"').groupby('visitor_id')['transaction_id'].count().reset_index()\n",
    "sample_A = sample_A.drop('visitor_id', axis=1).sort_values(by='transaction_id', ascending=False).reset_index(drop=True)\n",
    "sample_A = sample_A.squeeze()\n",
    "sample_A = sample_A.append(pd.Series(0, index=np.arange(all_visits_A - len(sample_A))))\n",
    "\n",
    "sample_B = orders.query('group == \"B\"').groupby('visitor_id')['transaction_id'].count().reset_index()\n",
    "sample_B = sample_B.drop('visitor_id', axis=1).sort_values(by='transaction_id', ascending=False).reset_index(drop=True)\n",
    "sample_B = sample_B.squeeze()\n",
    "sample_B = sample_B.append(pd.Series(0, index=np.arange(all_visits_B - len(sample_B))))"
   ]
  },
  {
   "cell_type": "code",
   "execution_count": 41,
   "metadata": {},
   "outputs": [
    {
     "name": "stdout",
     "output_type": "stream",
     "text": [
      "Null hypothesis:\n",
      "     There is not a statistically significant difference in conversion rates between groups\n",
      "\n",
      "Alt hypothesis:\n",
      "     There is a statistically significant difference in conversion rates between groups\n",
      "\n",
      "Critical significance level (alpha): 0.05\n",
      "\n",
      "\n",
      "Test results:\n",
      "     P-value: 0.006\n",
      "     Relative difference: 15.98%\n"
     ]
    }
   ],
   "source": [
    "# run Mann-Whitney U test\n",
    "\n",
    "print('Null hypothesis:\\n     There is not a statistically significant difference in conversion rates between groups\\n')\n",
    "print('Alt hypothesis:\\n     There is a statistically significant difference in conversion rates between groups\\n')\n",
    "\n",
    "print('Critical significance level (alpha): 0.05\\n\\n')\n",
    "\n",
    "print('Test results:')\n",
    "\n",
    "print(\"     P-value: {0:.3f}\".format(stats.mannwhitneyu(sample_A, sample_B)[1]))\n",
    "print(\"     Relative difference: {0:.2f}%\".format((sample_B.mean() / sample_A.mean() - 1) * 100)) "
   ]
  },
  {
   "cell_type": "markdown",
   "metadata": {},
   "source": [
    "##### Conclusion\n",
    "The first value is our p-value, which is well below the critical significance level of 0.05. We can reject the null hypothesis that there's not a statistically significant difference in conversion between the groups in favor of the alternative hypothesis - there is a statistically significant difference in conversion rates between groups, with B having a higher conversion rate. The relative gain in conversion rate is 16% (2nd value)."
   ]
  },
  {
   "cell_type": "markdown",
   "metadata": {},
   "source": [
    "#### Statistical significance of differences in order size"
   ]
  },
  {
   "cell_type": "code",
   "execution_count": 42,
   "metadata": {},
   "outputs": [
    {
     "name": "stdout",
     "output_type": "stream",
     "text": [
      "Null hypothesis:\n",
      "     There is not a statistically significant difference in average order size between groups\n",
      "\n",
      "Alt hypothesis:\n",
      "     There is a statistically significant difference in average order size between groups\n",
      "\n",
      "Critical significance level (alpha): 0.05\n",
      "\n",
      "\n",
      "Test results:\n",
      "     P-value: 0.431\n",
      "     Relative difference: 27.83%\n"
     ]
    }
   ],
   "source": [
    "# run Mann-Whitney U test\n",
    "\n",
    "print('Null hypothesis:\\n     There is not a statistically significant difference in average order size between groups\\n')\n",
    "print('Alt hypothesis:\\n     There is a statistically significant difference in average order size between groups\\n')\n",
    "\n",
    "print('Critical significance level (alpha): 0.05\\n\\n')\n",
    "\n",
    "print('Test results:')\n",
    "\n",
    "print('     P-value: {0:.3f}'.format(stats.mannwhitneyu(orders.query('group == \"A\"')['revenue'], orders.query('group == \"B\"')['revenue'])[1]))\n",
    "print('     Relative difference: {0:.2f}%'.format((orders.query('group == \"B\"')['revenue'].mean() / orders.query('group == \"A\"')['revenue'].mean()-1) * 100)) "
   ]
  },
  {
   "cell_type": "markdown",
   "metadata": {},
   "source": [
    "##### Conclusion\n",
    "\n",
    "The p-value is considerably higher than 0.05, so we can't reject the null hypothesis and conclude that average order size differs between the groups. Nonetheless, the average order size for group B is 27.8% larger than it is for group A."
   ]
  },
  {
   "cell_type": "markdown",
   "metadata": {},
   "source": [
    "#### Statistical significance of differences in conversion rate with filtered data\n",
    "\n",
    "We'll filter the order data based on the cutoffs indicated above and rerun the tests to see if this made any differences in our test results. The 99th percentile cutoff was 2 orders per user. 99% of users made 2 orders or less."
   ]
  },
  {
   "cell_type": "code",
   "execution_count": 43,
   "metadata": {},
   "outputs": [],
   "source": [
    "# filter order data\n",
    "\n",
    "sample_A_filtered = sample_A[sample_A <= 2]\n",
    "sample_B_filtered = sample_B[sample_B <= 2]"
   ]
  },
  {
   "cell_type": "code",
   "execution_count": 44,
   "metadata": {},
   "outputs": [
    {
     "name": "stdout",
     "output_type": "stream",
     "text": [
      "Null hypothesis:\n",
      "     There is not a statistically significant difference in conversion rates between groups\n",
      "\n",
      "Alt hypothesis:\n",
      "     There is a statistically significant difference in conversion rates between groups\n",
      "\n",
      "Critical significance level (alpha): 0.05\n",
      "\n",
      "\n",
      "Test results:\n",
      "     P-value: 0.004\n",
      "     Relative difference: 18.49%\n"
     ]
    }
   ],
   "source": [
    "# run Mann-Whitney U test\n",
    "\n",
    "print('Null hypothesis:\\n     There is not a statistically significant difference in conversion rates between groups\\n')\n",
    "print('Alt hypothesis:\\n     There is a statistically significant difference in conversion rates between groups\\n')\n",
    "\n",
    "print('Critical significance level (alpha): 0.05\\n\\n')\n",
    "\n",
    "print('Test results:')\n",
    "\n",
    "print(\"     P-value: {0:.3f}\".format(stats.mannwhitneyu(sample_A_filtered, sample_B_filtered)[1]))\n",
    "print(\"     Relative difference: {0:.2f}%\".format((sample_B_filtered.mean() / sample_A_filtered.mean() - 1) * 100))"
   ]
  },
  {
   "cell_type": "markdown",
   "metadata": {},
   "source": [
    "##### Conclusion\n",
    "\n",
    "Filtering the data made a small difference in our test. The p-value is still well below the critical significance value of 0.05. The relative difference in conversion rates between groups actuall rose to 18.5% by removing the anomalies."
   ]
  },
  {
   "cell_type": "markdown",
   "metadata": {},
   "source": [
    "#### Statistical significance of differences in order size with filtered data"
   ]
  },
  {
   "cell_type": "markdown",
   "metadata": {},
   "source": [
    "We'll filter the revenue data based on the cutoffs indicated above and rerun the tests to see if this made any differences in our test results. The 99th percentile cutoff for order sizes was 830.30."
   ]
  },
  {
   "cell_type": "code",
   "execution_count": 45,
   "metadata": {},
   "outputs": [],
   "source": [
    "# filter revenue data\n",
    "\n",
    "filtered_revenue_A = orders.query('(group == \"A\") & (revenue <= 830.3)')['revenue']\n",
    "filtered_revenue_B = orders.query('(group == \"B\") & (revenue <= 830.3)')['revenue']"
   ]
  },
  {
   "cell_type": "code",
   "execution_count": 46,
   "metadata": {},
   "outputs": [
    {
     "name": "stdout",
     "output_type": "stream",
     "text": [
      "Null hypothesis:\n",
      "     There is not a statistically significant difference in average order size between groups\n",
      "\n",
      "Alt hypothesis:\n",
      "     There is a statistically significant difference in average order size between groups\n",
      "\n",
      "Critical significance level (alpha): 0.05\n",
      "\n",
      "\n",
      "Test results:\n",
      "     P-value: 0.467\n",
      "     Relative difference: -3.12%\n"
     ]
    }
   ],
   "source": [
    "# run Mann-Whitney U test\n",
    "\n",
    "print('Null hypothesis:\\n     There is not a statistically significant difference in average order size between groups\\n')\n",
    "print('Alt hypothesis:\\n     There is a statistically significant difference in average order size between groups\\n')\n",
    "\n",
    "print('Critical significance level (alpha): 0.05\\n\\n')\n",
    "\n",
    "print('Test results:')\n",
    "\n",
    "print('     P-value: {0:.3f}'.format(stats.mannwhitneyu(filtered_revenue_A, filtered_revenue_B)[1]))\n",
    "print('     Relative difference: {0:.2f}%'.format((filtered_revenue_B.mean() / filtered_revenue_A.mean()-1) * 100)) "
   ]
  },
  {
   "cell_type": "markdown",
   "metadata": {},
   "source": [
    "##### Conclusion\n",
    "\n",
    "The p-value is still considerably higher than 0.05, so we still can't reject the null hypothesis and conclude that average order size differs between the groups. However, the difference in average order size has decreased drastically now that we have removed the the anomalies from both groups."
   ]
  },
  {
   "cell_type": "markdown",
   "metadata": {},
   "source": [
    "### Step 4: What Next?\n",
    "\n",
    "We're faced with 3 choices moving forward:\n",
    "1. Stop the test, consider one of the groups the leader\n",
    "2. Stop the test, conclude that there is no difference between the groups\n",
    "3. Continue the test\n",
    "\n",
    "The best option will be option 1 based on the data analyis carried out thus far. Group B outperformed group A in conversion rate by over 15% when filtering out unusually high order counts. The difference was proven to be statistically significant.\n",
    "\n",
    "We couldn't say the differences in average order sizes were statistically significant. And even if they were, when we filtered out the anomalies in order size, the difference dropped to under 3.1%. In that regard, the samples are similar. Either way, group B still has a higher conversion rate and we should investigate why this is the case and see if we can improve further."
   ]
  }
 ],
 "metadata": {
  "kernelspec": {
   "display_name": "Python 3",
   "language": "python",
   "name": "python3"
  },
  "language_info": {
   "codemirror_mode": {
    "name": "ipython",
    "version": 3
   },
   "file_extension": ".py",
   "mimetype": "text/x-python",
   "name": "python",
   "nbconvert_exporter": "python",
   "pygments_lexer": "ipython3",
   "version": "3.8.5"
  },
  "toc": {
   "base_numbering": 1,
   "nav_menu": {},
   "number_sections": true,
   "sideBar": true,
   "skip_h1_title": true,
   "title_cell": "Table of Contents",
   "title_sidebar": "Contents",
   "toc_cell": false,
   "toc_position": {},
   "toc_section_display": true,
   "toc_window_display": false
  }
 },
 "nbformat": 4,
 "nbformat_minor": 2
}
